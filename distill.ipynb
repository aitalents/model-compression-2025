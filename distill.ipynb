{
 "cells": [
  {
   "cell_type": "code",
   "execution_count": 1,
   "metadata": {},
   "outputs": [],
   "source": [
    "\n",
    "from pathlib import Path\n",
    "import torch, random, datasets, numpy as np, os\n",
    "from transformers import (\n",
    "    AutoModelForSpeechSeq2Seq,\n",
    "    AutoTokenizer,\n",
    "    WhisperConfig,\n",
    "    WhisperFeatureExtractor,\n",
    "    Seq2SeqTrainingArguments,\n",
    "    Seq2SeqTrainer,\n",
    ")\n",
    "\n",
    "seed = 42\n",
    "torch.manual_seed(seed)\n",
    "random.seed(seed)\n",
    "np.random.seed(seed)\n",
    "if hasattr(datasets, \"set_seed\"):      # ↓ старые версии datasets этого не имеют\n",
    "    datasets.set_seed(seed)\n",
    "\n",
    "teacher_id = \"openai/whisper-large-v3\"\n",
    "work_dir   = Path(\"distil_largev3_student\"); work_dir.mkdir(exist_ok=True)\n",
    "device     = \"cuda\" if torch.cuda.is_available() else \"cpu\"\n"
   ]
  },
  {
   "cell_type": "code",
   "execution_count": 2,
   "metadata": {},
   "outputs": [
    {
     "name": "stdout",
     "output_type": "stream",
     "text": [
      "Student 8‑layer decoder — params: 913.82272 M\n"
     ]
    }
   ],
   "source": [
    "# %% [code]  (замена старой ячейки 2)\n",
    "from transformers import AutoModelForSpeechSeq2Seq, WhisperConfig\n",
    "import torch\n",
    "\n",
    "teacher = AutoModelForSpeechSeq2Seq.from_pretrained(\n",
    "    teacher_id, torch_dtype=torch.float32\n",
    ").to(device).eval()\n",
    "\n",
    "cfg = WhisperConfig.from_pretrained(teacher_id).to_dict()\n",
    "cfg[\"decoder_layers\"] = 8                       # ← 8 вместо 2\n",
    "student_cfg = WhisperConfig(**cfg)\n",
    "student = AutoModelForSpeechSeq2Seq.from_config(student_cfg)\n",
    "\n",
    "# conv‑фронт\n",
    "for name in (\"conv1\", \"conv2\"):\n",
    "    getattr(student.model.encoder, name).load_state_dict(\n",
    "        getattr(teacher.model.encoder, name).state_dict()\n",
    "    )\n",
    "\n",
    "# копируем 4 слоя декодера (0,1,6,7)\n",
    "for tgt, src in zip([0,1,6,7], [0,1,-2,-1]):\n",
    "    student.model.decoder.layers[tgt].load_state_dict(\n",
    "        teacher.model.decoder.layers[src].state_dict()\n",
    "    )\n",
    "\n",
    "student = student.float(); teacher = teacher.float()\n",
    "\n",
    "# замораживаем энкодер — разморозим позже колбэком\n",
    "for p in student.model.encoder.parameters():\n",
    "    p.requires_grad = False\n",
    "\n",
    "student.to(device)\n",
    "print(\"Student 8‑layer decoder — params:\", sum(p.numel() for p in student.parameters())/1e6,\"M\")\n"
   ]
  },
  {
   "cell_type": "code",
   "execution_count": 3,
   "metadata": {},
   "outputs": [
    {
     "name": "stdout",
     "output_type": "stream",
     "text": [
      "собрано: train=28539,  val=100\n",
      "пример: THE EYES OF DUKES OF THE BLOOD ROYAL HAVE BEEN PLUCKED OUT F ...\n"
     ]
    }
   ],
   "source": [
    "# %% [code] — Ячейка 3 (целиком)\n",
    "\n",
    "import os, random, pathlib\n",
    "from datasets import Dataset, Audio\n",
    "\n",
    "def parse_transcripts(txt_path):\n",
    "    mapping = {}\n",
    "    with open(txt_path, \"r\", encoding=\"utf-8\") as f:\n",
    "        for line in f:\n",
    "            utt_id, text = line.strip().split(\" \", 1)\n",
    "            mapping[utt_id] = text\n",
    "    return mapping\n",
    "\n",
    "def collect_examples(subset_dir, max_items=None):\n",
    "    subset = pathlib.Path(subset_dir)\n",
    "    examples = []\n",
    "    for flac_path in subset.rglob(\"*.flac\"):\n",
    "        speaker = flac_path.parent.parent.name\n",
    "        chapter = flac_path.parent.name\n",
    "        trans_path = flac_path.parent / f\"{speaker}-{chapter}.trans.txt\"\n",
    "        if not trans_path.exists():\n",
    "            continue\n",
    "        transcripts = parse_transcripts(trans_path)\n",
    "        utt_id = flac_path.stem\n",
    "        if utt_id not in transcripts:\n",
    "            continue\n",
    "        examples.append({\"audio\": str(flac_path), \"text\": transcripts[utt_id]})\n",
    "        if max_items and len(examples) >= max_items:\n",
    "            break\n",
    "    return examples\n",
    "\n",
    "# ── каталоги с уже скачанными данными ─────────────────────────────\n",
    "DATA_ROOT = os.path.expanduser(\"~/librispeech_local\")\n",
    "TRAIN_DIR = os.path.join(DATA_ROOT, \"train-clean-100\")\n",
    "VAL_DIR   = os.path.join(DATA_ROOT, \"dev-clean\")\n",
    "\n",
    "# ►► ЗДЕСЬ изменение: берём ВСЁ train‑clean‑100 ◄◄\n",
    "train_examples = collect_examples(TRAIN_DIR, max_items=None)   # ≈ 28 000\n",
    "val_examples   = collect_examples(VAL_DIR,   max_items=100)\n",
    "\n",
    "print(f\"собрано: train={len(train_examples)},  val={len(val_examples)}\")\n",
    "\n",
    "random.shuffle(train_examples)\n",
    "\n",
    "train_ds = Dataset.from_list(train_examples).cast_column(\"audio\", Audio(sampling_rate=16000))\n",
    "val_ds   = Dataset.from_list(val_examples).cast_column(\"audio\",   Audio(sampling_rate=16000))\n",
    "\n",
    "print(\"пример:\", train_ds[0][\"text\"][:60], \"...\")\n"
   ]
  },
  {
   "cell_type": "code",
   "execution_count": 4,
   "metadata": {},
   "outputs": [
    {
     "data": {
      "application/vnd.jupyter.widget-view+json": {
       "model_id": "db662dd4c4a9497aa98e190c660c8176",
       "version_major": 2,
       "version_minor": 0
      },
      "text/plain": [
       "prep train:   0%|          | 0/28539 [00:00<?, ? examples/s]"
      ]
     },
     "metadata": {},
     "output_type": "display_data"
    },
    {
     "name": "stderr",
     "output_type": "stream",
     "text": [
      "Asking to truncate to max_length but no maximum length is provided and the model has no predefined maximum length. Default to no truncation.\n"
     ]
    },
    {
     "data": {
      "application/vnd.jupyter.widget-view+json": {
       "model_id": "defc2a79c41d43099a3b40f5ef70dd66",
       "version_major": 2,
       "version_minor": 0
      },
      "text/plain": [
       "prep val:   0%|          | 0/100 [00:00<?, ? examples/s]"
      ]
     },
     "metadata": {},
     "output_type": "display_data"
    }
   ],
   "source": [
    "# %% [code]  (полная замена prepare_batch)\n",
    "from transformers import AutoTokenizer, WhisperFeatureExtractor\n",
    "import torch, torch.nn.functional as F\n",
    "from torch.nn.utils.rnn import pad_sequence\n",
    "\n",
    "tokenizer         = AutoTokenizer.from_pretrained(teacher_id)\n",
    "feature_extractor = WhisperFeatureExtractor.from_pretrained(teacher_id)\n",
    "teacher.eval()\n",
    "\n",
    "def prepare_batch(batch):\n",
    "    # ----- mel‑фичи -------------------------------------------------\n",
    "    audio_list = batch[\"audio\"]            # list[dict{array, sampling_rate}]\n",
    "    feats = [\n",
    "        feature_extractor(a[\"array\"], sampling_rate=16000,\n",
    "                          return_tensors=\"pt\").input_features[0]\n",
    "        for a in audio_list\n",
    "    ]\n",
    "    max_T = max(f.shape[1] for f in feats)\n",
    "    feats_padded = torch.stack(\n",
    "        [F.pad(f, (0, max_T - f.shape[1])) for f in feats]\n",
    "    )                                       # (B, 128, T_max)\n",
    "\n",
    "    # ----- ground‑truth labels -------------------------------------\n",
    "    text_list = batch[\"text\"]               # list[str]\n",
    "    labels = tokenizer(\n",
    "        text_list,\n",
    "        return_tensors=\"pt\",\n",
    "        padding=True,\n",
    "        truncation=True\n",
    "    ).input_ids                              # (B, L)\n",
    "\n",
    "    return {\"input_features\": feats_padded, \"labels\": labels}\n",
    "\n",
    "\n",
    "train_ds = train_ds.map(\n",
    "    prepare_batch, batched=True, batch_size=32,\n",
    "    remove_columns=train_ds.column_names, num_proc=1,\n",
    "    desc=\"prep train\"\n",
    ")\n",
    "val_ds = val_ds.map(\n",
    "    prepare_batch, batched=True, batch_size=32,\n",
    "    remove_columns=val_ds.column_names, num_proc=1,\n",
    "    desc=\"prep val\"\n",
    ")\n",
    "train_ds.set_format(type=\"torch\"); val_ds.set_format(type=\"torch\")\n"
   ]
  },
  {
   "cell_type": "code",
   "execution_count": 7,
   "metadata": {},
   "outputs": [],
   "source": [
    "# %% [code]\n",
    "class WhisperDataCollator:\n",
    "    def __init__(self, feat_extractor, tokenizer, fp16=True):\n",
    "        self.fe = feat_extractor\n",
    "        self.tok = tokenizer\n",
    "        self.pad = tokenizer.pad_token_id\n",
    "        self.fp16 = fp16\n",
    "    def __call__(self, batch):\n",
    "        feats = [b[\"input_features\"] for b in batch]\n",
    "        audio = self.fe.pad({\"input_features\": feats}, padding=\"longest\", return_tensors=\"pt\")[\"input_features\"]\n",
    "        if self.fp16:\n",
    "            audio = audio.to(torch.float16)\n",
    "        labels = self.tok.pad({\"input_ids\": [b[\"labels\"] for b in batch]},\n",
    "                              padding=\"longest\", return_tensors=\"pt\")[\"input_ids\"]\n",
    "        labels[labels == self.pad] = -100\n",
    "        return {\"input_features\": audio, \"labels\": labels}\n",
    "\n",
    "data_collator = WhisperDataCollator(\n",
    "    feature_extractor,\n",
    "    tokenizer,\n",
    "    fp16=False        # ← не трогаем dtype\n",
    ")\n"
   ]
  },
  {
   "cell_type": "code",
   "execution_count": 15,
   "metadata": {},
   "outputs": [],
   "source": [
    "def shift_tokens_right(labels, bos_id, pad_id):\n",
    "    \"\"\"\n",
    "    labels:  (B, L)  с ‑100 на masked позициях\n",
    "    returns: (B, L)  decoder_input_ids\n",
    "    \"\"\"\n",
    "    # replace -100 -> pad, затем сдвинуть и вставить BOS\n",
    "    shifted = labels.clone()\n",
    "    shifted[shifted == -100] = pad_id\n",
    "    shifted = torch.cat(\n",
    "        [torch.full((shifted.size(0), 1),\n",
    "                    bos_id, dtype=shifted.dtype, device=shifted.device),\n",
    "         shifted[:, :-1]],\n",
    "        dim=1,\n",
    "    )\n",
    "    return shifted\n"
   ]
  },
  {
   "cell_type": "code",
   "execution_count": 16,
   "metadata": {},
   "outputs": [],
   "source": [
    "# %% [code]  (замена DistillSeq2SeqTrainer)\n",
    "from transformers import Seq2SeqTrainer, TrainerCallback\n",
    "import torch.nn.functional as F\n",
    "\n",
    "class DistillSeq2SeqTrainer(Seq2SeqTrainer):\n",
    "    def __init__(self, *args, teacher_model, alpha_kd=0.3, **kw):\n",
    "        super().__init__(*args, **kw)\n",
    "        self.teacher   = teacher_model.eval()\n",
    "        self.alpha_kd  = alpha_kd\n",
    "\n",
    "    def compute_loss(\n",
    "        self, model, inputs, return_outputs=False, num_items_in_batch=None\n",
    "    ):\n",
    "        labels = inputs.pop(\"labels\")\n",
    "        feats  = inputs[\"input_features\"]\n",
    "\n",
    "        # ---- decoder_input_ids ---------------------------------------\n",
    "        dec_in = shift_tokens_right(\n",
    "            labels,\n",
    "            bos_id = self.tokenizer.bos_token_id,   # 50257\n",
    "            pad_id = self.tokenizer.pad_token_id    # 50257\n",
    "        )\n",
    "\n",
    "        # ---- forward --------------------------------------------------\n",
    "        st_out = model(input_features=feats, decoder_input_ids=dec_in)\n",
    "\n",
    "        # ---- KD logits (teacher) -------------------------------------\n",
    "        with torch.no_grad():\n",
    "            tch_out = self.teacher(input_features=feats, decoder_input_ids=dec_in)\n",
    "\n",
    "        kd = F.kl_div(\n",
    "            F.log_softmax(st_out.logits / 2.0, -1),\n",
    "            F.softmax(  tch_out.logits / 2.0, -1),\n",
    "            reduction=\"batchmean\"\n",
    "        ) * 4.0\n",
    "\n",
    "        ce = F.cross_entropy(\n",
    "            st_out.logits.view(-1, st_out.logits.size(-1)),\n",
    "            labels.view(-1), ignore_index=-100\n",
    "        )\n",
    "\n",
    "        loss = (1 - self.alpha_kd)*ce + self.alpha_kd*kd\n",
    "        return (loss, st_out) if return_outputs else loss\n",
    "\n",
    "\n",
    "class UnfreezeEncoder(TrainerCallback):\n",
    "    \"Разморозить энкодер после первой эпохи\"\n",
    "    def on_epoch_end(self, args, state, control, **kw):\n",
    "        if state.epoch == 1:\n",
    "            for p in kw[\"model\"].model.encoder.parameters():\n",
    "                p.requires_grad = True\n",
    "            print(\"\\nEncoder unfrozen → fine‑tune everything\")\n",
    "\n"
   ]
  },
  {
   "cell_type": "code",
   "execution_count": 9,
   "metadata": {},
   "outputs": [],
   "source": [
    "# %% [code]\n",
    "from transformers import Seq2SeqTrainingArguments   # можно и TrainingArguments\n",
    "\n",
    "training_args = Seq2SeqTrainingArguments(\n",
    "    output_dir=work_dir,\n",
    "    per_device_train_batch_size=2,      # VRAM ~18GB\n",
    "    gradient_accumulation_steps=16,      # effective 32\n",
    "    num_train_epochs=6,\n",
    "    learning_rate=1e-4,\n",
    "    warmup_steps=1000,\n",
    "    lr_scheduler_type=\"cosine\",\n",
    "    eval_strategy=\"epoch\",\n",
    "    save_strategy=\"epoch\",\n",
    "    logging_steps=200,\n",
    "    fp16=False,\n",
    "    gradient_checkpointing=True,\n",
    "    report_to=\"none\",\n",
    ")\n",
    "\n",
    "\n"
   ]
  },
  {
   "cell_type": "code",
   "execution_count": 21,
   "metadata": {},
   "outputs": [],
   "source": [
    "import torch, gc; gc.collect(); torch.cuda.empty_cache()\n"
   ]
  },
  {
   "cell_type": "code",
   "execution_count": 24,
   "metadata": {},
   "outputs": [],
   "source": [
    "from transformers.utils import logging as hf_logging\n",
    "hf_logging.set_verbosity_error()      # только ошибки\n"
   ]
  },
  {
   "cell_type": "code",
   "execution_count": 25,
   "metadata": {},
   "outputs": [
    {
     "data": {
      "text/html": [
       "\n",
       "    <div>\n",
       "      \n",
       "      <progress value='5346' max='5346' style='width:300px; height:20px; vertical-align: middle;'></progress>\n",
       "      [5346/5346 8:57:55, Epoch 5/6]\n",
       "    </div>\n",
       "    <table border=\"1\" class=\"dataframe\">\n",
       "  <thead>\n",
       " <tr style=\"text-align: left;\">\n",
       "      <th>Epoch</th>\n",
       "      <th>Training Loss</th>\n",
       "      <th>Validation Loss</th>\n",
       "    </tr>\n",
       "  </thead>\n",
       "  <tbody>\n",
       "    <tr>\n",
       "      <td>0</td>\n",
       "      <td>43.792400</td>\n",
       "      <td>36.114197</td>\n",
       "    </tr>\n",
       "    <tr>\n",
       "      <td>1</td>\n",
       "      <td>37.583000</td>\n",
       "      <td>32.073261</td>\n",
       "    </tr>\n",
       "    <tr>\n",
       "      <td>2</td>\n",
       "      <td>34.106200</td>\n",
       "      <td>29.661638</td>\n",
       "    </tr>\n",
       "    <tr>\n",
       "      <td>3</td>\n",
       "      <td>32.248400</td>\n",
       "      <td>28.316227</td>\n",
       "    </tr>\n",
       "    <tr>\n",
       "      <td>4</td>\n",
       "      <td>30.564000</td>\n",
       "      <td>28.063118</td>\n",
       "    </tr>\n",
       "    <tr>\n",
       "      <td>5</td>\n",
       "      <td>29.802000</td>\n",
       "      <td>28.044121</td>\n",
       "    </tr>\n",
       "  </tbody>\n",
       "</table><p>"
      ],
      "text/plain": [
       "<IPython.core.display.HTML object>"
      ]
     },
     "metadata": {},
     "output_type": "display_data"
    },
    {
     "name": "stderr",
     "output_type": "stream",
     "text": [
      "/home/ubuntu/miniconda3/envs/model-compression/lib/python3.12/site-packages/transformers/modeling_utils.py:3339: UserWarning: Moving the following attributes in the config to the generation config: {'max_length': 448, 'begin_suppress_tokens': [220, 50257]}. You are seeing this warning because you've set generation parameters in the model config, as opposed to in the generation config.\n",
      "  warnings.warn(\n",
      "/home/ubuntu/miniconda3/envs/model-compression/lib/python3.12/site-packages/torch/utils/checkpoint.py:87: UserWarning: None of the inputs have requires_grad=True. Gradients will be None\n",
      "  warnings.warn(\n",
      "/home/ubuntu/miniconda3/envs/model-compression/lib/python3.12/site-packages/torch/utils/checkpoint.py:87: UserWarning: None of the inputs have requires_grad=True. Gradients will be None\n",
      "  warnings.warn(\n",
      "/home/ubuntu/miniconda3/envs/model-compression/lib/python3.12/site-packages/torch/utils/checkpoint.py:87: UserWarning: None of the inputs have requires_grad=True. Gradients will be None\n",
      "  warnings.warn(\n",
      "/home/ubuntu/miniconda3/envs/model-compression/lib/python3.12/site-packages/torch/utils/checkpoint.py:87: UserWarning: None of the inputs have requires_grad=True. Gradients will be None\n",
      "  warnings.warn(\n",
      "/home/ubuntu/miniconda3/envs/model-compression/lib/python3.12/site-packages/torch/utils/checkpoint.py:87: UserWarning: None of the inputs have requires_grad=True. Gradients will be None\n",
      "  warnings.warn(\n"
     ]
    }
   ],
   "source": [
    "trainer = DistillSeq2SeqTrainer(\n",
    "    model           = student,\n",
    "    args            = training_args,\n",
    "    train_dataset   = train_ds,\n",
    "    eval_dataset    = val_ds,\n",
    "    processing_class= tokenizer,      # <-- новый аргумент\n",
    "    data_collator   = data_collator,\n",
    "    teacher_model   = teacher,\n",
    "    callbacks       = [UnfreezeEncoder()],\n",
    ")\n",
    "trainer.train()\n",
    "trainer.save_model(work_dir / \"checkpoint-final\")\n"
   ]
  },
  {
   "cell_type": "code",
   "execution_count": 26,
   "metadata": {},
   "outputs": [
    {
     "name": "stdout",
     "output_type": "stream",
     "text": [
      "bench shape: torch.Size([20, 128, 3000])\n"
     ]
    }
   ],
   "source": [
    "# %% [code]\n",
    "import torch, time, psutil, os, gc\n",
    "from datasets import Dataset, Audio\n",
    "\n",
    "# 30 секунд тестового аудио (берём любые 20 примеров val_ds)\n",
    "bench_ds = val_ds.select(range(20))\n",
    "BATCH = feature_extractor.pad(\n",
    "    {\"input_features\": [ex[\"input_features\"] for ex in bench_ds]},\n",
    "    padding=\"longest\", return_tensors=\"pt\"\n",
    ")[\"input_features\"].to(student.device)\n",
    "\n",
    "print(\"bench shape:\", BATCH.shape)    # (B, 128, T_max)\n"
   ]
  },
  {
   "cell_type": "code",
   "execution_count": 27,
   "metadata": {},
   "outputs": [
    {
     "name": "stdout",
     "output_type": "stream",
     "text": [
      "Model                                Size (MB)\n",
      "------------------------------------------------\n",
      "Teacher large‑v3                        6174\n",
      "6‑layer student                         3655\n"
     ]
    }
   ],
   "source": [
    "# %% [code]\n",
    "def model_size_mb(model):\n",
    "    return sum(p.numel()*4 for p in model.parameters()) / 1e6  # fp32=4 байта\n",
    "\n",
    "print(f\"{'Model':35}  Size (MB)\")\n",
    "print(\"-\"*48)\n",
    "print(f\"{'Teacher large‑v3':35}  {model_size_mb(teacher):7.0f}\")\n",
    "print(f\"{'6‑layer student':35}  {model_size_mb(student):7.0f}\")\n"
   ]
  },
  {
   "cell_type": "code",
   "execution_count": 28,
   "metadata": {},
   "outputs": [
    {
     "name": "stdout",
     "output_type": "stream",
     "text": [
      "GPU latency per batch (ms):  teacher 3894.9   student 1547.0\n",
      "Current VRAM (MB): 12546.884096\n"
     ]
    }
   ],
   "source": [
    "# %% [code]\n",
    "def bench(model, batch, n_rep=5):\n",
    "    torch.cuda.empty_cache(); gc.collect()\n",
    "    # прогрев\n",
    "    with torch.no_grad():\n",
    "        _ = model.generate(batch, max_new_tokens=128, num_beams=1)\n",
    "    torch.cuda.synchronize()\n",
    "    t0 = time.perf_counter()\n",
    "    with torch.no_grad():\n",
    "        for _ in range(n_rep):\n",
    "            _ = model.generate(batch, max_new_tokens=128, num_beams=1)\n",
    "    torch.cuda.synchronize()\n",
    "    return (time.perf_counter()-t0)/n_rep*1000   # ms\n",
    "\n",
    "lat_gpu_teacher  = bench(teacher,  BATCH, n_rep=3)\n",
    "lat_gpu_student  = bench(student,  BATCH, n_rep=3)\n",
    "\n",
    "print(f\"GPU latency per batch (ms):  teacher {lat_gpu_teacher:6.1f}   student {lat_gpu_student:6.1f}\")\n",
    "print(\"Current VRAM (MB):\", torch.cuda.memory_allocated()/1e6)\n"
   ]
  },
  {
   "cell_type": "code",
   "execution_count": 29,
   "metadata": {},
   "outputs": [
    {
     "name": "stdout",
     "output_type": "stream",
     "text": [
      "Loading teacher...\n",
      "Loading student...\n",
      "Models ready  →  teacher layers: 32   student layers: 8\n"
     ]
    }
   ],
   "source": [
    "# %% [code]  — restore models, tokenizer, feature_extractor\n",
    "\n",
    "from pathlib import Path\n",
    "import torch, os\n",
    "from transformers import (\n",
    "    AutoModelForSpeechSeq2Seq,\n",
    "    AutoTokenizer,\n",
    "    WhisperFeatureExtractor,\n",
    ")\n",
    "\n",
    "device      = \"cuda\" if torch.cuda.is_available() else \"cpu\"\n",
    "teacher_id  = \"openai/whisper-large-v3\"          # при желании укажите local path\n",
    "\n",
    "# директория, куда мы ранее сохраняли финальный чек‑пойнт студента\n",
    "work_dir    = Path(\"distil_largev3_student\")\n",
    "student_ckpt= work_dir / \"checkpoint-final\"\n",
    "\n",
    "# ---------- загрузка ----------\n",
    "print(\"Loading teacher...\")\n",
    "teacher  = AutoModelForSpeechSeq2Seq.from_pretrained(\n",
    "    teacher_id, torch_dtype=torch.float32\n",
    ").to(device).eval()\n",
    "\n",
    "print(\"Loading student...\")\n",
    "student  = AutoModelForSpeechSeq2Seq.from_pretrained(\n",
    "    student_ckpt, torch_dtype=torch.float32\n",
    ").to(device).eval()\n",
    "\n",
    "tokenizer         = AutoTokenizer.from_pretrained(teacher_id)\n",
    "feature_extractor = WhisperFeatureExtractor.from_pretrained(teacher_id)\n",
    "\n",
    "print(\"Models ready  →  teacher layers:\",\n",
    "      teacher.config.decoder_layers, \"  student layers:\",\n",
    "      student.config.decoder_layers)\n"
   ]
  },
  {
   "cell_type": "code",
   "execution_count": 30,
   "metadata": {},
   "outputs": [
    {
     "name": "stdout",
     "output_type": "stream",
     "text": [
      "Loaded GT examples: 100\n"
     ]
    },
    {
     "data": {
      "application/vnd.jupyter.widget-view+json": {
       "model_id": "23c7640ccb6e4eb080d733b2f94a1606",
       "version_major": 2,
       "version_minor": 0
      },
      "text/plain": [
       "32-layer:   0%|          | 0/100 [00:00<?, ?it/s]"
      ]
     },
     "metadata": {},
     "output_type": "display_data"
    },
    {
     "name": "stdout",
     "output_type": "stream",
     "text": [
      "WER teacher : 8.74%\n"
     ]
    },
    {
     "data": {
      "application/vnd.jupyter.widget-view+json": {
       "model_id": "d5efb608d8d54dcba25bdb5a6d65b4d3",
       "version_major": 2,
       "version_minor": 0
      },
      "text/plain": [
       "8-layer:   0%|          | 0/100 [00:00<?, ?it/s]"
      ]
     },
     "metadata": {},
     "output_type": "display_data"
    },
    {
     "name": "stdout",
     "output_type": "stream",
     "text": [
      "WER student : 96.57%\n"
     ]
    }
   ],
   "source": [
    "# %% [code]  — WER по real‑GT (dev‑clean) с корректным generate\n",
    "\n",
    "from datasets import Dataset, Audio\n",
    "from jiwer import wer\n",
    "from tqdm.notebook import tqdm\n",
    "import torch, os, pathlib\n",
    "\n",
    "# ---------- 1. собираем 100 примеров dev‑clean локально -------------\n",
    "DATA_ROOT = os.path.expanduser(\"~/librispeech_local\")\n",
    "DEV_DIR   = os.path.join(DATA_ROOT, \"dev-clean\")\n",
    "\n",
    "def parse_transcripts(p):\n",
    "    with open(p, \"r\", encoding=\"utf-8\") as f:\n",
    "        return dict(line.strip().split(\" \", 1) for line in f)\n",
    "\n",
    "ex = []\n",
    "for flac in pathlib.Path(DEV_DIR).rglob(\"*.flac\"):\n",
    "    spk = flac.parent.parent.name\n",
    "    chap = flac.parent.name\n",
    "    txt  = parse_transcripts(flac.parent / f\"{spk}-{chap}.trans.txt\")\n",
    "    if flac.stem in txt:\n",
    "        ex.append({\"audio\": str(flac), \"text\": txt[flac.stem]})\n",
    "        if len(ex) == 100:\n",
    "            break\n",
    "\n",
    "gt_val = Dataset.from_list(ex).cast_column(\"audio\", Audio(sampling_rate=16000))\n",
    "print(\"Loaded GT examples:\", len(gt_val))\n",
    "\n",
    "# ---------- 2. функция WER -----------------------------------------\n",
    "def wer_on_gt(ds, model):\n",
    "    refs, hyps = [], []\n",
    "    for ex in tqdm(ds, total=len(ds), desc=f\"{model.config.decoder_layers}-layer\"):\n",
    "        feats = feature_extractor(\n",
    "            ex[\"audio\"][\"array\"], sampling_rate=16000, return_tensors=\"pt\"\n",
    "        ).input_features.to(model.device)\n",
    "\n",
    "        attn = torch.ones(feats.shape[:-1], dtype=torch.long, device=feats.device)\n",
    "\n",
    "        with torch.no_grad():\n",
    "            ids = model.generate(\n",
    "                feats,\n",
    "                attention_mask=attn,\n",
    "                max_new_tokens=128,\n",
    "                num_beams=1,              # greedy\n",
    "            )[0]\n",
    "\n",
    "        hyps.append(tokenizer.decode(ids, skip_special_tokens=True).lower())\n",
    "        refs.append(ex[\"text\"].lower())\n",
    "    return wer(refs, hyps)\n",
    "\n",
    "# ---------- 3. вывод -----------------------------------------------\n",
    "print(f\"WER teacher : {wer_on_gt(gt_val, teacher)*100:.2f}%\")\n",
    "print(f\"WER student : {wer_on_gt(gt_val, student)*100:.2f}%\")\n"
   ]
  }
 ],
 "metadata": {
  "kernelspec": {
   "display_name": "model-compression",
   "language": "python",
   "name": "python3"
  },
  "language_info": {
   "codemirror_mode": {
    "name": "ipython",
    "version": 3
   },
   "file_extension": ".py",
   "mimetype": "text/x-python",
   "name": "python",
   "nbconvert_exporter": "python",
   "pygments_lexer": "ipython3",
   "version": "3.12.9"
  }
 },
 "nbformat": 4,
 "nbformat_minor": 2
}
