{
 "cells": [
  {
   "cell_type": "code",
   "execution_count": null,
   "metadata": {
    "execution": {
     "iopub.execute_input": "2025-05-16T10:16:48.765800Z",
     "iopub.status.busy": "2025-05-16T10:16:48.765126Z",
     "iopub.status.idle": "2025-05-16T10:18:19.811066Z",
     "shell.execute_reply": "2025-05-16T10:18:19.810147Z",
     "shell.execute_reply.started": "2025-05-16T10:16:48.765763Z"
    },
    "trusted": true
   },
   "outputs": [
    {
     "name": "stdout",
     "output_type": "stream",
     "text": [
      "Collecting eager\n",
      "  Downloading eager-0.0.1.tar.gz (2.6 kB)\n",
      "  Preparing metadata (setup.py) ... \u001b[?25l\u001b[?25hdone\n",
      "Requirement already satisfied: timm in /usr/local/lib/python3.11/dist-packages (1.0.15)\n",
      "Collecting onnxruntime-gpu\n",
      "  Downloading onnxruntime_gpu-1.22.0-cp311-cp311-manylinux_2_27_x86_64.manylinux_2_28_x86_64.whl.metadata (4.9 kB)\n",
      "Collecting optimum[onnxruntime]\n",
      "  Downloading optimum-1.25.2-py3-none-any.whl.metadata (16 kB)\n",
      "Requirement already satisfied: transformers>=4.29 in /usr/local/lib/python3.11/dist-packages (from optimum[onnxruntime]) (4.51.3)\n",
      "Requirement already satisfied: torch>=1.11 in /usr/local/lib/python3.11/dist-packages (from optimum[onnxruntime]) (2.6.0+cu124)\n",
      "Requirement already satisfied: packaging in /usr/local/lib/python3.11/dist-packages (from optimum[onnxruntime]) (25.0)\n",
      "Requirement already satisfied: numpy in /usr/local/lib/python3.11/dist-packages (from optimum[onnxruntime]) (1.26.4)\n",
      "Requirement already satisfied: huggingface_hub>=0.8.0 in /usr/local/lib/python3.11/dist-packages (from optimum[onnxruntime]) (0.31.1)\n",
      "Requirement already satisfied: onnx in /usr/local/lib/python3.11/dist-packages (from optimum[onnxruntime]) (1.17.0)\n",
      "Requirement already satisfied: datasets>=1.2.1 in /usr/local/lib/python3.11/dist-packages (from optimum[onnxruntime]) (3.6.0)\n",
      "Requirement already satisfied: protobuf>=3.20.1 in /usr/local/lib/python3.11/dist-packages (from optimum[onnxruntime]) (3.20.3)\n",
      "Collecting onnxruntime>=1.11.0 (from optimum[onnxruntime])\n",
      "  Downloading onnxruntime-1.22.0-cp311-cp311-manylinux_2_27_x86_64.manylinux_2_28_x86_64.whl.metadata (4.5 kB)\n",
      "Requirement already satisfied: torchvision in /usr/local/lib/python3.11/dist-packages (from timm) (0.21.0+cu124)\n",
      "Requirement already satisfied: pyyaml in /usr/local/lib/python3.11/dist-packages (from timm) (6.0.2)\n",
      "Requirement already satisfied: safetensors in /usr/local/lib/python3.11/dist-packages (from timm) (0.5.3)\n",
      "Collecting coloredlogs (from onnxruntime-gpu)\n",
      "  Downloading coloredlogs-15.0.1-py2.py3-none-any.whl.metadata (12 kB)\n",
      "Requirement already satisfied: flatbuffers in /usr/local/lib/python3.11/dist-packages (from onnxruntime-gpu) (25.2.10)\n",
      "Requirement already satisfied: sympy in /usr/local/lib/python3.11/dist-packages (from onnxruntime-gpu) (1.13.1)\n",
      "Requirement already satisfied: filelock in /usr/local/lib/python3.11/dist-packages (from datasets>=1.2.1->optimum[onnxruntime]) (3.18.0)\n",
      "Requirement already satisfied: pyarrow>=15.0.0 in /usr/local/lib/python3.11/dist-packages (from datasets>=1.2.1->optimum[onnxruntime]) (19.0.1)\n",
      "Requirement already satisfied: dill<0.3.9,>=0.3.0 in /usr/local/lib/python3.11/dist-packages (from datasets>=1.2.1->optimum[onnxruntime]) (0.3.8)\n",
      "Requirement already satisfied: pandas in /usr/local/lib/python3.11/dist-packages (from datasets>=1.2.1->optimum[onnxruntime]) (2.2.3)\n",
      "Requirement already satisfied: requests>=2.32.2 in /usr/local/lib/python3.11/dist-packages (from datasets>=1.2.1->optimum[onnxruntime]) (2.32.3)\n",
      "Requirement already satisfied: tqdm>=4.66.3 in /usr/local/lib/python3.11/dist-packages (from datasets>=1.2.1->optimum[onnxruntime]) (4.67.1)\n",
      "Requirement already satisfied: xxhash in /usr/local/lib/python3.11/dist-packages (from datasets>=1.2.1->optimum[onnxruntime]) (3.5.0)\n",
      "Requirement already satisfied: multiprocess<0.70.17 in /usr/local/lib/python3.11/dist-packages (from datasets>=1.2.1->optimum[onnxruntime]) (0.70.16)\n",
      "Collecting fsspec<=2025.3.0,>=2023.1.0 (from fsspec[http]<=2025.3.0,>=2023.1.0->datasets>=1.2.1->optimum[onnxruntime])\n",
      "  Downloading fsspec-2025.3.0-py3-none-any.whl.metadata (11 kB)\n",
      "Requirement already satisfied: typing-extensions>=3.7.4.3 in /usr/local/lib/python3.11/dist-packages (from huggingface_hub>=0.8.0->optimum[onnxruntime]) (4.13.2)\n",
      "Requirement already satisfied: hf-xet<2.0.0,>=1.1.0 in /usr/local/lib/python3.11/dist-packages (from huggingface_hub>=0.8.0->optimum[onnxruntime]) (1.1.0)\n",
      "Requirement already satisfied: mkl_fft in /usr/local/lib/python3.11/dist-packages (from numpy->optimum[onnxruntime]) (1.3.8)\n",
      "Requirement already satisfied: mkl_random in /usr/local/lib/python3.11/dist-packages (from numpy->optimum[onnxruntime]) (1.2.4)\n",
      "Requirement already satisfied: mkl_umath in /usr/local/lib/python3.11/dist-packages (from numpy->optimum[onnxruntime]) (0.1.1)\n",
      "Requirement already satisfied: mkl in /usr/local/lib/python3.11/dist-packages (from numpy->optimum[onnxruntime]) (2025.1.0)\n",
      "Requirement already satisfied: tbb4py in /usr/local/lib/python3.11/dist-packages (from numpy->optimum[onnxruntime]) (2022.1.0)\n",
      "Requirement already satisfied: mkl-service in /usr/local/lib/python3.11/dist-packages (from numpy->optimum[onnxruntime]) (2.4.1)\n",
      "Requirement already satisfied: networkx in /usr/local/lib/python3.11/dist-packages (from torch>=1.11->optimum[onnxruntime]) (3.4.2)\n",
      "Requirement already satisfied: jinja2 in /usr/local/lib/python3.11/dist-packages (from torch>=1.11->optimum[onnxruntime]) (3.1.6)\n",
      "Requirement already satisfied: nvidia-cuda-nvrtc-cu12==12.4.127 in /usr/local/lib/python3.11/dist-packages (from torch>=1.11->optimum[onnxruntime]) (12.4.127)\n",
      "Requirement already satisfied: nvidia-cuda-runtime-cu12==12.4.127 in /usr/local/lib/python3.11/dist-packages (from torch>=1.11->optimum[onnxruntime]) (12.4.127)\n",
      "Requirement already satisfied: nvidia-cuda-cupti-cu12==12.4.127 in /usr/local/lib/python3.11/dist-packages (from torch>=1.11->optimum[onnxruntime]) (12.4.127)\n",
      "Collecting nvidia-cudnn-cu12==9.1.0.70 (from torch>=1.11->optimum[onnxruntime])\n",
      "  Downloading nvidia_cudnn_cu12-9.1.0.70-py3-none-manylinux2014_x86_64.whl.metadata (1.6 kB)\n",
      "Collecting nvidia-cublas-cu12==12.4.5.8 (from torch>=1.11->optimum[onnxruntime])\n",
      "  Downloading nvidia_cublas_cu12-12.4.5.8-py3-none-manylinux2014_x86_64.whl.metadata (1.5 kB)\n",
      "Collecting nvidia-cufft-cu12==11.2.1.3 (from torch>=1.11->optimum[onnxruntime])\n",
      "  Downloading nvidia_cufft_cu12-11.2.1.3-py3-none-manylinux2014_x86_64.whl.metadata (1.5 kB)\n",
      "Collecting nvidia-curand-cu12==10.3.5.147 (from torch>=1.11->optimum[onnxruntime])\n",
      "  Downloading nvidia_curand_cu12-10.3.5.147-py3-none-manylinux2014_x86_64.whl.metadata (1.5 kB)\n",
      "Collecting nvidia-cusolver-cu12==11.6.1.9 (from torch>=1.11->optimum[onnxruntime])\n",
      "  Downloading nvidia_cusolver_cu12-11.6.1.9-py3-none-manylinux2014_x86_64.whl.metadata (1.6 kB)\n",
      "Collecting nvidia-cusparse-cu12==12.3.1.170 (from torch>=1.11->optimum[onnxruntime])\n",
      "  Downloading nvidia_cusparse_cu12-12.3.1.170-py3-none-manylinux2014_x86_64.whl.metadata (1.6 kB)\n",
      "Requirement already satisfied: nvidia-cusparselt-cu12==0.6.2 in /usr/local/lib/python3.11/dist-packages (from torch>=1.11->optimum[onnxruntime]) (0.6.2)\n",
      "Requirement already satisfied: nvidia-nccl-cu12==2.21.5 in /usr/local/lib/python3.11/dist-packages (from torch>=1.11->optimum[onnxruntime]) (2.21.5)\n",
      "Requirement already satisfied: nvidia-nvtx-cu12==12.4.127 in /usr/local/lib/python3.11/dist-packages (from torch>=1.11->optimum[onnxruntime]) (12.4.127)\n",
      "Collecting nvidia-nvjitlink-cu12==12.4.127 (from torch>=1.11->optimum[onnxruntime])\n",
      "  Downloading nvidia_nvjitlink_cu12-12.4.127-py3-none-manylinux2014_x86_64.whl.metadata (1.5 kB)\n",
      "Requirement already satisfied: triton==3.2.0 in /usr/local/lib/python3.11/dist-packages (from torch>=1.11->optimum[onnxruntime]) (3.2.0)\n",
      "Requirement already satisfied: mpmath<1.4,>=1.1.0 in /usr/local/lib/python3.11/dist-packages (from sympy->onnxruntime-gpu) (1.3.0)\n",
      "Requirement already satisfied: regex!=2019.12.17 in /usr/local/lib/python3.11/dist-packages (from transformers>=4.29->optimum[onnxruntime]) (2024.11.6)\n",
      "Requirement already satisfied: tokenizers<0.22,>=0.21 in /usr/local/lib/python3.11/dist-packages (from transformers>=4.29->optimum[onnxruntime]) (0.21.1)\n",
      "Collecting humanfriendly>=9.1 (from coloredlogs->onnxruntime-gpu)\n",
      "  Downloading humanfriendly-10.0-py2.py3-none-any.whl.metadata (9.2 kB)\n",
      "Requirement already satisfied: pillow!=8.3.*,>=5.3.0 in /usr/local/lib/python3.11/dist-packages (from torchvision->timm) (11.1.0)\n",
      "Requirement already satisfied: aiohttp!=4.0.0a0,!=4.0.0a1 in /usr/local/lib/python3.11/dist-packages (from fsspec[http]<=2025.3.0,>=2023.1.0->datasets>=1.2.1->optimum[onnxruntime]) (3.11.18)\n",
      "Requirement already satisfied: charset-normalizer<4,>=2 in /usr/local/lib/python3.11/dist-packages (from requests>=2.32.2->datasets>=1.2.1->optimum[onnxruntime]) (3.4.2)\n",
      "Requirement already satisfied: idna<4,>=2.5 in /usr/local/lib/python3.11/dist-packages (from requests>=2.32.2->datasets>=1.2.1->optimum[onnxruntime]) (3.10)\n",
      "Requirement already satisfied: urllib3<3,>=1.21.1 in /usr/local/lib/python3.11/dist-packages (from requests>=2.32.2->datasets>=1.2.1->optimum[onnxruntime]) (2.4.0)\n",
      "Requirement already satisfied: certifi>=2017.4.17 in /usr/local/lib/python3.11/dist-packages (from requests>=2.32.2->datasets>=1.2.1->optimum[onnxruntime]) (2025.4.26)\n",
      "Requirement already satisfied: MarkupSafe>=2.0 in /usr/local/lib/python3.11/dist-packages (from jinja2->torch>=1.11->optimum[onnxruntime]) (3.0.2)\n",
      "Requirement already satisfied: intel-openmp<2026,>=2024 in /usr/local/lib/python3.11/dist-packages (from mkl->numpy->optimum[onnxruntime]) (2024.2.0)\n",
      "Requirement already satisfied: tbb==2022.* in /usr/local/lib/python3.11/dist-packages (from mkl->numpy->optimum[onnxruntime]) (2022.1.0)\n",
      "Requirement already satisfied: tcmlib==1.* in /usr/local/lib/python3.11/dist-packages (from tbb==2022.*->mkl->numpy->optimum[onnxruntime]) (1.3.0)\n",
      "Requirement already satisfied: intel-cmplr-lib-rt in /usr/local/lib/python3.11/dist-packages (from mkl_umath->numpy->optimum[onnxruntime]) (2024.2.0)\n",
      "Requirement already satisfied: python-dateutil>=2.8.2 in /usr/local/lib/python3.11/dist-packages (from pandas->datasets>=1.2.1->optimum[onnxruntime]) (2.9.0.post0)\n",
      "Requirement already satisfied: pytz>=2020.1 in /usr/local/lib/python3.11/dist-packages (from pandas->datasets>=1.2.1->optimum[onnxruntime]) (2025.2)\n",
      "Requirement already satisfied: tzdata>=2022.7 in /usr/local/lib/python3.11/dist-packages (from pandas->datasets>=1.2.1->optimum[onnxruntime]) (2025.2)\n",
      "Requirement already satisfied: aiohappyeyeballs>=2.3.0 in /usr/local/lib/python3.11/dist-packages (from aiohttp!=4.0.0a0,!=4.0.0a1->fsspec[http]<=2025.3.0,>=2023.1.0->datasets>=1.2.1->optimum[onnxruntime]) (2.6.1)\n",
      "Requirement already satisfied: aiosignal>=1.1.2 in /usr/local/lib/python3.11/dist-packages (from aiohttp!=4.0.0a0,!=4.0.0a1->fsspec[http]<=2025.3.0,>=2023.1.0->datasets>=1.2.1->optimum[onnxruntime]) (1.3.2)\n",
      "Requirement already satisfied: attrs>=17.3.0 in /usr/local/lib/python3.11/dist-packages (from aiohttp!=4.0.0a0,!=4.0.0a1->fsspec[http]<=2025.3.0,>=2023.1.0->datasets>=1.2.1->optimum[onnxruntime]) (25.3.0)\n",
      "Requirement already satisfied: frozenlist>=1.1.1 in /usr/local/lib/python3.11/dist-packages (from aiohttp!=4.0.0a0,!=4.0.0a1->fsspec[http]<=2025.3.0,>=2023.1.0->datasets>=1.2.1->optimum[onnxruntime]) (1.6.0)\n",
      "Requirement already satisfied: multidict<7.0,>=4.5 in /usr/local/lib/python3.11/dist-packages (from aiohttp!=4.0.0a0,!=4.0.0a1->fsspec[http]<=2025.3.0,>=2023.1.0->datasets>=1.2.1->optimum[onnxruntime]) (6.4.3)\n",
      "Requirement already satisfied: propcache>=0.2.0 in /usr/local/lib/python3.11/dist-packages (from aiohttp!=4.0.0a0,!=4.0.0a1->fsspec[http]<=2025.3.0,>=2023.1.0->datasets>=1.2.1->optimum[onnxruntime]) (0.3.1)\n",
      "Requirement already satisfied: yarl<2.0,>=1.17.0 in /usr/local/lib/python3.11/dist-packages (from aiohttp!=4.0.0a0,!=4.0.0a1->fsspec[http]<=2025.3.0,>=2023.1.0->datasets>=1.2.1->optimum[onnxruntime]) (1.20.0)\n",
      "Requirement already satisfied: intel-cmplr-lib-ur==2024.2.0 in /usr/local/lib/python3.11/dist-packages (from intel-openmp<2026,>=2024->mkl->numpy->optimum[onnxruntime]) (2024.2.0)\n",
      "Requirement already satisfied: six>=1.5 in /usr/local/lib/python3.11/dist-packages (from python-dateutil>=2.8.2->pandas->datasets>=1.2.1->optimum[onnxruntime]) (1.17.0)\n",
      "Downloading onnxruntime_gpu-1.22.0-cp311-cp311-manylinux_2_27_x86_64.manylinux_2_28_x86_64.whl (283.2 MB)\n",
      "\u001b[2K   \u001b[90m━━━━━━━━━━━━━━━━━━━━━━━━━━━━━━━━━━━━━━━━\u001b[0m \u001b[32m283.2/283.2 MB\u001b[0m \u001b[31m6.1 MB/s\u001b[0m eta \u001b[36m0:00:00\u001b[0m0:00:01\u001b[0m0:01\u001b[0mm\n",
      "\u001b[?25hDownloading onnxruntime-1.22.0-cp311-cp311-manylinux_2_27_x86_64.manylinux_2_28_x86_64.whl (16.4 MB)\n",
      "\u001b[2K   \u001b[90m━━━━━━━━━━━━━━━━━━━━━━━━━━━━━━━━━━━━━━━━\u001b[0m \u001b[32m16.4/16.4 MB\u001b[0m \u001b[31m95.6 MB/s\u001b[0m eta \u001b[36m0:00:00\u001b[0m:00:01\u001b[0m00:01\u001b[0m\n",
      "\u001b[?25hDownloading nvidia_cublas_cu12-12.4.5.8-py3-none-manylinux2014_x86_64.whl (363.4 MB)\n",
      "\u001b[2K   \u001b[90m━━━━━━━━━━━━━━━━━━━━━━━━━━━━━━━━━━━━━━━━\u001b[0m \u001b[32m363.4/363.4 MB\u001b[0m \u001b[31m4.6 MB/s\u001b[0m eta \u001b[36m0:00:00\u001b[0m0:00:01\u001b[0m00:01\u001b[0m\n",
      "\u001b[?25hDownloading nvidia_cudnn_cu12-9.1.0.70-py3-none-manylinux2014_x86_64.whl (664.8 MB)\n",
      "\u001b[2K   \u001b[90m━━━━━━━━━━━━━━━━━━━━━━━━━━━━━━━━━━━━━━━━\u001b[0m \u001b[32m664.8/664.8 MB\u001b[0m \u001b[31m2.6 MB/s\u001b[0m eta \u001b[36m0:00:00\u001b[0m0:00:01\u001b[0m00:01\u001b[0m\n",
      "\u001b[?25hDownloading nvidia_cufft_cu12-11.2.1.3-py3-none-manylinux2014_x86_64.whl (211.5 MB)\n",
      "\u001b[2K   \u001b[90m━━━━━━━━━━━━━━━━━━━━━━━━━━━━━━━━━━━━━━━━\u001b[0m \u001b[32m211.5/211.5 MB\u001b[0m \u001b[31m4.3 MB/s\u001b[0m eta \u001b[36m0:00:00\u001b[0m0:00:01\u001b[0m00:01\u001b[0m\n",
      "\u001b[?25hDownloading nvidia_curand_cu12-10.3.5.147-py3-none-manylinux2014_x86_64.whl (56.3 MB)\n",
      "\u001b[2K   \u001b[90m━━━━━━━━━━━━━━━━━━━━━━━━━━━━━━━━━━━━━━━━\u001b[0m \u001b[32m56.3/56.3 MB\u001b[0m \u001b[31m31.0 MB/s\u001b[0m eta \u001b[36m0:00:00\u001b[0m:00:01\u001b[0m00:01\u001b[0m\n",
      "\u001b[?25hDownloading nvidia_cusolver_cu12-11.6.1.9-py3-none-manylinux2014_x86_64.whl (127.9 MB)\n",
      "\u001b[2K   \u001b[90m━━━━━━━━━━━━━━━━━━━━━━━━━━━━━━━━━━━━━━━━\u001b[0m \u001b[32m127.9/127.9 MB\u001b[0m \u001b[31m9.7 MB/s\u001b[0m eta \u001b[36m0:00:00\u001b[0m0:00:01\u001b[0m00:01\u001b[0m\n",
      "\u001b[?25hDownloading nvidia_cusparse_cu12-12.3.1.170-py3-none-manylinux2014_x86_64.whl (207.5 MB)\n",
      "\u001b[2K   \u001b[90m━━━━━━━━━━━━━━━━━━━━━━━━━━━━━━━━━━━━━━━━\u001b[0m \u001b[32m207.5/207.5 MB\u001b[0m \u001b[31m2.0 MB/s\u001b[0m eta \u001b[36m0:00:00\u001b[0m0:00:01\u001b[0m00:01\u001b[0m\n",
      "\u001b[?25hDownloading nvidia_nvjitlink_cu12-12.4.127-py3-none-manylinux2014_x86_64.whl (21.1 MB)\n",
      "\u001b[2K   \u001b[90m━━━━━━━━━━━━━━━━━━━━━━━━━━━━━━━━━━━━━━━━\u001b[0m \u001b[32m21.1/21.1 MB\u001b[0m \u001b[31m84.5 MB/s\u001b[0m eta \u001b[36m0:00:00\u001b[0m:00:01\u001b[0m00:01\u001b[0m\n",
      "\u001b[?25hDownloading coloredlogs-15.0.1-py2.py3-none-any.whl (46 kB)\n",
      "\u001b[2K   \u001b[90m━━━━━━━━━━━━━━━━━━━━━━━━━━━━━━━━━━━━━━━━\u001b[0m \u001b[32m46.0/46.0 kB\u001b[0m \u001b[31m2.8 MB/s\u001b[0m eta \u001b[36m0:00:00\u001b[0m\n",
      "\u001b[?25hDownloading optimum-1.25.2-py3-none-any.whl (429 kB)\n",
      "\u001b[2K   \u001b[90m━━━━━━━━━━━━━━━━━━━━━━━━━━━━━━━━━━━━━━━━\u001b[0m \u001b[32m429.4/429.4 kB\u001b[0m \u001b[31m27.8 MB/s\u001b[0m eta \u001b[36m0:00:00\u001b[0m\n",
      "\u001b[?25hDownloading fsspec-2025.3.0-py3-none-any.whl (193 kB)\n",
      "\u001b[2K   \u001b[90m━━━━━━━━━━━━━━━━━━━━━━━━━━━━━━━━━━━━━━━━\u001b[0m \u001b[32m193.6/193.6 kB\u001b[0m \u001b[31m14.3 MB/s\u001b[0m eta \u001b[36m0:00:00\u001b[0m\n",
      "\u001b[?25hDownloading humanfriendly-10.0-py2.py3-none-any.whl (86 kB)\n",
      "\u001b[2K   \u001b[90m━━━━━━━━━━━━━━━━━━━━━━━━━━━━━━━━━━━━━━━━\u001b[0m \u001b[32m86.8/86.8 kB\u001b[0m \u001b[31m7.1 MB/s\u001b[0m eta \u001b[36m0:00:00\u001b[0m\n",
      "\u001b[?25hBuilding wheels for collected packages: eager\n",
      "  Building wheel for eager (setup.py) ... \u001b[?25l\u001b[?25hdone\n",
      "  Created wheel for eager: filename=eager-0.0.1-py3-none-any.whl size=3768 sha256=82797dd442d3d9cbf0849744e1069284ffa3446cad2efa9014e67dec7a132ff9\n",
      "  Stored in directory: /root/.cache/pip/wheels/18/65/d5/3499ac987526c08fe43c1edc3613267aee1859987739e9eeff\n",
      "Successfully built eager\n",
      "Installing collected packages: eager, nvidia-nvjitlink-cu12, nvidia-curand-cu12, nvidia-cufft-cu12, nvidia-cublas-cu12, humanfriendly, fsspec, nvidia-cusparse-cu12, nvidia-cudnn-cu12, coloredlogs, nvidia-cusolver-cu12, optimum, onnxruntime, onnxruntime-gpu\n",
      "  Attempting uninstall: nvidia-nvjitlink-cu12\n",
      "    Found existing installation: nvidia-nvjitlink-cu12 12.9.41\n",
      "    Uninstalling nvidia-nvjitlink-cu12-12.9.41:\n",
      "      Successfully uninstalled nvidia-nvjitlink-cu12-12.9.41\n",
      "  Attempting uninstall: nvidia-curand-cu12\n",
      "    Found existing installation: nvidia-curand-cu12 10.3.10.19\n",
      "    Uninstalling nvidia-curand-cu12-10.3.10.19:\n",
      "      Successfully uninstalled nvidia-curand-cu12-10.3.10.19\n",
      "  Attempting uninstall: nvidia-cufft-cu12\n",
      "    Found existing installation: nvidia-cufft-cu12 11.4.0.6\n",
      "    Uninstalling nvidia-cufft-cu12-11.4.0.6:\n",
      "      Successfully uninstalled nvidia-cufft-cu12-11.4.0.6\n",
      "  Attempting uninstall: nvidia-cublas-cu12\n",
      "    Found existing installation: nvidia-cublas-cu12 12.9.0.13\n",
      "    Uninstalling nvidia-cublas-cu12-12.9.0.13:\n",
      "      Successfully uninstalled nvidia-cublas-cu12-12.9.0.13\n",
      "  Attempting uninstall: fsspec\n",
      "    Found existing installation: fsspec 2025.3.2\n",
      "    Uninstalling fsspec-2025.3.2:\n",
      "      Successfully uninstalled fsspec-2025.3.2\n",
      "  Attempting uninstall: nvidia-cusparse-cu12\n",
      "    Found existing installation: nvidia-cusparse-cu12 12.5.9.5\n",
      "    Uninstalling nvidia-cusparse-cu12-12.5.9.5:\n",
      "      Successfully uninstalled nvidia-cusparse-cu12-12.5.9.5\n",
      "  Attempting uninstall: nvidia-cudnn-cu12\n",
      "    Found existing installation: nvidia-cudnn-cu12 9.3.0.75\n",
      "    Uninstalling nvidia-cudnn-cu12-9.3.0.75:\n",
      "      Successfully uninstalled nvidia-cudnn-cu12-9.3.0.75\n",
      "  Attempting uninstall: nvidia-cusolver-cu12\n",
      "    Found existing installation: nvidia-cusolver-cu12 11.7.4.40\n",
      "    Uninstalling nvidia-cusolver-cu12-11.7.4.40:\n",
      "      Successfully uninstalled nvidia-cusolver-cu12-11.7.4.40\n",
      "\u001b[31mERROR: pip's dependency resolver does not currently take into account all the packages that are installed. This behaviour is the source of the following dependency conflicts.\n",
      "cesium 0.12.4 requires numpy<3.0,>=2.0, but you have numpy 1.26.4 which is incompatible.\n",
      "bigframes 1.42.0 requires rich<14,>=12.4.4, but you have rich 14.0.0 which is incompatible.\n",
      "gcsfs 2025.3.2 requires fsspec==2025.3.2, but you have fsspec 2025.3.0 which is incompatible.\u001b[0m\u001b[31m\n",
      "\u001b[0mSuccessfully installed coloredlogs-15.0.1 eager-0.0.1 fsspec-2025.3.0 humanfriendly-10.0 nvidia-cublas-cu12-12.4.5.8 nvidia-cudnn-cu12-9.1.0.70 nvidia-cufft-cu12-11.2.1.3 nvidia-curand-cu12-10.3.5.147 nvidia-cusolver-cu12-11.6.1.9 nvidia-cusparse-cu12-12.3.1.170 nvidia-nvjitlink-cu12-12.4.127 onnxruntime-1.22.0 onnxruntime-gpu-1.22.0 optimum-1.25.2\n"
     ]
    }
   ],
   "source": [
    "!pip install eager optimum[onnxruntime] timm onnxruntime-gpu"
   ]
  },
  {
   "cell_type": "code",
   "execution_count": 5,
   "metadata": {
    "execution": {
     "iopub.execute_input": "2025-05-16T10:18:19.813335Z",
     "iopub.status.busy": "2025-05-16T10:18:19.812803Z",
     "iopub.status.idle": "2025-05-16T10:18:24.392482Z",
     "shell.execute_reply": "2025-05-16T10:18:24.391808Z",
     "shell.execute_reply.started": "2025-05-16T10:18:19.813310Z"
    },
    "trusted": true
   },
   "outputs": [
    {
     "name": "stdout",
     "output_type": "stream",
     "text": [
      "Collecting gputil\n",
      "  Downloading GPUtil-1.4.0.tar.gz (5.5 kB)\n",
      "  Preparing metadata (setup.py) ... \u001b[?25l\u001b[?25hdone\n",
      "Building wheels for collected packages: gputil\n",
      "  Building wheel for gputil (setup.py) ... \u001b[?25l\u001b[?25hdone\n",
      "  Created wheel for gputil: filename=GPUtil-1.4.0-py3-none-any.whl size=7392 sha256=7b7b7cad875c1aaf8e4994dbb369146802c3d49f0dc2de59ef694d99f5f7bc9e\n",
      "  Stored in directory: /root/.cache/pip/wheels/2b/4d/8f/55fb4f7b9b591891e8d3f72977c4ec6c7763b39c19f0861595\n",
      "Successfully built gputil\n",
      "Installing collected packages: gputil\n",
      "Successfully installed gputil-1.4.0\n"
     ]
    }
   ],
   "source": [
    "!pip install gputil"
   ]
  },
  {
   "cell_type": "code",
   "execution_count": 6,
   "metadata": {
    "execution": {
     "iopub.execute_input": "2025-05-16T10:18:24.393655Z",
     "iopub.status.busy": "2025-05-16T10:18:24.393412Z",
     "iopub.status.idle": "2025-05-16T10:18:34.674721Z",
     "shell.execute_reply": "2025-05-16T10:18:34.673949Z",
     "shell.execute_reply.started": "2025-05-16T10:18:24.393631Z"
    },
    "trusted": true
   },
   "outputs": [],
   "source": [
    "import os\n",
    "import time\n",
    "\n",
    "import psutil\n",
    "import GPUtil\n",
    "import kagglehub\n",
    "import numpy as np\n",
    "from tqdm import tqdm\n",
    "\n",
    "import timm\n",
    "from timm.data import resolve_data_config\n",
    "from timm.data.transforms_factory import create_transform\n",
    "\n",
    "import torch\n",
    "from torch import nn, optim\n",
    "from torch.amp import autocast\n",
    "from torchvision import datasets, transforms\n",
    "from torch.utils.data import random_split, DataLoader\n",
    "from torch.nn.utils import prune\n",
    "\n",
    "from sklearn.metrics import precision_score, recall_score, f1_score"
   ]
  },
  {
   "cell_type": "code",
   "execution_count": 7,
   "metadata": {
    "execution": {
     "iopub.execute_input": "2025-05-16T10:18:34.677025Z",
     "iopub.status.busy": "2025-05-16T10:18:34.676671Z",
     "iopub.status.idle": "2025-05-16T10:18:34.694107Z",
     "shell.execute_reply": "2025-05-16T10:18:34.693377Z",
     "shell.execute_reply.started": "2025-05-16T10:18:34.677007Z"
    },
    "trusted": true
   },
   "outputs": [],
   "source": [
    "def print_memory_usage(label=\"\"):\n",
    "    \"\"\"Выводит использование памяти в мегабайтах\"\"\"\n",
    "    if label:\n",
    "        print(f\"\\n--- Memory Usage ({label}) ---\")\n",
    "    else:\n",
    "        print(\"\\n--- Memory Usage ---\")\n",
    "        \n",
    "    # CPU RAM в MB\n",
    "    process = psutil.Process(os.getpid())\n",
    "    ram_used = process.memory_info().rss / (1024 ** 2)\n",
    "    print(f\"CPU RAM used: {ram_used:.2f} MB\")\n",
    "    \n",
    "    # GPU VRAM в MB\n",
    "    gpus = GPUtil.getGPUs()\n",
    "    for gpu in gpus:\n",
    "        vram_used = gpu.memoryUsed\n",
    "        vram_total = gpu.memoryTotal\n",
    "        print(f\"GPU {gpu.id} VRAM: {vram_used:.2f} MB / {vram_total:.2f} MB\")\n",
    "\n",
    "\n",
    "def get_model_size(model):\n",
    "    param_size = 0\n",
    "    for param in model.parameters():\n",
    "        param_size += param.nelement() * param.element_size()\n",
    "    buffer_size = 0\n",
    "    for buffer in model.buffers():\n",
    "        buffer_size += buffer.nelement() * buffer.element_size()\n",
    "    return (param_size + buffer_size) / 1024**2\n",
    "\n",
    "\n",
    "def calculate_metrics(model, device, data_loader):\n",
    "    model.eval()\n",
    "    all_preds = []\n",
    "    all_targets = []\n",
    "\n",
    "    model.to(device)\n",
    "    with torch.no_grad():\n",
    "        for images, targets in data_loader:\n",
    "            images = images.to(device)\n",
    "            outputs = model(images)\n",
    "            preds = outputs.argmax(dim=1).cpu().numpy()\n",
    "            \n",
    "            all_preds.extend(preds)\n",
    "            all_targets.extend(targets.numpy())\n",
    "    \n",
    "    precision = precision_score(all_targets, all_preds, average='macro')\n",
    "    recall = recall_score(all_targets, all_preds, average='macro')\n",
    "    f1 = f1_score(all_targets, all_preds, average='macro')\n",
    "    \n",
    "    return precision, recall, f1\n",
    "\n",
    "\n",
    "def load_imagenet_mini(dataset_path, model, split):\n",
    "    config = resolve_data_config({}, model=model)\n",
    "    transform = create_transform(**config)\n",
    "\n",
    "    print(transform)\n",
    "\n",
    "    if split == 'train':\n",
    "        transform = transforms.Compose([\n",
    "            transforms.ColorJitter(\n",
    "                brightness=0.2,\n",
    "                contrast=0.2,\n",
    "                saturation=0.2,\n",
    "                hue=0.2,\n",
    "            ),\n",
    "            transforms.GaussianBlur(\n",
    "                kernel_size=3,\n",
    "            ),\n",
    "            transform,\n",
    "        ])\n",
    "\n",
    "    dataset = datasets.ImageFolder(\n",
    "        root=os.path.join(dataset_path, split),\n",
    "        transform=transform\n",
    "    )\n",
    "    \n",
    "    return dataset\n",
    "\n",
    "\n",
    "def benchmark_model(model, device, input_tensor, num_runs=10, warmup=3, use_amp=False):\n",
    "    model = model.to(device)\n",
    "    input_tensor = input_tensor.to(device)\n",
    "    \n",
    "    # Warmup\n",
    "    print(f\"\\n🔥 Warming up ({warmup} runs) on {device}...\")\n",
    "    for _ in range(warmup):\n",
    "        with torch.no_grad():\n",
    "            if use_amp and device.type == 'cuda':\n",
    "                with autocast(device_type='cuda', dtype=torch.float16):\n",
    "                    _ = model(input_tensor)\n",
    "            else:\n",
    "                _ = model(input_tensor)\n",
    "    \n",
    "    # Benchmark\n",
    "    print(f\"🚀 Benchmarking ({num_runs} runs) on {device}...\")\n",
    "    start_time = time.time()\n",
    "    \n",
    "    for _ in range(num_runs):\n",
    "        with torch.no_grad():\n",
    "            if use_amp and device.type == 'cuda':\n",
    "                with autocast(device_type='cuda', dtype=torch.float16):\n",
    "                    _ = model(input_tensor)\n",
    "            else:\n",
    "                _ = model(input_tensor)\n",
    "    \n",
    "    total_time = (time.time() - start_time) * 1000\n",
    "    avg_time = total_time / num_runs\n",
    "    print(f\"✅ Average inference: {avg_time:.2f} ms\")\n",
    "    print(f\"📊 Total time: {total_time:.2f} ms | FPS: {1000/(avg_time + 1e-9):.1f}\")\n",
    "    \n",
    "    return avg_time\n",
    "\n",
    "\n",
    "def main(model, dataset_path=None):\n",
    "    device_cpu = torch.device('cpu')\n",
    "    device_gpu = torch.device('cuda' if torch.cuda.is_available() else 'cpu')\n",
    "    \n",
    "    print(\"\\n🔍 Initial memory state:\")\n",
    "    print_memory_usage(\"Before loading model\")\n",
    "    model.eval()\n",
    "    print(f\"📏 Model size: {get_model_size(model):.2f} MB\")\n",
    "\n",
    "    print(\"\\n🔍 Initial memory state:\")\n",
    "    print_memory_usage(\"Model loaded\")\n",
    "    \n",
    "    # Бенчмарки\n",
    "    input_tensor = torch.randn(1, 3, 224, 224)\n",
    "    \n",
    "    print(\"\\n🧪 Benchmarking on CPU:\")\n",
    "    cpu_time = benchmark_model(model, device_cpu, input_tensor)\n",
    "    print_memory_usage(\"After CPU benchmark\")\n",
    "    \n",
    "    if torch.cuda.is_available():\n",
    "        print(\"\\n🎮 Benchmarking on GPU:\")\n",
    "        gpu_time = benchmark_model(model, device_gpu, input_tensor)\n",
    "        print_memory_usage(\"After GPU test\")\n",
    "        \n",
    "        print(\"\\n⚡ Benchmarking with AMP:\")\n",
    "        gpu_amp_time = benchmark_model(model, device_gpu, input_tensor, use_amp=True)\n",
    "        print_memory_usage(\"After AMP test\")\n",
    "        \n",
    "        print(\"\\n📈 Results Summary:\")\n",
    "        print(f\"| Device | Inference Time (ms) | Speedup vs CPU |\")\n",
    "        print(\"|--------|---------------------|----------------|\")\n",
    "        print(f\"| CPU    | {cpu_time:19.2f} | {'—':^15} |\")\n",
    "        print(f\"| GPU    | {gpu_time:19.2f} | {cpu_time/gpu_time:^15.1f}x |\")\n",
    "        print(f\"| AMP    | {gpu_amp_time:19.2f} | {cpu_time/gpu_amp_time:^15.1f}x |\")\n",
    "    else:\n",
    "        print(\"\\n❌ CUDA not available\")\n",
    "        print(f\"⏱️ CPU inference time: {cpu_time:.2f} ms\")\n",
    "        if dataset_path:\n",
    "            print(\"\\n🎯 Quality Metrics (CPU):\")\n",
    "            print(f\"Precision: {precision_cpu:.4f}\")\n",
    "            print(f\"Recall:    {recall_cpu:.a4f}\")\n",
    "            print(f\"F1-Score:  {f1_cpu:.4f}\")\n",
    "\n",
    "    # Загрузка и расчет метрик качества\n",
    "    if dataset_path:\n",
    "        print(\"\\n📊 Loading ImageNetMini dataset...\")\n",
    "        val_dataset = load_imagenet_mini(dataset_path, model, 'val')\n",
    "        data_loader = DataLoader(val_dataset, batch_size=64, shuffle=False, pin_memory=True, drop_last=False)\n",
    "        \n",
    "        # print(\"\\n🧮 Calculating metrics on CPU:\")\n",
    "        # precision_cpu, recall_cpu, f1_cpu = calculate_metrics(model, device_cpu, data_loader)\n",
    "        \n",
    "        if torch.cuda.is_available():\n",
    "            print(\"\\n🧮 Calculating metrics on GPU:\")\n",
    "            precision_gpu, recall_gpu, f1_gpu = calculate_metrics(model, device_gpu, data_loader)\n",
    "\n",
    "            print(\"\\n🎯 Quality Metrics Summary:\")\n",
    "            print(\"| Device | Precision | Recall  | F1-Score |\")\n",
    "            print(\"|--------|-----------|---------|----------|\")\n",
    "            # print(f\"| CPU    | {precision_cpu:.4f}  | {recall_cpu:.4f} | {f1_cpu:.4f}  |\")\n",
    "            print(f\"| GPU    | {precision_gpu:.4f}  | {recall_gpu:.4f} | {f1_gpu:.4f}  |\")"
   ]
  },
  {
   "cell_type": "code",
   "execution_count": 8,
   "metadata": {
    "execution": {
     "iopub.execute_input": "2025-05-16T10:18:34.695093Z",
     "iopub.status.busy": "2025-05-16T10:18:34.694864Z",
     "iopub.status.idle": "2025-05-16T10:18:34.992052Z",
     "shell.execute_reply": "2025-05-16T10:18:34.991448Z",
     "shell.execute_reply.started": "2025-05-16T10:18:34.695070Z"
    },
    "trusted": true
   },
   "outputs": [
    {
     "name": "stdout",
     "output_type": "stream",
     "text": [
      "Path to dataset files: /kaggle/input/imagenetmini-1000/imagenet-mini\n"
     ]
    }
   ],
   "source": [
    "path = kagglehub.dataset_download(\"ifigotin/imagenetmini-1000\")\n",
    "path += \"/imagenet-mini\"\n",
    "\n",
    "print(\"Path to dataset files:\", path)"
   ]
  },
  {
   "cell_type": "code",
   "execution_count": 9,
   "metadata": {
    "execution": {
     "iopub.execute_input": "2025-05-16T10:18:34.993025Z",
     "iopub.status.busy": "2025-05-16T10:18:34.992828Z",
     "iopub.status.idle": "2025-05-16T10:18:36.329177Z",
     "shell.execute_reply": "2025-05-16T10:18:36.328608Z",
     "shell.execute_reply.started": "2025-05-16T10:18:34.993009Z"
    },
    "trusted": true
   },
   "outputs": [
    {
     "data": {
      "application/vnd.jupyter.widget-view+json": {
       "model_id": "c3d1c5d8dda9471283fb608f7a27fe77",
       "version_major": 2,
       "version_minor": 0
      },
      "text/plain": [
       "model.safetensors:   0%|          | 0.00/195M [00:00<?, ?B/s]"
      ]
     },
     "metadata": {},
     "output_type": "display_data"
    }
   ],
   "source": [
    "base_model = timm.create_model('efficientvit_b3.r256_in1k', pretrained=True)"
   ]
  },
  {
   "cell_type": "code",
   "execution_count": 10,
   "metadata": {
    "execution": {
     "iopub.execute_input": "2025-05-16T10:18:36.330426Z",
     "iopub.status.busy": "2025-05-16T10:18:36.330160Z",
     "iopub.status.idle": "2025-05-16T10:18:36.334029Z",
     "shell.execute_reply": "2025-05-16T10:18:36.333351Z",
     "shell.execute_reply.started": "2025-05-16T10:18:36.330402Z"
    },
    "trusted": true
   },
   "outputs": [],
   "source": [
    "# main(base_model, path)"
   ]
  },
  {
   "cell_type": "markdown",
   "metadata": {},
   "source": [
    "## Optimum optimization"
   ]
  },
  {
   "cell_type": "code",
   "execution_count": 11,
   "metadata": {
    "execution": {
     "iopub.execute_input": "2025-05-16T10:18:36.335132Z",
     "iopub.status.busy": "2025-05-16T10:18:36.334844Z",
     "iopub.status.idle": "2025-05-16T10:18:36.351462Z",
     "shell.execute_reply": "2025-05-16T10:18:36.350719Z",
     "shell.execute_reply.started": "2025-05-16T10:18:36.335116Z"
    },
    "trusted": true
   },
   "outputs": [],
   "source": [
    "def print_memory_usage(label=\"\"):\n",
    "    \"\"\"Выводит использование памяти в мегабайтах\"\"\"\n",
    "    if label:\n",
    "        print(f\"\\n--- Memory Usage ({label}) ---\")\n",
    "    else:\n",
    "        print(\"\\n--- Memory Usage ---\")\n",
    "        \n",
    "    # CPU RAM в MB\n",
    "    process = psutil.Process(os.getpid())\n",
    "    ram_used = process.memory_info().rss / (1024 ** 2)\n",
    "    print(f\"CPU RAM used: {ram_used:.2f} MB\")\n",
    "    \n",
    "    # GPU VRAM в MB\n",
    "    gpus = GPUtil.getGPUs()\n",
    "    for gpu in gpus:\n",
    "        vram_used = gpu.memoryUsed\n",
    "        vram_total = gpu.memoryTotal\n",
    "        print(f\"GPU {gpu.id} VRAM: {vram_used:.2f} MB / {vram_total:.2f} MB\")\n",
    "\n",
    "\n",
    "def calculate_metrics(model, device, data_loader):\n",
    "    all_preds = []\n",
    "    all_targets = []\n",
    "\n",
    "    model.to(device)\n",
    "    with torch.no_grad():\n",
    "        for images, targets in data_loader:\n",
    "            images = images.to(device)\n",
    "            outputs = model(images).logits\n",
    "            preds = outputs.argmax(dim=1).cpu().numpy()\n",
    "            \n",
    "            all_preds.extend(preds)\n",
    "            all_targets.extend(targets.numpy())\n",
    "    \n",
    "    precision = precision_score(all_targets, all_preds, average='macro')\n",
    "    recall = recall_score(all_targets, all_preds, average='macro')\n",
    "    f1 = f1_score(all_targets, all_preds, average='macro')\n",
    "    \n",
    "    return precision, recall, f1\n",
    "\n",
    "\n",
    "def load_imagenet_mini(dataset_path, model, split):\n",
    "    config = resolve_data_config({}, model=base_model)\n",
    "    transform = create_transform(**config)\n",
    "\n",
    "    print(transform)\n",
    "\n",
    "    dataset = datasets.ImageFolder(\n",
    "        root=os.path.join(dataset_path, split),\n",
    "        transform=transform\n",
    "    )\n",
    "    \n",
    "    return dataset\n",
    "\n",
    "\n",
    "def benchmark_model(model, device, input_tensor, num_runs=10, warmup=3, use_amp=False):\n",
    "    model = model.to(device)\n",
    "    input_tensor = input_tensor.to(device)\n",
    "    \n",
    "    # Warmup\n",
    "    print(f\"\\n🔥 Warming up ({warmup} runs) on {device}...\")\n",
    "    for _ in range(warmup):\n",
    "        with torch.no_grad():\n",
    "            if use_amp and device.type == 'cuda':\n",
    "                with autocast(device_type='cuda', dtype=torch.float16):\n",
    "                    _ = model(input_tensor)\n",
    "            else:\n",
    "                _ = model(input_tensor)\n",
    "    \n",
    "    # Benchmark\n",
    "    print(f\"🚀 Benchmarking ({num_runs} runs) on {device}...\")\n",
    "    start_time = time.time()\n",
    "    \n",
    "    for _ in range(num_runs):\n",
    "        with torch.no_grad():\n",
    "            if use_amp and device.type == 'cuda':\n",
    "                with autocast(device_type='cuda', dtype=torch.float16):\n",
    "                    _ = model(input_tensor)\n",
    "            else:\n",
    "                _ = model(input_tensor)\n",
    "    \n",
    "    total_time = (time.time() - start_time) * 1000\n",
    "    avg_time = total_time / num_runs\n",
    "    print(f\"✅ Average inference: {avg_time:.2f} ms\")\n",
    "    print(f\"📊 Total time: {total_time:.2f} ms | FPS: {1000/(avg_time + 1e-9):.1f}\")\n",
    "    \n",
    "    return avg_time\n",
    "\n",
    "\n",
    "def main(model, dataset_path=None):\n",
    "    device_cpu = torch.device('cpu')\n",
    "    device_gpu = torch.device('cuda' if torch.cuda.is_available() else 'cpu')\n",
    "    \n",
    "    print(\"\\n🔍 Initial memory state:\")\n",
    "    print_memory_usage(\"Before loading model\")\n",
    "\n",
    "    print(\"\\n🔍 Initial memory state:\")\n",
    "    print_memory_usage(\"Model loaded\")\n",
    "    \n",
    "    # Бенчмарки\n",
    "    input_tensor = torch.randn(1, 3, 256, 256)\n",
    "    \n",
    "    print(\"\\n🧪 Benchmarking on CPU:\")\n",
    "    cpu_time = benchmark_model(model, device_cpu, input_tensor)\n",
    "    print_memory_usage(\"After CPU benchmark\")\n",
    "    \n",
    "    if torch.cuda.is_available():\n",
    "        print(\"\\n🎮 Benchmarking on GPU:\")\n",
    "        gpu_time = benchmark_model(model, device_gpu, input_tensor)\n",
    "        print_memory_usage(\"After GPU test\")\n",
    "        \n",
    "        print(\"\\n⚡ Benchmarking with AMP:\")\n",
    "        gpu_amp_time = benchmark_model(model, device_gpu, input_tensor, use_amp=True)\n",
    "        print_memory_usage(\"After AMP test\")\n",
    "        \n",
    "        print(\"\\n📈 Results Summary:\")\n",
    "        print(f\"| Device | Inference Time (ms) | Speedup vs CPU |\")\n",
    "        print(\"|--------|---------------------|----------------|\")\n",
    "        print(f\"| CPU    | {cpu_time:19.2f} | {'—':^15} |\")\n",
    "        print(f\"| GPU    | {gpu_time:19.2f} | {cpu_time/gpu_time:^15.1f}x |\")\n",
    "        print(f\"| AMP    | {gpu_amp_time:19.2f} | {cpu_time/gpu_amp_time:^15.1f}x |\")\n",
    "    else:\n",
    "        print(\"\\n❌ CUDA not available\")\n",
    "        print(f\"⏱️ CPU inference time: {cpu_time:.2f} ms\")\n",
    "        if dataset_path:\n",
    "            print(\"\\n🎯 Quality Metrics (CPU):\")\n",
    "            print(f\"Precision: {precision_cpu:.4f}\")\n",
    "            print(f\"Recall:    {recall_cpu:.a4f}\")\n",
    "            print(f\"F1-Score:  {f1_cpu:.4f}\")\n",
    "\n",
    "    # Загрузка и расчет метрик качества\n",
    "    if dataset_path:\n",
    "        print(\"\\n📊 Loading ImageNetMini dataset...\")\n",
    "        val_dataset = load_imagenet_mini(dataset_path, model, 'val')\n",
    "        data_loader = DataLoader(val_dataset, batch_size=64, shuffle=False, pin_memory=True, drop_last=False)\n",
    "        \n",
    "        # print(\"\\n🧮 Calculating metrics on CPU:\")\n",
    "        # precision_cpu, recall_cpu, f1_cpu = calculate_metrics(model, device_cpu, data_loader)\n",
    "        \n",
    "        if torch.cuda.is_available():\n",
    "            print(\"\\n🧮 Calculating metrics on GPU:\")\n",
    "            precision_gpu, recall_gpu, f1_gpu = calculate_metrics(model, device_gpu, data_loader)\n",
    "\n",
    "            print(\"\\n🎯 Quality Metrics Summary:\")\n",
    "            print(\"| Device | Precision | Recall  | F1-Score |\")\n",
    "            print(\"|--------|-----------|---------|----------|\")\n",
    "            # print(f\"| CPU    | {precision_cpu:.4f}  | {recall_cpu:.4f} | {f1_cpu:.4f}  |\")\n",
    "            print(f\"| GPU    | {precision_gpu:.4f}  | {recall_gpu:.4f} | {f1_gpu:.4f}  |\")"
   ]
  },
  {
   "cell_type": "code",
   "execution_count": 12,
   "metadata": {
    "execution": {
     "iopub.execute_input": "2025-05-16T10:18:36.352367Z",
     "iopub.status.busy": "2025-05-16T10:18:36.352137Z",
     "iopub.status.idle": "2025-05-16T10:18:57.667441Z",
     "shell.execute_reply": "2025-05-16T10:18:57.666877Z",
     "shell.execute_reply.started": "2025-05-16T10:18:36.352348Z"
    },
    "trusted": true
   },
   "outputs": [
    {
     "name": "stderr",
     "output_type": "stream",
     "text": [
      "2025-05-16 10:18:37.886700: E external/local_xla/xla/stream_executor/cuda/cuda_fft.cc:477] Unable to register cuFFT factory: Attempting to register factory for plugin cuFFT when one has already been registered\n",
      "WARNING: All log messages before absl::InitializeLog() is called are written to STDERR\n",
      "E0000 00:00:1747390718.054451      35 cuda_dnn.cc:8310] Unable to register cuDNN factory: Attempting to register factory for plugin cuDNN when one has already been registered\n",
      "E0000 00:00:1747390718.100785      35 cuda_blas.cc:1418] Unable to register cuBLAS factory: Attempting to register factory for plugin cuBLAS when one has already been registered\n"
     ]
    }
   ],
   "source": [
    "from optimum.onnxruntime import ORTModelForImageClassification\n",
    "from transformers import AutoFeatureExtractor\n",
    "from pathlib import Path"
   ]
  },
  {
   "cell_type": "code",
   "execution_count": 13,
   "metadata": {
    "execution": {
     "iopub.execute_input": "2025-05-16T10:18:57.670122Z",
     "iopub.status.busy": "2025-05-16T10:18:57.669207Z",
     "iopub.status.idle": "2025-05-16T10:19:15.869162Z",
     "shell.execute_reply": "2025-05-16T10:19:15.868590Z",
     "shell.execute_reply.started": "2025-05-16T10:18:57.670093Z"
    },
    "trusted": true
   },
   "outputs": [
    {
     "data": {
      "application/vnd.jupyter.widget-view+json": {
       "model_id": "9bbf414c4c954e26a52ed9ea947d393b",
       "version_major": 2,
       "version_minor": 0
      },
      "text/plain": [
       "config.json:   0%|          | 0.00/616 [00:00<?, ?B/s]"
      ]
     },
     "metadata": {},
     "output_type": "display_data"
    },
    {
     "name": "stderr",
     "output_type": "stream",
     "text": [
      "You are using a model of type timm_wrapper to instantiate a model of type . This is not supported for all configurations of models and can yield errors.\n",
      "/usr/local/lib/python3.11/dist-packages/torch/onnx/_internal/jit_utils.py:308: UserWarning: Constant folding - Only steps=1 can be constant folded for opset >= 10 onnx::Slice op. Constant folding not applied. (Triggered internally at /pytorch/torch/csrc/jit/passes/onnx/constant_fold.cpp:178.)\n",
      "  _C._jit_pass_onnx_node_shape_type_inference(node, params_dict, opset_version)\n",
      "/usr/local/lib/python3.11/dist-packages/torch/onnx/utils.py:657: UserWarning: Constant folding - Only steps=1 can be constant folded for opset >= 10 onnx::Slice op. Constant folding not applied. (Triggered internally at /pytorch/torch/csrc/jit/passes/onnx/constant_fold.cpp:178.)\n",
      "  _C._jit_pass_onnx_graph_shape_type_inference(\n",
      "/usr/local/lib/python3.11/dist-packages/torch/onnx/utils.py:1127: UserWarning: Constant folding - Only steps=1 can be constant folded for opset >= 10 onnx::Slice op. Constant folding not applied. (Triggered internally at /pytorch/torch/csrc/jit/passes/onnx/constant_fold.cpp:178.)\n",
      "  _C._jit_pass_onnx_graph_shape_type_inference(\n",
      "The `save_pretrained` method is disabled for TimmWrapperImageProcessor. The image processor configuration is saved directly in `config.json` when `save_pretrained` is called for saving the model.\n"
     ]
    }
   ],
   "source": [
    "model_id=\"timm/efficientvit_b3.r256_in1k\"\n",
    "onnx_path = Path(\"onnx\")\n",
    "\n",
    "model = ORTModelForImageClassification.from_pretrained(model_id, export=True)\n",
    "model.save_pretrained(onnx_path)"
   ]
  },
  {
   "cell_type": "code",
   "execution_count": 14,
   "metadata": {
    "execution": {
     "iopub.execute_input": "2025-05-16T10:19:15.870275Z",
     "iopub.status.busy": "2025-05-16T10:19:15.870003Z",
     "iopub.status.idle": "2025-05-16T10:19:16.100013Z",
     "shell.execute_reply": "2025-05-16T10:19:16.099137Z",
     "shell.execute_reply.started": "2025-05-16T10:19:15.870252Z"
    },
    "trusted": true
   },
   "outputs": [],
   "source": [
    "!rm onnx/model.onnx"
   ]
  },
  {
   "cell_type": "code",
   "execution_count": 16,
   "metadata": {
    "execution": {
     "iopub.execute_input": "2025-05-16T10:19:44.384189Z",
     "iopub.status.busy": "2025-05-16T10:19:44.383894Z",
     "iopub.status.idle": "2025-05-16T10:19:48.497266Z",
     "shell.execute_reply": "2025-05-16T10:19:48.496696Z",
     "shell.execute_reply.started": "2025-05-16T10:19:44.384167Z"
    },
    "trusted": true
   },
   "outputs": [],
   "source": [
    "import torch\n",
    "\n",
    "base_model.eval()\n",
    "\n",
    "with torch.no_grad():\n",
    "    torch.onnx.export(\n",
    "        base_model.to('cuda'),\n",
    "        torch.rand(1, 3, 256, 256).to('cuda'),\n",
    "        'onnx/model.onnx',\n",
    "        opset_version=15,\n",
    "        input_names=['pixel_values'],\n",
    "        output_names=['logits'],\n",
    "        dynamic_axes={'pixel_values': {0: 'batch_size'}, 'logits': {0: 'batch_size'}},\n",
    "    )"
   ]
  },
  {
   "cell_type": "code",
   "execution_count": 17,
   "metadata": {
    "execution": {
     "iopub.execute_input": "2025-05-16T10:19:51.586905Z",
     "iopub.status.busy": "2025-05-16T10:19:51.586513Z",
     "iopub.status.idle": "2025-05-16T10:19:52.333621Z",
     "shell.execute_reply": "2025-05-16T10:19:52.332493Z",
     "shell.execute_reply.started": "2025-05-16T10:19:51.586880Z"
    },
    "trusted": true
   },
   "outputs": [
    {
     "name": "stderr",
     "output_type": "stream",
     "text": [
      "You are using a model of type timm_wrapper to instantiate a model of type . This is not supported for all configurations of models and can yield errors.\n"
     ]
    }
   ],
   "source": [
    "model_id=\"timm/efficientvit_b3.r256_in1k\"\n",
    "onnx_path = Path(\"onnx\")\n",
    "\n",
    "model = ORTModelForImageClassification.from_pretrained(onnx_path, file_name=\"model.onnx\")"
   ]
  },
  {
   "cell_type": "code",
   "execution_count": 18,
   "metadata": {
    "execution": {
     "iopub.execute_input": "2025-05-16T10:19:53.298836Z",
     "iopub.status.busy": "2025-05-16T10:19:53.298410Z",
     "iopub.status.idle": "2025-05-16T10:19:53.302597Z",
     "shell.execute_reply": "2025-05-16T10:19:53.301842Z",
     "shell.execute_reply.started": "2025-05-16T10:19:53.298811Z"
    },
    "trusted": true
   },
   "outputs": [],
   "source": [
    "# main(model, path)"
   ]
  },
  {
   "cell_type": "markdown",
   "metadata": {},
   "source": [
    "## Quantization with Optimum"
   ]
  },
  {
   "cell_type": "code",
   "execution_count": 22,
   "metadata": {
    "execution": {
     "iopub.execute_input": "2025-05-16T10:20:31.503120Z",
     "iopub.status.busy": "2025-05-16T10:20:31.502842Z",
     "iopub.status.idle": "2025-05-16T10:20:31.508340Z",
     "shell.execute_reply": "2025-05-16T10:20:31.507673Z",
     "shell.execute_reply.started": "2025-05-16T10:20:31.503100Z"
    },
    "trusted": true
   },
   "outputs": [
    {
     "data": {
      "text/plain": [
       "'/head/classifier/classifier.4/Gemm'"
      ]
     },
     "execution_count": 22,
     "metadata": {},
     "output_type": "execute_result"
    }
   ],
   "source": []
  },
  {
   "cell_type": "code",
   "execution_count": 27,
   "metadata": {
    "collapsed": true,
    "execution": {
     "iopub.execute_input": "2025-05-16T10:23:58.968476Z",
     "iopub.status.busy": "2025-05-16T10:23:58.967939Z",
     "iopub.status.idle": "2025-05-16T10:23:59.836541Z",
     "shell.execute_reply": "2025-05-16T10:23:59.835858Z",
     "shell.execute_reply.started": "2025-05-16T10:23:58.968455Z"
    },
    "jupyter": {
     "outputs_hidden": true
    },
    "trusted": true
   },
   "outputs": [
    {
     "name": "stdout",
     "output_type": "stream",
     "text": [
      "['/stages/stages.2/blocks/blocks.0/main/inverted_conv/conv/Conv', '/stages/stages.2/blocks/blocks.0/main/inverted_conv/act/HardSwish', '/stages/stages.2/blocks/blocks.0/main/depth_conv/conv/Conv', '/stages/stages.2/blocks/blocks.0/main/depth_conv/act/HardSwish', '/stages/stages.2/blocks/blocks.0/main/point_conv/conv/Conv', '/stages/stages.2/blocks/blocks.1/context_module/main/Shape', '/stages/stages.2/blocks/blocks.1/context_module/main/Constant', '/stages/stages.2/blocks/blocks.1/context_module/main/Gather', '/stages/stages.2/blocks/blocks.1/context_module/main/Shape_1', '/stages/stages.2/blocks/blocks.1/context_module/main/Constant_1', '/stages/stages.2/blocks/blocks.1/context_module/main/Gather_1', '/stages/stages.2/blocks/blocks.1/context_module/main/Shape_2', '/stages/stages.2/blocks/blocks.1/context_module/main/Constant_2', '/stages/stages.2/blocks/blocks.1/context_module/main/Gather_2', '/stages/stages.2/blocks/blocks.1/context_module/main/qkv/conv/Conv', '/stages/stages.2/blocks/blocks.1/context_module/main/aggreg.0/aggreg.0.0/Conv', '/stages/stages.2/blocks/blocks.1/context_module/main/aggreg.0/aggreg.0.1/Conv', '/stages/stages.2/blocks/blocks.1/context_module/main/Concat', '/stages/stages.2/blocks/blocks.1/context_module/main/Mul', '/stages/stages.2/blocks/blocks.1/context_module/main/Unsqueeze', '/stages/stages.2/blocks/blocks.1/context_module/main/Constant_3', '/stages/stages.2/blocks/blocks.1/context_module/main/Constant_4', '/stages/stages.2/blocks/blocks.1/context_module/main/Unsqueeze_1', '/stages/stages.2/blocks/blocks.1/context_module/main/Concat_1', '/stages/stages.2/blocks/blocks.1/context_module/main/Reshape', '/stages/stages.2/blocks/blocks.1/context_module/main/Transpose', '/stages/stages.2/blocks/blocks.1/context_module/main/Shape_3', '/stages/stages.2/blocks/blocks.1/context_module/main/Constant_5', '/stages/stages.2/blocks/blocks.1/context_module/main/Gather_3', '/stages/stages.2/blocks/blocks.1/context_module/main/Constant_6', '/stages/stages.2/blocks/blocks.1/context_module/main/Constant_7', '/stages/stages.2/blocks/blocks.1/context_module/main/Add', '/stages/stages.2/blocks/blocks.1/context_module/main/Constant_8', '/stages/stages.2/blocks/blocks.1/context_module/main/Div', '/stages/stages.2/blocks/blocks.1/context_module/main/Constant_9', '/stages/stages.2/blocks/blocks.1/context_module/main/Mul_1', '/stages/stages.2/blocks/blocks.1/context_module/main/Slice', '/stages/stages.2/blocks/blocks.1/context_module/main/Constant_10', '/stages/stages.2/blocks/blocks.1/context_module/main/Mul_2', '/stages/stages.2/blocks/blocks.1/context_module/main/Slice_1', '/stages/stages.2/blocks/blocks.1/context_module/main/Constant_11', '/stages/stages.2/blocks/blocks.1/context_module/main/Mul_3', '/stages/stages.2/blocks/blocks.1/context_module/main/Slice_2', '/stages/stages.2/blocks/blocks.1/context_module/main/kernel_func/Relu', '/stages/stages.2/blocks/blocks.1/context_module/main/kernel_func_1/Relu', '/stages/stages.2/blocks/blocks.1/context_module/main/Constant_12', '/stages/stages.2/blocks/blocks.1/context_module/main/Constant_13', '/stages/stages.2/blocks/blocks.1/context_module/main/ConstantOfShape', '/stages/stages.2/blocks/blocks.1/context_module/main/Concat_2', '/stages/stages.2/blocks/blocks.1/context_module/main/Constant_14', '/stages/stages.2/blocks/blocks.1/context_module/main/Reshape_1', '/stages/stages.2/blocks/blocks.1/context_module/main/Constant_15', '/stages/stages.2/blocks/blocks.1/context_module/main/Constant_16', '/stages/stages.2/blocks/blocks.1/context_module/main/Constant_17', '/stages/stages.2/blocks/blocks.1/context_module/main/Constant_18', '/stages/stages.2/blocks/blocks.1/context_module/main/Slice_3', '/stages/stages.2/blocks/blocks.1/context_module/main/Transpose_1', '/stages/stages.2/blocks/blocks.1/context_module/main/Constant_19', '/stages/stages.2/blocks/blocks.1/context_module/main/Reshape_2', '/stages/stages.2/blocks/blocks.1/context_module/main/Cast', '/stages/stages.2/blocks/blocks.1/context_module/main/Constant_20', '/stages/stages.2/blocks/blocks.1/context_module/main/Pad', '/stages/stages.2/blocks/blocks.1/context_module/main/Cast_1', '/stages/stages.2/blocks/blocks.1/context_module/main/Cast_2', '/stages/stages.2/blocks/blocks.1/context_module/main/Cast_3', '/stages/stages.2/blocks/blocks.1/context_module/main/Transpose_2', '/stages/stages.2/blocks/blocks.1/context_module/main/MatMul', '/stages/stages.2/blocks/blocks.1/context_module/main/MatMul_1', '/stages/stages.2/blocks/blocks.1/context_module/main/Constant_21', '/stages/stages.2/blocks/blocks.1/context_module/main/Constant_22', '/stages/stages.2/blocks/blocks.1/context_module/main/Constant_23', '/stages/stages.2/blocks/blocks.1/context_module/main/Constant_24', '/stages/stages.2/blocks/blocks.1/context_module/main/Slice_4', '/stages/stages.2/blocks/blocks.1/context_module/main/Constant_25', '/stages/stages.2/blocks/blocks.1/context_module/main/Constant_26', '/stages/stages.2/blocks/blocks.1/context_module/main/Constant_27', '/stages/stages.2/blocks/blocks.1/context_module/main/Constant_28', '/stages/stages.2/blocks/blocks.1/context_module/main/Slice_5', '/stages/stages.2/blocks/blocks.1/context_module/main/Constant_29', '/stages/stages.2/blocks/blocks.1/context_module/main/Add_1', '/stages/stages.2/blocks/blocks.1/context_module/main/Div_1', '/stages/stages.2/blocks/blocks.1/context_module/main/Cast_4', '/stages/stages.2/blocks/blocks.1/context_module/main/Transpose_3', '/stages/stages.2/blocks/blocks.1/context_module/main/Unsqueeze_2', '/stages/stages.2/blocks/blocks.1/context_module/main/Constant_30', '/stages/stages.2/blocks/blocks.1/context_module/main/Unsqueeze_3', '/stages/stages.2/blocks/blocks.1/context_module/main/Unsqueeze_4', '/stages/stages.2/blocks/blocks.1/context_module/main/Concat_3', '/stages/stages.2/blocks/blocks.1/context_module/main/Reshape_3', '/stages/stages.2/blocks/blocks.1/context_module/main/proj/conv/Conv', '/stages/stages.2/blocks/blocks.1/context_module/Add', '/stages/stages.2/blocks/blocks.1/local_module/main/inverted_conv/conv/Conv', '/stages/stages.2/blocks/blocks.1/local_module/main/inverted_conv/act/HardSwish', '/stages/stages.2/blocks/blocks.1/local_module/main/depth_conv/conv/Conv', '/stages/stages.2/blocks/blocks.1/local_module/main/depth_conv/act/HardSwish', '/stages/stages.2/blocks/blocks.1/local_module/main/point_conv/conv/Conv', '/stages/stages.2/blocks/blocks.1/local_module/Add', '/stages/stages.2/blocks/blocks.2/context_module/main/Shape', '/stages/stages.2/blocks/blocks.2/context_module/main/Constant', '/stages/stages.2/blocks/blocks.2/context_module/main/Gather', '/stages/stages.2/blocks/blocks.2/context_module/main/Shape_1', '/stages/stages.2/blocks/blocks.2/context_module/main/Constant_1', '/stages/stages.2/blocks/blocks.2/context_module/main/Gather_1', '/stages/stages.2/blocks/blocks.2/context_module/main/Shape_2', '/stages/stages.2/blocks/blocks.2/context_module/main/Constant_2', '/stages/stages.2/blocks/blocks.2/context_module/main/Gather_2', '/stages/stages.2/blocks/blocks.2/context_module/main/qkv/conv/Conv', '/stages/stages.2/blocks/blocks.2/context_module/main/aggreg.0/aggreg.0.0/Conv', '/stages/stages.2/blocks/blocks.2/context_module/main/aggreg.0/aggreg.0.1/Conv', '/stages/stages.2/blocks/blocks.2/context_module/main/Concat', '/stages/stages.2/blocks/blocks.2/context_module/main/Mul', '/stages/stages.2/blocks/blocks.2/context_module/main/Unsqueeze', '/stages/stages.2/blocks/blocks.2/context_module/main/Constant_3', '/stages/stages.2/blocks/blocks.2/context_module/main/Constant_4', '/stages/stages.2/blocks/blocks.2/context_module/main/Unsqueeze_1', '/stages/stages.2/blocks/blocks.2/context_module/main/Concat_1', '/stages/stages.2/blocks/blocks.2/context_module/main/Reshape', '/stages/stages.2/blocks/blocks.2/context_module/main/Transpose', '/stages/stages.2/blocks/blocks.2/context_module/main/Shape_3', '/stages/stages.2/blocks/blocks.2/context_module/main/Constant_5', '/stages/stages.2/blocks/blocks.2/context_module/main/Gather_3', '/stages/stages.2/blocks/blocks.2/context_module/main/Constant_6', '/stages/stages.2/blocks/blocks.2/context_module/main/Constant_7', '/stages/stages.2/blocks/blocks.2/context_module/main/Add', '/stages/stages.2/blocks/blocks.2/context_module/main/Constant_8', '/stages/stages.2/blocks/blocks.2/context_module/main/Div', '/stages/stages.2/blocks/blocks.2/context_module/main/Constant_9', '/stages/stages.2/blocks/blocks.2/context_module/main/Mul_1', '/stages/stages.2/blocks/blocks.2/context_module/main/Slice', '/stages/stages.2/blocks/blocks.2/context_module/main/Constant_10', '/stages/stages.2/blocks/blocks.2/context_module/main/Mul_2', '/stages/stages.2/blocks/blocks.2/context_module/main/Slice_1', '/stages/stages.2/blocks/blocks.2/context_module/main/Constant_11', '/stages/stages.2/blocks/blocks.2/context_module/main/Mul_3', '/stages/stages.2/blocks/blocks.2/context_module/main/Slice_2', '/stages/stages.2/blocks/blocks.2/context_module/main/kernel_func/Relu', '/stages/stages.2/blocks/blocks.2/context_module/main/kernel_func_1/Relu', '/stages/stages.2/blocks/blocks.2/context_module/main/Constant_12', '/stages/stages.2/blocks/blocks.2/context_module/main/Constant_13', '/stages/stages.2/blocks/blocks.2/context_module/main/ConstantOfShape', '/stages/stages.2/blocks/blocks.2/context_module/main/Concat_2', '/stages/stages.2/blocks/blocks.2/context_module/main/Constant_14', '/stages/stages.2/blocks/blocks.2/context_module/main/Reshape_1', '/stages/stages.2/blocks/blocks.2/context_module/main/Constant_15', '/stages/stages.2/blocks/blocks.2/context_module/main/Constant_16', '/stages/stages.2/blocks/blocks.2/context_module/main/Constant_17', '/stages/stages.2/blocks/blocks.2/context_module/main/Constant_18', '/stages/stages.2/blocks/blocks.2/context_module/main/Slice_3', '/stages/stages.2/blocks/blocks.2/context_module/main/Transpose_1', '/stages/stages.2/blocks/blocks.2/context_module/main/Constant_19', '/stages/stages.2/blocks/blocks.2/context_module/main/Reshape_2', '/stages/stages.2/blocks/blocks.2/context_module/main/Cast', '/stages/stages.2/blocks/blocks.2/context_module/main/Constant_20', '/stages/stages.2/blocks/blocks.2/context_module/main/Pad', '/stages/stages.2/blocks/blocks.2/context_module/main/Cast_1', '/stages/stages.2/blocks/blocks.2/context_module/main/Cast_2', '/stages/stages.2/blocks/blocks.2/context_module/main/Cast_3', '/stages/stages.2/blocks/blocks.2/context_module/main/Transpose_2', '/stages/stages.2/blocks/blocks.2/context_module/main/MatMul', '/stages/stages.2/blocks/blocks.2/context_module/main/MatMul_1', '/stages/stages.2/blocks/blocks.2/context_module/main/Constant_21', '/stages/stages.2/blocks/blocks.2/context_module/main/Constant_22', '/stages/stages.2/blocks/blocks.2/context_module/main/Constant_23', '/stages/stages.2/blocks/blocks.2/context_module/main/Constant_24', '/stages/stages.2/blocks/blocks.2/context_module/main/Slice_4', '/stages/stages.2/blocks/blocks.2/context_module/main/Constant_25', '/stages/stages.2/blocks/blocks.2/context_module/main/Constant_26', '/stages/stages.2/blocks/blocks.2/context_module/main/Constant_27', '/stages/stages.2/blocks/blocks.2/context_module/main/Constant_28', '/stages/stages.2/blocks/blocks.2/context_module/main/Slice_5', '/stages/stages.2/blocks/blocks.2/context_module/main/Constant_29', '/stages/stages.2/blocks/blocks.2/context_module/main/Add_1', '/stages/stages.2/blocks/blocks.2/context_module/main/Div_1', '/stages/stages.2/blocks/blocks.2/context_module/main/Cast_4', '/stages/stages.2/blocks/blocks.2/context_module/main/Transpose_3', '/stages/stages.2/blocks/blocks.2/context_module/main/Unsqueeze_2', '/stages/stages.2/blocks/blocks.2/context_module/main/Constant_30', '/stages/stages.2/blocks/blocks.2/context_module/main/Unsqueeze_3', '/stages/stages.2/blocks/blocks.2/context_module/main/Unsqueeze_4', '/stages/stages.2/blocks/blocks.2/context_module/main/Concat_3', '/stages/stages.2/blocks/blocks.2/context_module/main/Reshape_3', '/stages/stages.2/blocks/blocks.2/context_module/main/proj/conv/Conv', '/stages/stages.2/blocks/blocks.2/context_module/Add', '/stages/stages.2/blocks/blocks.2/local_module/main/inverted_conv/conv/Conv', '/stages/stages.2/blocks/blocks.2/local_module/main/inverted_conv/act/HardSwish', '/stages/stages.2/blocks/blocks.2/local_module/main/depth_conv/conv/Conv', '/stages/stages.2/blocks/blocks.2/local_module/main/depth_conv/act/HardSwish', '/stages/stages.2/blocks/blocks.2/local_module/main/point_conv/conv/Conv', '/stages/stages.2/blocks/blocks.2/local_module/Add', '/stages/stages.2/blocks/blocks.3/context_module/main/Shape', '/stages/stages.2/blocks/blocks.3/context_module/main/Constant', '/stages/stages.2/blocks/blocks.3/context_module/main/Gather', '/stages/stages.2/blocks/blocks.3/context_module/main/Shape_1', '/stages/stages.2/blocks/blocks.3/context_module/main/Constant_1', '/stages/stages.2/blocks/blocks.3/context_module/main/Gather_1', '/stages/stages.2/blocks/blocks.3/context_module/main/Shape_2', '/stages/stages.2/blocks/blocks.3/context_module/main/Constant_2', '/stages/stages.2/blocks/blocks.3/context_module/main/Gather_2', '/stages/stages.2/blocks/blocks.3/context_module/main/qkv/conv/Conv', '/stages/stages.2/blocks/blocks.3/context_module/main/aggreg.0/aggreg.0.0/Conv', '/stages/stages.2/blocks/blocks.3/context_module/main/aggreg.0/aggreg.0.1/Conv', '/stages/stages.2/blocks/blocks.3/context_module/main/Concat', '/stages/stages.2/blocks/blocks.3/context_module/main/Mul', '/stages/stages.2/blocks/blocks.3/context_module/main/Unsqueeze', '/stages/stages.2/blocks/blocks.3/context_module/main/Constant_3', '/stages/stages.2/blocks/blocks.3/context_module/main/Constant_4', '/stages/stages.2/blocks/blocks.3/context_module/main/Unsqueeze_1', '/stages/stages.2/blocks/blocks.3/context_module/main/Concat_1', '/stages/stages.2/blocks/blocks.3/context_module/main/Reshape', '/stages/stages.2/blocks/blocks.3/context_module/main/Transpose', '/stages/stages.2/blocks/blocks.3/context_module/main/Shape_3', '/stages/stages.2/blocks/blocks.3/context_module/main/Constant_5', '/stages/stages.2/blocks/blocks.3/context_module/main/Gather_3', '/stages/stages.2/blocks/blocks.3/context_module/main/Constant_6', '/stages/stages.2/blocks/blocks.3/context_module/main/Constant_7', '/stages/stages.2/blocks/blocks.3/context_module/main/Add', '/stages/stages.2/blocks/blocks.3/context_module/main/Constant_8', '/stages/stages.2/blocks/blocks.3/context_module/main/Div', '/stages/stages.2/blocks/blocks.3/context_module/main/Constant_9', '/stages/stages.2/blocks/blocks.3/context_module/main/Mul_1', '/stages/stages.2/blocks/blocks.3/context_module/main/Slice', '/stages/stages.2/blocks/blocks.3/context_module/main/Constant_10', '/stages/stages.2/blocks/blocks.3/context_module/main/Mul_2', '/stages/stages.2/blocks/blocks.3/context_module/main/Slice_1', '/stages/stages.2/blocks/blocks.3/context_module/main/Constant_11', '/stages/stages.2/blocks/blocks.3/context_module/main/Mul_3', '/stages/stages.2/blocks/blocks.3/context_module/main/Slice_2', '/stages/stages.2/blocks/blocks.3/context_module/main/kernel_func/Relu', '/stages/stages.2/blocks/blocks.3/context_module/main/kernel_func_1/Relu', '/stages/stages.2/blocks/blocks.3/context_module/main/Constant_12', '/stages/stages.2/blocks/blocks.3/context_module/main/Constant_13', '/stages/stages.2/blocks/blocks.3/context_module/main/ConstantOfShape', '/stages/stages.2/blocks/blocks.3/context_module/main/Concat_2', '/stages/stages.2/blocks/blocks.3/context_module/main/Constant_14', '/stages/stages.2/blocks/blocks.3/context_module/main/Reshape_1', '/stages/stages.2/blocks/blocks.3/context_module/main/Constant_15', '/stages/stages.2/blocks/blocks.3/context_module/main/Constant_16', '/stages/stages.2/blocks/blocks.3/context_module/main/Constant_17', '/stages/stages.2/blocks/blocks.3/context_module/main/Constant_18', '/stages/stages.2/blocks/blocks.3/context_module/main/Slice_3', '/stages/stages.2/blocks/blocks.3/context_module/main/Transpose_1', '/stages/stages.2/blocks/blocks.3/context_module/main/Constant_19', '/stages/stages.2/blocks/blocks.3/context_module/main/Reshape_2', '/stages/stages.2/blocks/blocks.3/context_module/main/Cast', '/stages/stages.2/blocks/blocks.3/context_module/main/Constant_20', '/stages/stages.2/blocks/blocks.3/context_module/main/Pad', '/stages/stages.2/blocks/blocks.3/context_module/main/Cast_1', '/stages/stages.2/blocks/blocks.3/context_module/main/Cast_2', '/stages/stages.2/blocks/blocks.3/context_module/main/Cast_3', '/stages/stages.2/blocks/blocks.3/context_module/main/Transpose_2', '/stages/stages.2/blocks/blocks.3/context_module/main/MatMul', '/stages/stages.2/blocks/blocks.3/context_module/main/MatMul_1', '/stages/stages.2/blocks/blocks.3/context_module/main/Constant_21', '/stages/stages.2/blocks/blocks.3/context_module/main/Constant_22', '/stages/stages.2/blocks/blocks.3/context_module/main/Constant_23', '/stages/stages.2/blocks/blocks.3/context_module/main/Constant_24', '/stages/stages.2/blocks/blocks.3/context_module/main/Slice_4', '/stages/stages.2/blocks/blocks.3/context_module/main/Constant_25', '/stages/stages.2/blocks/blocks.3/context_module/main/Constant_26', '/stages/stages.2/blocks/blocks.3/context_module/main/Constant_27', '/stages/stages.2/blocks/blocks.3/context_module/main/Constant_28', '/stages/stages.2/blocks/blocks.3/context_module/main/Slice_5', '/stages/stages.2/blocks/blocks.3/context_module/main/Constant_29', '/stages/stages.2/blocks/blocks.3/context_module/main/Add_1', '/stages/stages.2/blocks/blocks.3/context_module/main/Div_1', '/stages/stages.2/blocks/blocks.3/context_module/main/Cast_4', '/stages/stages.2/blocks/blocks.3/context_module/main/Transpose_3', '/stages/stages.2/blocks/blocks.3/context_module/main/Unsqueeze_2', '/stages/stages.2/blocks/blocks.3/context_module/main/Constant_30', '/stages/stages.2/blocks/blocks.3/context_module/main/Unsqueeze_3', '/stages/stages.2/blocks/blocks.3/context_module/main/Unsqueeze_4', '/stages/stages.2/blocks/blocks.3/context_module/main/Concat_3', '/stages/stages.2/blocks/blocks.3/context_module/main/Reshape_3', '/stages/stages.2/blocks/blocks.3/context_module/main/proj/conv/Conv', '/stages/stages.2/blocks/blocks.3/context_module/Add', '/stages/stages.2/blocks/blocks.3/local_module/main/inverted_conv/conv/Conv', '/stages/stages.2/blocks/blocks.3/local_module/main/inverted_conv/act/HardSwish', '/stages/stages.2/blocks/blocks.3/local_module/main/depth_conv/conv/Conv', '/stages/stages.2/blocks/blocks.3/local_module/main/depth_conv/act/HardSwish', '/stages/stages.2/blocks/blocks.3/local_module/main/point_conv/conv/Conv', '/stages/stages.2/blocks/blocks.3/local_module/Add', '/stages/stages.2/blocks/blocks.4/context_module/main/Shape', '/stages/stages.2/blocks/blocks.4/context_module/main/Constant', '/stages/stages.2/blocks/blocks.4/context_module/main/Gather', '/stages/stages.2/blocks/blocks.4/context_module/main/Shape_1', '/stages/stages.2/blocks/blocks.4/context_module/main/Constant_1', '/stages/stages.2/blocks/blocks.4/context_module/main/Gather_1', '/stages/stages.2/blocks/blocks.4/context_module/main/Shape_2', '/stages/stages.2/blocks/blocks.4/context_module/main/Constant_2', '/stages/stages.2/blocks/blocks.4/context_module/main/Gather_2', '/stages/stages.2/blocks/blocks.4/context_module/main/qkv/conv/Conv', '/stages/stages.2/blocks/blocks.4/context_module/main/aggreg.0/aggreg.0.0/Conv', '/stages/stages.2/blocks/blocks.4/context_module/main/aggreg.0/aggreg.0.1/Conv', '/stages/stages.2/blocks/blocks.4/context_module/main/Concat', '/stages/stages.2/blocks/blocks.4/context_module/main/Mul', '/stages/stages.2/blocks/blocks.4/context_module/main/Unsqueeze', '/stages/stages.2/blocks/blocks.4/context_module/main/Constant_3', '/stages/stages.2/blocks/blocks.4/context_module/main/Constant_4', '/stages/stages.2/blocks/blocks.4/context_module/main/Unsqueeze_1', '/stages/stages.2/blocks/blocks.4/context_module/main/Concat_1', '/stages/stages.2/blocks/blocks.4/context_module/main/Reshape', '/stages/stages.2/blocks/blocks.4/context_module/main/Transpose', '/stages/stages.2/blocks/blocks.4/context_module/main/Shape_3', '/stages/stages.2/blocks/blocks.4/context_module/main/Constant_5', '/stages/stages.2/blocks/blocks.4/context_module/main/Gather_3', '/stages/stages.2/blocks/blocks.4/context_module/main/Constant_6', '/stages/stages.2/blocks/blocks.4/context_module/main/Constant_7', '/stages/stages.2/blocks/blocks.4/context_module/main/Add', '/stages/stages.2/blocks/blocks.4/context_module/main/Constant_8', '/stages/stages.2/blocks/blocks.4/context_module/main/Div', '/stages/stages.2/blocks/blocks.4/context_module/main/Constant_9', '/stages/stages.2/blocks/blocks.4/context_module/main/Mul_1', '/stages/stages.2/blocks/blocks.4/context_module/main/Slice', '/stages/stages.2/blocks/blocks.4/context_module/main/Constant_10', '/stages/stages.2/blocks/blocks.4/context_module/main/Mul_2', '/stages/stages.2/blocks/blocks.4/context_module/main/Slice_1', '/stages/stages.2/blocks/blocks.4/context_module/main/Constant_11', '/stages/stages.2/blocks/blocks.4/context_module/main/Mul_3', '/stages/stages.2/blocks/blocks.4/context_module/main/Slice_2', '/stages/stages.2/blocks/blocks.4/context_module/main/kernel_func/Relu', '/stages/stages.2/blocks/blocks.4/context_module/main/kernel_func_1/Relu', '/stages/stages.2/blocks/blocks.4/context_module/main/Constant_12', '/stages/stages.2/blocks/blocks.4/context_module/main/Constant_13', '/stages/stages.2/blocks/blocks.4/context_module/main/ConstantOfShape', '/stages/stages.2/blocks/blocks.4/context_module/main/Concat_2', '/stages/stages.2/blocks/blocks.4/context_module/main/Constant_14', '/stages/stages.2/blocks/blocks.4/context_module/main/Reshape_1', '/stages/stages.2/blocks/blocks.4/context_module/main/Constant_15', '/stages/stages.2/blocks/blocks.4/context_module/main/Constant_16', '/stages/stages.2/blocks/blocks.4/context_module/main/Constant_17', '/stages/stages.2/blocks/blocks.4/context_module/main/Constant_18', '/stages/stages.2/blocks/blocks.4/context_module/main/Slice_3', '/stages/stages.2/blocks/blocks.4/context_module/main/Transpose_1', '/stages/stages.2/blocks/blocks.4/context_module/main/Constant_19', '/stages/stages.2/blocks/blocks.4/context_module/main/Reshape_2', '/stages/stages.2/blocks/blocks.4/context_module/main/Cast', '/stages/stages.2/blocks/blocks.4/context_module/main/Constant_20', '/stages/stages.2/blocks/blocks.4/context_module/main/Pad', '/stages/stages.2/blocks/blocks.4/context_module/main/Cast_1', '/stages/stages.2/blocks/blocks.4/context_module/main/Cast_2', '/stages/stages.2/blocks/blocks.4/context_module/main/Cast_3', '/stages/stages.2/blocks/blocks.4/context_module/main/Transpose_2', '/stages/stages.2/blocks/blocks.4/context_module/main/MatMul', '/stages/stages.2/blocks/blocks.4/context_module/main/MatMul_1', '/stages/stages.2/blocks/blocks.4/context_module/main/Constant_21', '/stages/stages.2/blocks/blocks.4/context_module/main/Constant_22', '/stages/stages.2/blocks/blocks.4/context_module/main/Constant_23', '/stages/stages.2/blocks/blocks.4/context_module/main/Constant_24', '/stages/stages.2/blocks/blocks.4/context_module/main/Slice_4', '/stages/stages.2/blocks/blocks.4/context_module/main/Constant_25', '/stages/stages.2/blocks/blocks.4/context_module/main/Constant_26', '/stages/stages.2/blocks/blocks.4/context_module/main/Constant_27', '/stages/stages.2/blocks/blocks.4/context_module/main/Constant_28', '/stages/stages.2/blocks/blocks.4/context_module/main/Slice_5', '/stages/stages.2/blocks/blocks.4/context_module/main/Constant_29', '/stages/stages.2/blocks/blocks.4/context_module/main/Add_1', '/stages/stages.2/blocks/blocks.4/context_module/main/Div_1', '/stages/stages.2/blocks/blocks.4/context_module/main/Cast_4', '/stages/stages.2/blocks/blocks.4/context_module/main/Transpose_3', '/stages/stages.2/blocks/blocks.4/context_module/main/Unsqueeze_2', '/stages/stages.2/blocks/blocks.4/context_module/main/Constant_30', '/stages/stages.2/blocks/blocks.4/context_module/main/Unsqueeze_3', '/stages/stages.2/blocks/blocks.4/context_module/main/Unsqueeze_4', '/stages/stages.2/blocks/blocks.4/context_module/main/Concat_3', '/stages/stages.2/blocks/blocks.4/context_module/main/Reshape_3', '/stages/stages.2/blocks/blocks.4/context_module/main/proj/conv/Conv', '/stages/stages.2/blocks/blocks.4/context_module/Add', '/stages/stages.2/blocks/blocks.4/local_module/main/inverted_conv/conv/Conv', '/stages/stages.2/blocks/blocks.4/local_module/main/inverted_conv/act/HardSwish', '/stages/stages.2/blocks/blocks.4/local_module/main/depth_conv/conv/Conv', '/stages/stages.2/blocks/blocks.4/local_module/main/depth_conv/act/HardSwish', '/stages/stages.2/blocks/blocks.4/local_module/main/point_conv/conv/Conv', '/stages/stages.2/blocks/blocks.4/local_module/Add', '/stages/stages.2/blocks/blocks.5/context_module/main/Shape', '/stages/stages.2/blocks/blocks.5/context_module/main/Constant', '/stages/stages.2/blocks/blocks.5/context_module/main/Gather', '/stages/stages.2/blocks/blocks.5/context_module/main/Shape_1', '/stages/stages.2/blocks/blocks.5/context_module/main/Constant_1', '/stages/stages.2/blocks/blocks.5/context_module/main/Gather_1', '/stages/stages.2/blocks/blocks.5/context_module/main/Shape_2', '/stages/stages.2/blocks/blocks.5/context_module/main/Constant_2', '/stages/stages.2/blocks/blocks.5/context_module/main/Gather_2', '/stages/stages.2/blocks/blocks.5/context_module/main/qkv/conv/Conv', '/stages/stages.2/blocks/blocks.5/context_module/main/aggreg.0/aggreg.0.0/Conv', '/stages/stages.2/blocks/blocks.5/context_module/main/aggreg.0/aggreg.0.1/Conv', '/stages/stages.2/blocks/blocks.5/context_module/main/Concat', '/stages/stages.2/blocks/blocks.5/context_module/main/Mul', '/stages/stages.2/blocks/blocks.5/context_module/main/Unsqueeze', '/stages/stages.2/blocks/blocks.5/context_module/main/Constant_3', '/stages/stages.2/blocks/blocks.5/context_module/main/Constant_4', '/stages/stages.2/blocks/blocks.5/context_module/main/Unsqueeze_1', '/stages/stages.2/blocks/blocks.5/context_module/main/Concat_1', '/stages/stages.2/blocks/blocks.5/context_module/main/Reshape', '/stages/stages.2/blocks/blocks.5/context_module/main/Transpose', '/stages/stages.2/blocks/blocks.5/context_module/main/Shape_3', '/stages/stages.2/blocks/blocks.5/context_module/main/Constant_5', '/stages/stages.2/blocks/blocks.5/context_module/main/Gather_3', '/stages/stages.2/blocks/blocks.5/context_module/main/Constant_6', '/stages/stages.2/blocks/blocks.5/context_module/main/Constant_7', '/stages/stages.2/blocks/blocks.5/context_module/main/Add', '/stages/stages.2/blocks/blocks.5/context_module/main/Constant_8', '/stages/stages.2/blocks/blocks.5/context_module/main/Div', '/stages/stages.2/blocks/blocks.5/context_module/main/Constant_9', '/stages/stages.2/blocks/blocks.5/context_module/main/Mul_1', '/stages/stages.2/blocks/blocks.5/context_module/main/Slice', '/stages/stages.2/blocks/blocks.5/context_module/main/Constant_10', '/stages/stages.2/blocks/blocks.5/context_module/main/Mul_2', '/stages/stages.2/blocks/blocks.5/context_module/main/Slice_1', '/stages/stages.2/blocks/blocks.5/context_module/main/Constant_11', '/stages/stages.2/blocks/blocks.5/context_module/main/Mul_3', '/stages/stages.2/blocks/blocks.5/context_module/main/Slice_2', '/stages/stages.2/blocks/blocks.5/context_module/main/kernel_func/Relu', '/stages/stages.2/blocks/blocks.5/context_module/main/kernel_func_1/Relu', '/stages/stages.2/blocks/blocks.5/context_module/main/Constant_12', '/stages/stages.2/blocks/blocks.5/context_module/main/Constant_13', '/stages/stages.2/blocks/blocks.5/context_module/main/ConstantOfShape', '/stages/stages.2/blocks/blocks.5/context_module/main/Concat_2', '/stages/stages.2/blocks/blocks.5/context_module/main/Constant_14', '/stages/stages.2/blocks/blocks.5/context_module/main/Reshape_1', '/stages/stages.2/blocks/blocks.5/context_module/main/Constant_15', '/stages/stages.2/blocks/blocks.5/context_module/main/Constant_16', '/stages/stages.2/blocks/blocks.5/context_module/main/Constant_17', '/stages/stages.2/blocks/blocks.5/context_module/main/Constant_18', '/stages/stages.2/blocks/blocks.5/context_module/main/Slice_3', '/stages/stages.2/blocks/blocks.5/context_module/main/Transpose_1', '/stages/stages.2/blocks/blocks.5/context_module/main/Constant_19', '/stages/stages.2/blocks/blocks.5/context_module/main/Reshape_2', '/stages/stages.2/blocks/blocks.5/context_module/main/Cast', '/stages/stages.2/blocks/blocks.5/context_module/main/Constant_20', '/stages/stages.2/blocks/blocks.5/context_module/main/Pad', '/stages/stages.2/blocks/blocks.5/context_module/main/Cast_1', '/stages/stages.2/blocks/blocks.5/context_module/main/Cast_2', '/stages/stages.2/blocks/blocks.5/context_module/main/Cast_3', '/stages/stages.2/blocks/blocks.5/context_module/main/Transpose_2', '/stages/stages.2/blocks/blocks.5/context_module/main/MatMul', '/stages/stages.2/blocks/blocks.5/context_module/main/MatMul_1', '/stages/stages.2/blocks/blocks.5/context_module/main/Constant_21', '/stages/stages.2/blocks/blocks.5/context_module/main/Constant_22', '/stages/stages.2/blocks/blocks.5/context_module/main/Constant_23', '/stages/stages.2/blocks/blocks.5/context_module/main/Constant_24', '/stages/stages.2/blocks/blocks.5/context_module/main/Slice_4', '/stages/stages.2/blocks/blocks.5/context_module/main/Constant_25', '/stages/stages.2/blocks/blocks.5/context_module/main/Constant_26', '/stages/stages.2/blocks/blocks.5/context_module/main/Constant_27', '/stages/stages.2/blocks/blocks.5/context_module/main/Constant_28', '/stages/stages.2/blocks/blocks.5/context_module/main/Slice_5', '/stages/stages.2/blocks/blocks.5/context_module/main/Constant_29', '/stages/stages.2/blocks/blocks.5/context_module/main/Add_1', '/stages/stages.2/blocks/blocks.5/context_module/main/Div_1', '/stages/stages.2/blocks/blocks.5/context_module/main/Cast_4', '/stages/stages.2/blocks/blocks.5/context_module/main/Transpose_3', '/stages/stages.2/blocks/blocks.5/context_module/main/Unsqueeze_2', '/stages/stages.2/blocks/blocks.5/context_module/main/Constant_30', '/stages/stages.2/blocks/blocks.5/context_module/main/Unsqueeze_3', '/stages/stages.2/blocks/blocks.5/context_module/main/Unsqueeze_4', '/stages/stages.2/blocks/blocks.5/context_module/main/Concat_3', '/stages/stages.2/blocks/blocks.5/context_module/main/Reshape_3', '/stages/stages.2/blocks/blocks.5/context_module/main/proj/conv/Conv', '/stages/stages.2/blocks/blocks.5/context_module/Add', '/stages/stages.2/blocks/blocks.5/local_module/main/inverted_conv/conv/Conv', '/stages/stages.2/blocks/blocks.5/local_module/main/inverted_conv/act/HardSwish', '/stages/stages.2/blocks/blocks.5/local_module/main/depth_conv/conv/Conv', '/stages/stages.2/blocks/blocks.5/local_module/main/depth_conv/act/HardSwish', '/stages/stages.2/blocks/blocks.5/local_module/main/point_conv/conv/Conv', '/stages/stages.2/blocks/blocks.5/local_module/Add', '/stages/stages.2/blocks/blocks.6/context_module/main/Shape', '/stages/stages.2/blocks/blocks.6/context_module/main/Constant', '/stages/stages.2/blocks/blocks.6/context_module/main/Gather', '/stages/stages.2/blocks/blocks.6/context_module/main/Shape_1', '/stages/stages.2/blocks/blocks.6/context_module/main/Constant_1', '/stages/stages.2/blocks/blocks.6/context_module/main/Gather_1', '/stages/stages.2/blocks/blocks.6/context_module/main/Shape_2', '/stages/stages.2/blocks/blocks.6/context_module/main/Constant_2', '/stages/stages.2/blocks/blocks.6/context_module/main/Gather_2', '/stages/stages.2/blocks/blocks.6/context_module/main/qkv/conv/Conv', '/stages/stages.2/blocks/blocks.6/context_module/main/aggreg.0/aggreg.0.0/Conv', '/stages/stages.2/blocks/blocks.6/context_module/main/aggreg.0/aggreg.0.1/Conv', '/stages/stages.2/blocks/blocks.6/context_module/main/Concat', '/stages/stages.2/blocks/blocks.6/context_module/main/Mul', '/stages/stages.2/blocks/blocks.6/context_module/main/Unsqueeze', '/stages/stages.2/blocks/blocks.6/context_module/main/Constant_3', '/stages/stages.2/blocks/blocks.6/context_module/main/Constant_4', '/stages/stages.2/blocks/blocks.6/context_module/main/Unsqueeze_1', '/stages/stages.2/blocks/blocks.6/context_module/main/Concat_1', '/stages/stages.2/blocks/blocks.6/context_module/main/Reshape', '/stages/stages.2/blocks/blocks.6/context_module/main/Transpose', '/stages/stages.2/blocks/blocks.6/context_module/main/Shape_3', '/stages/stages.2/blocks/blocks.6/context_module/main/Constant_5', '/stages/stages.2/blocks/blocks.6/context_module/main/Gather_3', '/stages/stages.2/blocks/blocks.6/context_module/main/Constant_6', '/stages/stages.2/blocks/blocks.6/context_module/main/Constant_7', '/stages/stages.2/blocks/blocks.6/context_module/main/Add', '/stages/stages.2/blocks/blocks.6/context_module/main/Constant_8', '/stages/stages.2/blocks/blocks.6/context_module/main/Div', '/stages/stages.2/blocks/blocks.6/context_module/main/Constant_9', '/stages/stages.2/blocks/blocks.6/context_module/main/Mul_1', '/stages/stages.2/blocks/blocks.6/context_module/main/Slice', '/stages/stages.2/blocks/blocks.6/context_module/main/Constant_10', '/stages/stages.2/blocks/blocks.6/context_module/main/Mul_2', '/stages/stages.2/blocks/blocks.6/context_module/main/Slice_1', '/stages/stages.2/blocks/blocks.6/context_module/main/Constant_11', '/stages/stages.2/blocks/blocks.6/context_module/main/Mul_3', '/stages/stages.2/blocks/blocks.6/context_module/main/Slice_2', '/stages/stages.2/blocks/blocks.6/context_module/main/kernel_func/Relu', '/stages/stages.2/blocks/blocks.6/context_module/main/kernel_func_1/Relu', '/stages/stages.2/blocks/blocks.6/context_module/main/Constant_12', '/stages/stages.2/blocks/blocks.6/context_module/main/Constant_13', '/stages/stages.2/blocks/blocks.6/context_module/main/ConstantOfShape', '/stages/stages.2/blocks/blocks.6/context_module/main/Concat_2', '/stages/stages.2/blocks/blocks.6/context_module/main/Constant_14', '/stages/stages.2/blocks/blocks.6/context_module/main/Reshape_1', '/stages/stages.2/blocks/blocks.6/context_module/main/Constant_15', '/stages/stages.2/blocks/blocks.6/context_module/main/Constant_16', '/stages/stages.2/blocks/blocks.6/context_module/main/Constant_17', '/stages/stages.2/blocks/blocks.6/context_module/main/Constant_18', '/stages/stages.2/blocks/blocks.6/context_module/main/Slice_3', '/stages/stages.2/blocks/blocks.6/context_module/main/Transpose_1', '/stages/stages.2/blocks/blocks.6/context_module/main/Constant_19', '/stages/stages.2/blocks/blocks.6/context_module/main/Reshape_2', '/stages/stages.2/blocks/blocks.6/context_module/main/Cast', '/stages/stages.2/blocks/blocks.6/context_module/main/Constant_20', '/stages/stages.2/blocks/blocks.6/context_module/main/Pad', '/stages/stages.2/blocks/blocks.6/context_module/main/Cast_1', '/stages/stages.2/blocks/blocks.6/context_module/main/Cast_2', '/stages/stages.2/blocks/blocks.6/context_module/main/Cast_3', '/stages/stages.2/blocks/blocks.6/context_module/main/Transpose_2', '/stages/stages.2/blocks/blocks.6/context_module/main/MatMul', '/stages/stages.2/blocks/blocks.6/context_module/main/MatMul_1', '/stages/stages.2/blocks/blocks.6/context_module/main/Constant_21', '/stages/stages.2/blocks/blocks.6/context_module/main/Constant_22', '/stages/stages.2/blocks/blocks.6/context_module/main/Constant_23', '/stages/stages.2/blocks/blocks.6/context_module/main/Constant_24', '/stages/stages.2/blocks/blocks.6/context_module/main/Slice_4', '/stages/stages.2/blocks/blocks.6/context_module/main/Constant_25', '/stages/stages.2/blocks/blocks.6/context_module/main/Constant_26', '/stages/stages.2/blocks/blocks.6/context_module/main/Constant_27', '/stages/stages.2/blocks/blocks.6/context_module/main/Constant_28', '/stages/stages.2/blocks/blocks.6/context_module/main/Slice_5', '/stages/stages.2/blocks/blocks.6/context_module/main/Constant_29', '/stages/stages.2/blocks/blocks.6/context_module/main/Add_1', '/stages/stages.2/blocks/blocks.6/context_module/main/Div_1', '/stages/stages.2/blocks/blocks.6/context_module/main/Cast_4', '/stages/stages.2/blocks/blocks.6/context_module/main/Transpose_3', '/stages/stages.2/blocks/blocks.6/context_module/main/Unsqueeze_2', '/stages/stages.2/blocks/blocks.6/context_module/main/Constant_30', '/stages/stages.2/blocks/blocks.6/context_module/main/Unsqueeze_3', '/stages/stages.2/blocks/blocks.6/context_module/main/Unsqueeze_4', '/stages/stages.2/blocks/blocks.6/context_module/main/Concat_3', '/stages/stages.2/blocks/blocks.6/context_module/main/Reshape_3', '/stages/stages.2/blocks/blocks.6/context_module/main/proj/conv/Conv', '/stages/stages.2/blocks/blocks.6/context_module/Add', '/stages/stages.2/blocks/blocks.6/local_module/main/inverted_conv/conv/Conv', '/stages/stages.2/blocks/blocks.6/local_module/main/inverted_conv/act/HardSwish', '/stages/stages.2/blocks/blocks.6/local_module/main/depth_conv/conv/Conv', '/stages/stages.2/blocks/blocks.6/local_module/main/depth_conv/act/HardSwish', '/stages/stages.2/blocks/blocks.6/local_module/main/point_conv/conv/Conv', '/stages/stages.2/blocks/blocks.6/local_module/Add', '/stages/stages.3/blocks/blocks.0/main/inverted_conv/conv/Conv', '/stages/stages.3/blocks/blocks.0/main/inverted_conv/act/HardSwish', '/stages/stages.3/blocks/blocks.0/main/depth_conv/conv/Conv', '/stages/stages.3/blocks/blocks.0/main/depth_conv/act/HardSwish', '/stages/stages.3/blocks/blocks.0/main/point_conv/conv/Conv', '/stages/stages.3/blocks/blocks.1/context_module/main/Shape', '/stages/stages.3/blocks/blocks.1/context_module/main/Constant', '/stages/stages.3/blocks/blocks.1/context_module/main/Gather', '/stages/stages.3/blocks/blocks.1/context_module/main/Shape_1', '/stages/stages.3/blocks/blocks.1/context_module/main/Constant_1', '/stages/stages.3/blocks/blocks.1/context_module/main/Gather_1', '/stages/stages.3/blocks/blocks.1/context_module/main/Shape_2', '/stages/stages.3/blocks/blocks.1/context_module/main/Constant_2', '/stages/stages.3/blocks/blocks.1/context_module/main/Gather_2', '/stages/stages.3/blocks/blocks.1/context_module/main/qkv/conv/Conv', '/stages/stages.3/blocks/blocks.1/context_module/main/aggreg.0/aggreg.0.0/Conv', '/stages/stages.3/blocks/blocks.1/context_module/main/aggreg.0/aggreg.0.1/Conv', '/stages/stages.3/blocks/blocks.1/context_module/main/Concat', '/stages/stages.3/blocks/blocks.1/context_module/main/Mul', '/stages/stages.3/blocks/blocks.1/context_module/main/Unsqueeze', '/stages/stages.3/blocks/blocks.1/context_module/main/Constant_3', '/stages/stages.3/blocks/blocks.1/context_module/main/Constant_4', '/stages/stages.3/blocks/blocks.1/context_module/main/Unsqueeze_1', '/stages/stages.3/blocks/blocks.1/context_module/main/Concat_1', '/stages/stages.3/blocks/blocks.1/context_module/main/Reshape', '/stages/stages.3/blocks/blocks.1/context_module/main/Transpose', '/stages/stages.3/blocks/blocks.1/context_module/main/Shape_3', '/stages/stages.3/blocks/blocks.1/context_module/main/Constant_5', '/stages/stages.3/blocks/blocks.1/context_module/main/Gather_3', '/stages/stages.3/blocks/blocks.1/context_module/main/Constant_6', '/stages/stages.3/blocks/blocks.1/context_module/main/Constant_7', '/stages/stages.3/blocks/blocks.1/context_module/main/Add', '/stages/stages.3/blocks/blocks.1/context_module/main/Constant_8', '/stages/stages.3/blocks/blocks.1/context_module/main/Div', '/stages/stages.3/blocks/blocks.1/context_module/main/Constant_9', '/stages/stages.3/blocks/blocks.1/context_module/main/Mul_1', '/stages/stages.3/blocks/blocks.1/context_module/main/Slice', '/stages/stages.3/blocks/blocks.1/context_module/main/Constant_10', '/stages/stages.3/blocks/blocks.1/context_module/main/Mul_2', '/stages/stages.3/blocks/blocks.1/context_module/main/Slice_1', '/stages/stages.3/blocks/blocks.1/context_module/main/Constant_11', '/stages/stages.3/blocks/blocks.1/context_module/main/Mul_3', '/stages/stages.3/blocks/blocks.1/context_module/main/Slice_2', '/stages/stages.3/blocks/blocks.1/context_module/main/kernel_func/Relu', '/stages/stages.3/blocks/blocks.1/context_module/main/kernel_func_1/Relu', '/stages/stages.3/blocks/blocks.1/context_module/main/Constant_12', '/stages/stages.3/blocks/blocks.1/context_module/main/Constant_13', '/stages/stages.3/blocks/blocks.1/context_module/main/ConstantOfShape', '/stages/stages.3/blocks/blocks.1/context_module/main/Concat_2', '/stages/stages.3/blocks/blocks.1/context_module/main/Constant_14', '/stages/stages.3/blocks/blocks.1/context_module/main/Reshape_1', '/stages/stages.3/blocks/blocks.1/context_module/main/Constant_15', '/stages/stages.3/blocks/blocks.1/context_module/main/Constant_16', '/stages/stages.3/blocks/blocks.1/context_module/main/Constant_17', '/stages/stages.3/blocks/blocks.1/context_module/main/Constant_18', '/stages/stages.3/blocks/blocks.1/context_module/main/Slice_3', '/stages/stages.3/blocks/blocks.1/context_module/main/Transpose_1', '/stages/stages.3/blocks/blocks.1/context_module/main/Constant_19', '/stages/stages.3/blocks/blocks.1/context_module/main/Reshape_2', '/stages/stages.3/blocks/blocks.1/context_module/main/Cast', '/stages/stages.3/blocks/blocks.1/context_module/main/Constant_20', '/stages/stages.3/blocks/blocks.1/context_module/main/Pad', '/stages/stages.3/blocks/blocks.1/context_module/main/Cast_1', '/stages/stages.3/blocks/blocks.1/context_module/main/Cast_2', '/stages/stages.3/blocks/blocks.1/context_module/main/Cast_3', '/stages/stages.3/blocks/blocks.1/context_module/main/Transpose_2', '/stages/stages.3/blocks/blocks.1/context_module/main/MatMul', '/stages/stages.3/blocks/blocks.1/context_module/main/MatMul_1', '/stages/stages.3/blocks/blocks.1/context_module/main/Constant_21', '/stages/stages.3/blocks/blocks.1/context_module/main/Constant_22', '/stages/stages.3/blocks/blocks.1/context_module/main/Constant_23', '/stages/stages.3/blocks/blocks.1/context_module/main/Constant_24', '/stages/stages.3/blocks/blocks.1/context_module/main/Slice_4', '/stages/stages.3/blocks/blocks.1/context_module/main/Constant_25', '/stages/stages.3/blocks/blocks.1/context_module/main/Constant_26', '/stages/stages.3/blocks/blocks.1/context_module/main/Constant_27', '/stages/stages.3/blocks/blocks.1/context_module/main/Constant_28', '/stages/stages.3/blocks/blocks.1/context_module/main/Slice_5', '/stages/stages.3/blocks/blocks.1/context_module/main/Constant_29', '/stages/stages.3/blocks/blocks.1/context_module/main/Add_1', '/stages/stages.3/blocks/blocks.1/context_module/main/Div_1', '/stages/stages.3/blocks/blocks.1/context_module/main/Cast_4', '/stages/stages.3/blocks/blocks.1/context_module/main/Transpose_3', '/stages/stages.3/blocks/blocks.1/context_module/main/Unsqueeze_2', '/stages/stages.3/blocks/blocks.1/context_module/main/Constant_30', '/stages/stages.3/blocks/blocks.1/context_module/main/Unsqueeze_3', '/stages/stages.3/blocks/blocks.1/context_module/main/Unsqueeze_4', '/stages/stages.3/blocks/blocks.1/context_module/main/Concat_3', '/stages/stages.3/blocks/blocks.1/context_module/main/Reshape_3', '/stages/stages.3/blocks/blocks.1/context_module/main/proj/conv/Conv', '/stages/stages.3/blocks/blocks.1/context_module/Add', '/stages/stages.3/blocks/blocks.1/local_module/main/inverted_conv/conv/Conv', '/stages/stages.3/blocks/blocks.1/local_module/main/inverted_conv/act/HardSwish', '/stages/stages.3/blocks/blocks.1/local_module/main/depth_conv/conv/Conv', '/stages/stages.3/blocks/blocks.1/local_module/main/depth_conv/act/HardSwish', '/stages/stages.3/blocks/blocks.1/local_module/main/point_conv/conv/Conv', '/stages/stages.3/blocks/blocks.1/local_module/Add', '/stages/stages.3/blocks/blocks.2/context_module/main/Shape', '/stages/stages.3/blocks/blocks.2/context_module/main/Constant', '/stages/stages.3/blocks/blocks.2/context_module/main/Gather', '/stages/stages.3/blocks/blocks.2/context_module/main/Shape_1', '/stages/stages.3/blocks/blocks.2/context_module/main/Constant_1', '/stages/stages.3/blocks/blocks.2/context_module/main/Gather_1', '/stages/stages.3/blocks/blocks.2/context_module/main/Shape_2', '/stages/stages.3/blocks/blocks.2/context_module/main/Constant_2', '/stages/stages.3/blocks/blocks.2/context_module/main/Gather_2', '/stages/stages.3/blocks/blocks.2/context_module/main/qkv/conv/Conv', '/stages/stages.3/blocks/blocks.2/context_module/main/aggreg.0/aggreg.0.0/Conv', '/stages/stages.3/blocks/blocks.2/context_module/main/aggreg.0/aggreg.0.1/Conv', '/stages/stages.3/blocks/blocks.2/context_module/main/Concat', '/stages/stages.3/blocks/blocks.2/context_module/main/Mul', '/stages/stages.3/blocks/blocks.2/context_module/main/Unsqueeze', '/stages/stages.3/blocks/blocks.2/context_module/main/Constant_3', '/stages/stages.3/blocks/blocks.2/context_module/main/Constant_4', '/stages/stages.3/blocks/blocks.2/context_module/main/Unsqueeze_1', '/stages/stages.3/blocks/blocks.2/context_module/main/Concat_1', '/stages/stages.3/blocks/blocks.2/context_module/main/Reshape', '/stages/stages.3/blocks/blocks.2/context_module/main/Transpose', '/stages/stages.3/blocks/blocks.2/context_module/main/Shape_3', '/stages/stages.3/blocks/blocks.2/context_module/main/Constant_5', '/stages/stages.3/blocks/blocks.2/context_module/main/Gather_3', '/stages/stages.3/blocks/blocks.2/context_module/main/Constant_6', '/stages/stages.3/blocks/blocks.2/context_module/main/Constant_7', '/stages/stages.3/blocks/blocks.2/context_module/main/Add', '/stages/stages.3/blocks/blocks.2/context_module/main/Constant_8', '/stages/stages.3/blocks/blocks.2/context_module/main/Div', '/stages/stages.3/blocks/blocks.2/context_module/main/Constant_9', '/stages/stages.3/blocks/blocks.2/context_module/main/Mul_1', '/stages/stages.3/blocks/blocks.2/context_module/main/Slice', '/stages/stages.3/blocks/blocks.2/context_module/main/Constant_10', '/stages/stages.3/blocks/blocks.2/context_module/main/Mul_2', '/stages/stages.3/blocks/blocks.2/context_module/main/Slice_1', '/stages/stages.3/blocks/blocks.2/context_module/main/Constant_11', '/stages/stages.3/blocks/blocks.2/context_module/main/Mul_3', '/stages/stages.3/blocks/blocks.2/context_module/main/Slice_2', '/stages/stages.3/blocks/blocks.2/context_module/main/kernel_func/Relu', '/stages/stages.3/blocks/blocks.2/context_module/main/kernel_func_1/Relu', '/stages/stages.3/blocks/blocks.2/context_module/main/Constant_12', '/stages/stages.3/blocks/blocks.2/context_module/main/Constant_13', '/stages/stages.3/blocks/blocks.2/context_module/main/ConstantOfShape', '/stages/stages.3/blocks/blocks.2/context_module/main/Concat_2', '/stages/stages.3/blocks/blocks.2/context_module/main/Constant_14', '/stages/stages.3/blocks/blocks.2/context_module/main/Reshape_1', '/stages/stages.3/blocks/blocks.2/context_module/main/Constant_15', '/stages/stages.3/blocks/blocks.2/context_module/main/Constant_16', '/stages/stages.3/blocks/blocks.2/context_module/main/Constant_17', '/stages/stages.3/blocks/blocks.2/context_module/main/Constant_18', '/stages/stages.3/blocks/blocks.2/context_module/main/Slice_3', '/stages/stages.3/blocks/blocks.2/context_module/main/Transpose_1', '/stages/stages.3/blocks/blocks.2/context_module/main/Constant_19', '/stages/stages.3/blocks/blocks.2/context_module/main/Reshape_2', '/stages/stages.3/blocks/blocks.2/context_module/main/Cast', '/stages/stages.3/blocks/blocks.2/context_module/main/Constant_20', '/stages/stages.3/blocks/blocks.2/context_module/main/Pad', '/stages/stages.3/blocks/blocks.2/context_module/main/Cast_1', '/stages/stages.3/blocks/blocks.2/context_module/main/Cast_2', '/stages/stages.3/blocks/blocks.2/context_module/main/Cast_3', '/stages/stages.3/blocks/blocks.2/context_module/main/Transpose_2', '/stages/stages.3/blocks/blocks.2/context_module/main/MatMul', '/stages/stages.3/blocks/blocks.2/context_module/main/MatMul_1', '/stages/stages.3/blocks/blocks.2/context_module/main/Constant_21', '/stages/stages.3/blocks/blocks.2/context_module/main/Constant_22', '/stages/stages.3/blocks/blocks.2/context_module/main/Constant_23', '/stages/stages.3/blocks/blocks.2/context_module/main/Constant_24', '/stages/stages.3/blocks/blocks.2/context_module/main/Slice_4', '/stages/stages.3/blocks/blocks.2/context_module/main/Constant_25', '/stages/stages.3/blocks/blocks.2/context_module/main/Constant_26', '/stages/stages.3/blocks/blocks.2/context_module/main/Constant_27', '/stages/stages.3/blocks/blocks.2/context_module/main/Constant_28', '/stages/stages.3/blocks/blocks.2/context_module/main/Slice_5', '/stages/stages.3/blocks/blocks.2/context_module/main/Constant_29', '/stages/stages.3/blocks/blocks.2/context_module/main/Add_1', '/stages/stages.3/blocks/blocks.2/context_module/main/Div_1', '/stages/stages.3/blocks/blocks.2/context_module/main/Cast_4', '/stages/stages.3/blocks/blocks.2/context_module/main/Transpose_3', '/stages/stages.3/blocks/blocks.2/context_module/main/Unsqueeze_2', '/stages/stages.3/blocks/blocks.2/context_module/main/Constant_30', '/stages/stages.3/blocks/blocks.2/context_module/main/Unsqueeze_3', '/stages/stages.3/blocks/blocks.2/context_module/main/Unsqueeze_4', '/stages/stages.3/blocks/blocks.2/context_module/main/Concat_3', '/stages/stages.3/blocks/blocks.2/context_module/main/Reshape_3', '/stages/stages.3/blocks/blocks.2/context_module/main/proj/conv/Conv', '/stages/stages.3/blocks/blocks.2/context_module/Add', '/stages/stages.3/blocks/blocks.2/local_module/main/inverted_conv/conv/Conv', '/stages/stages.3/blocks/blocks.2/local_module/main/inverted_conv/act/HardSwish', '/stages/stages.3/blocks/blocks.2/local_module/main/depth_conv/conv/Conv', '/stages/stages.3/blocks/blocks.2/local_module/main/depth_conv/act/HardSwish', '/stages/stages.3/blocks/blocks.2/local_module/main/point_conv/conv/Conv', '/stages/stages.3/blocks/blocks.2/local_module/Add', '/stages/stages.3/blocks/blocks.3/context_module/main/Shape', '/stages/stages.3/blocks/blocks.3/context_module/main/Constant', '/stages/stages.3/blocks/blocks.3/context_module/main/Gather', '/stages/stages.3/blocks/blocks.3/context_module/main/Shape_1', '/stages/stages.3/blocks/blocks.3/context_module/main/Constant_1', '/stages/stages.3/blocks/blocks.3/context_module/main/Gather_1', '/stages/stages.3/blocks/blocks.3/context_module/main/Shape_2', '/stages/stages.3/blocks/blocks.3/context_module/main/Constant_2', '/stages/stages.3/blocks/blocks.3/context_module/main/Gather_2', '/stages/stages.3/blocks/blocks.3/context_module/main/qkv/conv/Conv', '/stages/stages.3/blocks/blocks.3/context_module/main/aggreg.0/aggreg.0.0/Conv', '/stages/stages.3/blocks/blocks.3/context_module/main/aggreg.0/aggreg.0.1/Conv', '/stages/stages.3/blocks/blocks.3/context_module/main/Concat', '/stages/stages.3/blocks/blocks.3/context_module/main/Mul', '/stages/stages.3/blocks/blocks.3/context_module/main/Unsqueeze', '/stages/stages.3/blocks/blocks.3/context_module/main/Constant_3', '/stages/stages.3/blocks/blocks.3/context_module/main/Constant_4', '/stages/stages.3/blocks/blocks.3/context_module/main/Unsqueeze_1', '/stages/stages.3/blocks/blocks.3/context_module/main/Concat_1', '/stages/stages.3/blocks/blocks.3/context_module/main/Reshape', '/stages/stages.3/blocks/blocks.3/context_module/main/Transpose', '/stages/stages.3/blocks/blocks.3/context_module/main/Shape_3', '/stages/stages.3/blocks/blocks.3/context_module/main/Constant_5', '/stages/stages.3/blocks/blocks.3/context_module/main/Gather_3', '/stages/stages.3/blocks/blocks.3/context_module/main/Constant_6', '/stages/stages.3/blocks/blocks.3/context_module/main/Constant_7', '/stages/stages.3/blocks/blocks.3/context_module/main/Add', '/stages/stages.3/blocks/blocks.3/context_module/main/Constant_8', '/stages/stages.3/blocks/blocks.3/context_module/main/Div', '/stages/stages.3/blocks/blocks.3/context_module/main/Constant_9', '/stages/stages.3/blocks/blocks.3/context_module/main/Mul_1', '/stages/stages.3/blocks/blocks.3/context_module/main/Slice', '/stages/stages.3/blocks/blocks.3/context_module/main/Constant_10', '/stages/stages.3/blocks/blocks.3/context_module/main/Mul_2', '/stages/stages.3/blocks/blocks.3/context_module/main/Slice_1', '/stages/stages.3/blocks/blocks.3/context_module/main/Constant_11', '/stages/stages.3/blocks/blocks.3/context_module/main/Mul_3', '/stages/stages.3/blocks/blocks.3/context_module/main/Slice_2', '/stages/stages.3/blocks/blocks.3/context_module/main/kernel_func/Relu', '/stages/stages.3/blocks/blocks.3/context_module/main/kernel_func_1/Relu', '/stages/stages.3/blocks/blocks.3/context_module/main/Constant_12', '/stages/stages.3/blocks/blocks.3/context_module/main/Constant_13', '/stages/stages.3/blocks/blocks.3/context_module/main/ConstantOfShape', '/stages/stages.3/blocks/blocks.3/context_module/main/Concat_2', '/stages/stages.3/blocks/blocks.3/context_module/main/Constant_14', '/stages/stages.3/blocks/blocks.3/context_module/main/Reshape_1', '/stages/stages.3/blocks/blocks.3/context_module/main/Constant_15', '/stages/stages.3/blocks/blocks.3/context_module/main/Constant_16', '/stages/stages.3/blocks/blocks.3/context_module/main/Constant_17', '/stages/stages.3/blocks/blocks.3/context_module/main/Constant_18', '/stages/stages.3/blocks/blocks.3/context_module/main/Slice_3', '/stages/stages.3/blocks/blocks.3/context_module/main/Transpose_1', '/stages/stages.3/blocks/blocks.3/context_module/main/Constant_19', '/stages/stages.3/blocks/blocks.3/context_module/main/Reshape_2', '/stages/stages.3/blocks/blocks.3/context_module/main/Cast', '/stages/stages.3/blocks/blocks.3/context_module/main/Constant_20', '/stages/stages.3/blocks/blocks.3/context_module/main/Pad', '/stages/stages.3/blocks/blocks.3/context_module/main/Cast_1', '/stages/stages.3/blocks/blocks.3/context_module/main/Cast_2', '/stages/stages.3/blocks/blocks.3/context_module/main/Cast_3', '/stages/stages.3/blocks/blocks.3/context_module/main/Transpose_2', '/stages/stages.3/blocks/blocks.3/context_module/main/MatMul', '/stages/stages.3/blocks/blocks.3/context_module/main/MatMul_1', '/stages/stages.3/blocks/blocks.3/context_module/main/Constant_21', '/stages/stages.3/blocks/blocks.3/context_module/main/Constant_22', '/stages/stages.3/blocks/blocks.3/context_module/main/Constant_23', '/stages/stages.3/blocks/blocks.3/context_module/main/Constant_24', '/stages/stages.3/blocks/blocks.3/context_module/main/Slice_4', '/stages/stages.3/blocks/blocks.3/context_module/main/Constant_25', '/stages/stages.3/blocks/blocks.3/context_module/main/Constant_26', '/stages/stages.3/blocks/blocks.3/context_module/main/Constant_27', '/stages/stages.3/blocks/blocks.3/context_module/main/Constant_28', '/stages/stages.3/blocks/blocks.3/context_module/main/Slice_5', '/stages/stages.3/blocks/blocks.3/context_module/main/Constant_29', '/stages/stages.3/blocks/blocks.3/context_module/main/Add_1', '/stages/stages.3/blocks/blocks.3/context_module/main/Div_1', '/stages/stages.3/blocks/blocks.3/context_module/main/Cast_4', '/stages/stages.3/blocks/blocks.3/context_module/main/Transpose_3', '/stages/stages.3/blocks/blocks.3/context_module/main/Unsqueeze_2', '/stages/stages.3/blocks/blocks.3/context_module/main/Constant_30', '/stages/stages.3/blocks/blocks.3/context_module/main/Unsqueeze_3', '/stages/stages.3/blocks/blocks.3/context_module/main/Unsqueeze_4', '/stages/stages.3/blocks/blocks.3/context_module/main/Concat_3', '/stages/stages.3/blocks/blocks.3/context_module/main/Reshape_3', '/stages/stages.3/blocks/blocks.3/context_module/main/proj/conv/Conv', '/stages/stages.3/blocks/blocks.3/context_module/Add', '/stages/stages.3/blocks/blocks.3/local_module/main/inverted_conv/conv/Conv', '/stages/stages.3/blocks/blocks.3/local_module/main/inverted_conv/act/HardSwish', '/stages/stages.3/blocks/blocks.3/local_module/main/depth_conv/conv/Conv', '/stages/stages.3/blocks/blocks.3/local_module/main/depth_conv/act/HardSwish', '/stages/stages.3/blocks/blocks.3/local_module/main/point_conv/conv/Conv', '/stages/stages.3/blocks/blocks.3/local_module/Add', '/stages/stages.3/blocks/blocks.4/context_module/main/Shape', '/stages/stages.3/blocks/blocks.4/context_module/main/Constant', '/stages/stages.3/blocks/blocks.4/context_module/main/Gather', '/stages/stages.3/blocks/blocks.4/context_module/main/Shape_1', '/stages/stages.3/blocks/blocks.4/context_module/main/Constant_1', '/stages/stages.3/blocks/blocks.4/context_module/main/Gather_1', '/stages/stages.3/blocks/blocks.4/context_module/main/Shape_2', '/stages/stages.3/blocks/blocks.4/context_module/main/Constant_2', '/stages/stages.3/blocks/blocks.4/context_module/main/Gather_2', '/stages/stages.3/blocks/blocks.4/context_module/main/qkv/conv/Conv', '/stages/stages.3/blocks/blocks.4/context_module/main/aggreg.0/aggreg.0.0/Conv', '/stages/stages.3/blocks/blocks.4/context_module/main/aggreg.0/aggreg.0.1/Conv', '/stages/stages.3/blocks/blocks.4/context_module/main/Concat', '/stages/stages.3/blocks/blocks.4/context_module/main/Mul', '/stages/stages.3/blocks/blocks.4/context_module/main/Unsqueeze', '/stages/stages.3/blocks/blocks.4/context_module/main/Constant_3', '/stages/stages.3/blocks/blocks.4/context_module/main/Constant_4', '/stages/stages.3/blocks/blocks.4/context_module/main/Unsqueeze_1', '/stages/stages.3/blocks/blocks.4/context_module/main/Concat_1', '/stages/stages.3/blocks/blocks.4/context_module/main/Reshape', '/stages/stages.3/blocks/blocks.4/context_module/main/Transpose', '/stages/stages.3/blocks/blocks.4/context_module/main/Shape_3', '/stages/stages.3/blocks/blocks.4/context_module/main/Constant_5', '/stages/stages.3/blocks/blocks.4/context_module/main/Gather_3', '/stages/stages.3/blocks/blocks.4/context_module/main/Constant_6', '/stages/stages.3/blocks/blocks.4/context_module/main/Constant_7', '/stages/stages.3/blocks/blocks.4/context_module/main/Add', '/stages/stages.3/blocks/blocks.4/context_module/main/Constant_8', '/stages/stages.3/blocks/blocks.4/context_module/main/Div', '/stages/stages.3/blocks/blocks.4/context_module/main/Constant_9', '/stages/stages.3/blocks/blocks.4/context_module/main/Mul_1', '/stages/stages.3/blocks/blocks.4/context_module/main/Slice', '/stages/stages.3/blocks/blocks.4/context_module/main/Constant_10', '/stages/stages.3/blocks/blocks.4/context_module/main/Mul_2', '/stages/stages.3/blocks/blocks.4/context_module/main/Slice_1', '/stages/stages.3/blocks/blocks.4/context_module/main/Constant_11', '/stages/stages.3/blocks/blocks.4/context_module/main/Mul_3', '/stages/stages.3/blocks/blocks.4/context_module/main/Slice_2', '/stages/stages.3/blocks/blocks.4/context_module/main/kernel_func/Relu', '/stages/stages.3/blocks/blocks.4/context_module/main/kernel_func_1/Relu', '/stages/stages.3/blocks/blocks.4/context_module/main/Constant_12', '/stages/stages.3/blocks/blocks.4/context_module/main/Constant_13', '/stages/stages.3/blocks/blocks.4/context_module/main/ConstantOfShape', '/stages/stages.3/blocks/blocks.4/context_module/main/Concat_2', '/stages/stages.3/blocks/blocks.4/context_module/main/Constant_14', '/stages/stages.3/blocks/blocks.4/context_module/main/Reshape_1', '/stages/stages.3/blocks/blocks.4/context_module/main/Constant_15', '/stages/stages.3/blocks/blocks.4/context_module/main/Constant_16', '/stages/stages.3/blocks/blocks.4/context_module/main/Constant_17', '/stages/stages.3/blocks/blocks.4/context_module/main/Constant_18', '/stages/stages.3/blocks/blocks.4/context_module/main/Slice_3', '/stages/stages.3/blocks/blocks.4/context_module/main/Transpose_1', '/stages/stages.3/blocks/blocks.4/context_module/main/Constant_19', '/stages/stages.3/blocks/blocks.4/context_module/main/Reshape_2', '/stages/stages.3/blocks/blocks.4/context_module/main/Cast', '/stages/stages.3/blocks/blocks.4/context_module/main/Constant_20', '/stages/stages.3/blocks/blocks.4/context_module/main/Pad', '/stages/stages.3/blocks/blocks.4/context_module/main/Cast_1', '/stages/stages.3/blocks/blocks.4/context_module/main/Cast_2', '/stages/stages.3/blocks/blocks.4/context_module/main/Cast_3', '/stages/stages.3/blocks/blocks.4/context_module/main/Transpose_2', '/stages/stages.3/blocks/blocks.4/context_module/main/MatMul', '/stages/stages.3/blocks/blocks.4/context_module/main/MatMul_1', '/stages/stages.3/blocks/blocks.4/context_module/main/Constant_21', '/stages/stages.3/blocks/blocks.4/context_module/main/Constant_22', '/stages/stages.3/blocks/blocks.4/context_module/main/Constant_23', '/stages/stages.3/blocks/blocks.4/context_module/main/Constant_24', '/stages/stages.3/blocks/blocks.4/context_module/main/Slice_4', '/stages/stages.3/blocks/blocks.4/context_module/main/Constant_25', '/stages/stages.3/blocks/blocks.4/context_module/main/Constant_26', '/stages/stages.3/blocks/blocks.4/context_module/main/Constant_27', '/stages/stages.3/blocks/blocks.4/context_module/main/Constant_28', '/stages/stages.3/blocks/blocks.4/context_module/main/Slice_5', '/stages/stages.3/blocks/blocks.4/context_module/main/Constant_29', '/stages/stages.3/blocks/blocks.4/context_module/main/Add_1', '/stages/stages.3/blocks/blocks.4/context_module/main/Div_1', '/stages/stages.3/blocks/blocks.4/context_module/main/Cast_4', '/stages/stages.3/blocks/blocks.4/context_module/main/Transpose_3', '/stages/stages.3/blocks/blocks.4/context_module/main/Unsqueeze_2', '/stages/stages.3/blocks/blocks.4/context_module/main/Constant_30', '/stages/stages.3/blocks/blocks.4/context_module/main/Unsqueeze_3', '/stages/stages.3/blocks/blocks.4/context_module/main/Unsqueeze_4', '/stages/stages.3/blocks/blocks.4/context_module/main/Concat_3', '/stages/stages.3/blocks/blocks.4/context_module/main/Reshape_3', '/stages/stages.3/blocks/blocks.4/context_module/main/proj/conv/Conv', '/stages/stages.3/blocks/blocks.4/context_module/Add', '/stages/stages.3/blocks/blocks.4/local_module/main/inverted_conv/conv/Conv', '/stages/stages.3/blocks/blocks.4/local_module/main/inverted_conv/act/HardSwish', '/stages/stages.3/blocks/blocks.4/local_module/main/depth_conv/conv/Conv', '/stages/stages.3/blocks/blocks.4/local_module/main/depth_conv/act/HardSwish', '/stages/stages.3/blocks/blocks.4/local_module/main/point_conv/conv/Conv', '/stages/stages.3/blocks/blocks.4/local_module/Add', '/stages/stages.3/blocks/blocks.5/context_module/main/Shape', '/stages/stages.3/blocks/blocks.5/context_module/main/Constant', '/stages/stages.3/blocks/blocks.5/context_module/main/Gather', '/stages/stages.3/blocks/blocks.5/context_module/main/Shape_1', '/stages/stages.3/blocks/blocks.5/context_module/main/Constant_1', '/stages/stages.3/blocks/blocks.5/context_module/main/Gather_1', '/stages/stages.3/blocks/blocks.5/context_module/main/Shape_2', '/stages/stages.3/blocks/blocks.5/context_module/main/Constant_2', '/stages/stages.3/blocks/blocks.5/context_module/main/Gather_2', '/stages/stages.3/blocks/blocks.5/context_module/main/qkv/conv/Conv', '/stages/stages.3/blocks/blocks.5/context_module/main/aggreg.0/aggreg.0.0/Conv', '/stages/stages.3/blocks/blocks.5/context_module/main/aggreg.0/aggreg.0.1/Conv', '/stages/stages.3/blocks/blocks.5/context_module/main/Concat', '/stages/stages.3/blocks/blocks.5/context_module/main/Mul', '/stages/stages.3/blocks/blocks.5/context_module/main/Unsqueeze', '/stages/stages.3/blocks/blocks.5/context_module/main/Constant_3', '/stages/stages.3/blocks/blocks.5/context_module/main/Constant_4', '/stages/stages.3/blocks/blocks.5/context_module/main/Unsqueeze_1', '/stages/stages.3/blocks/blocks.5/context_module/main/Concat_1', '/stages/stages.3/blocks/blocks.5/context_module/main/Reshape', '/stages/stages.3/blocks/blocks.5/context_module/main/Transpose', '/stages/stages.3/blocks/blocks.5/context_module/main/Shape_3', '/stages/stages.3/blocks/blocks.5/context_module/main/Constant_5', '/stages/stages.3/blocks/blocks.5/context_module/main/Gather_3', '/stages/stages.3/blocks/blocks.5/context_module/main/Constant_6', '/stages/stages.3/blocks/blocks.5/context_module/main/Constant_7', '/stages/stages.3/blocks/blocks.5/context_module/main/Add', '/stages/stages.3/blocks/blocks.5/context_module/main/Constant_8', '/stages/stages.3/blocks/blocks.5/context_module/main/Div', '/stages/stages.3/blocks/blocks.5/context_module/main/Constant_9', '/stages/stages.3/blocks/blocks.5/context_module/main/Mul_1', '/stages/stages.3/blocks/blocks.5/context_module/main/Slice', '/stages/stages.3/blocks/blocks.5/context_module/main/Constant_10', '/stages/stages.3/blocks/blocks.5/context_module/main/Mul_2', '/stages/stages.3/blocks/blocks.5/context_module/main/Slice_1', '/stages/stages.3/blocks/blocks.5/context_module/main/Constant_11', '/stages/stages.3/blocks/blocks.5/context_module/main/Mul_3', '/stages/stages.3/blocks/blocks.5/context_module/main/Slice_2', '/stages/stages.3/blocks/blocks.5/context_module/main/kernel_func/Relu', '/stages/stages.3/blocks/blocks.5/context_module/main/kernel_func_1/Relu', '/stages/stages.3/blocks/blocks.5/context_module/main/Constant_12', '/stages/stages.3/blocks/blocks.5/context_module/main/Constant_13', '/stages/stages.3/blocks/blocks.5/context_module/main/ConstantOfShape', '/stages/stages.3/blocks/blocks.5/context_module/main/Concat_2', '/stages/stages.3/blocks/blocks.5/context_module/main/Constant_14', '/stages/stages.3/blocks/blocks.5/context_module/main/Reshape_1', '/stages/stages.3/blocks/blocks.5/context_module/main/Constant_15', '/stages/stages.3/blocks/blocks.5/context_module/main/Constant_16', '/stages/stages.3/blocks/blocks.5/context_module/main/Constant_17', '/stages/stages.3/blocks/blocks.5/context_module/main/Constant_18', '/stages/stages.3/blocks/blocks.5/context_module/main/Slice_3', '/stages/stages.3/blocks/blocks.5/context_module/main/Transpose_1', '/stages/stages.3/blocks/blocks.5/context_module/main/Constant_19', '/stages/stages.3/blocks/blocks.5/context_module/main/Reshape_2', '/stages/stages.3/blocks/blocks.5/context_module/main/Cast', '/stages/stages.3/blocks/blocks.5/context_module/main/Constant_20', '/stages/stages.3/blocks/blocks.5/context_module/main/Pad', '/stages/stages.3/blocks/blocks.5/context_module/main/Cast_1', '/stages/stages.3/blocks/blocks.5/context_module/main/Cast_2', '/stages/stages.3/blocks/blocks.5/context_module/main/Cast_3', '/stages/stages.3/blocks/blocks.5/context_module/main/Transpose_2', '/stages/stages.3/blocks/blocks.5/context_module/main/MatMul', '/stages/stages.3/blocks/blocks.5/context_module/main/MatMul_1', '/stages/stages.3/blocks/blocks.5/context_module/main/Constant_21', '/stages/stages.3/blocks/blocks.5/context_module/main/Constant_22', '/stages/stages.3/blocks/blocks.5/context_module/main/Constant_23', '/stages/stages.3/blocks/blocks.5/context_module/main/Constant_24', '/stages/stages.3/blocks/blocks.5/context_module/main/Slice_4', '/stages/stages.3/blocks/blocks.5/context_module/main/Constant_25', '/stages/stages.3/blocks/blocks.5/context_module/main/Constant_26', '/stages/stages.3/blocks/blocks.5/context_module/main/Constant_27', '/stages/stages.3/blocks/blocks.5/context_module/main/Constant_28', '/stages/stages.3/blocks/blocks.5/context_module/main/Slice_5', '/stages/stages.3/blocks/blocks.5/context_module/main/Constant_29', '/stages/stages.3/blocks/blocks.5/context_module/main/Add_1', '/stages/stages.3/blocks/blocks.5/context_module/main/Div_1', '/stages/stages.3/blocks/blocks.5/context_module/main/Cast_4', '/stages/stages.3/blocks/blocks.5/context_module/main/Transpose_3', '/stages/stages.3/blocks/blocks.5/context_module/main/Unsqueeze_2', '/stages/stages.3/blocks/blocks.5/context_module/main/Constant_30', '/stages/stages.3/blocks/blocks.5/context_module/main/Unsqueeze_3', '/stages/stages.3/blocks/blocks.5/context_module/main/Unsqueeze_4', '/stages/stages.3/blocks/blocks.5/context_module/main/Concat_3', '/stages/stages.3/blocks/blocks.5/context_module/main/Reshape_3', '/stages/stages.3/blocks/blocks.5/context_module/main/proj/conv/Conv', '/stages/stages.3/blocks/blocks.5/context_module/Add', '/stages/stages.3/blocks/blocks.5/local_module/main/inverted_conv/conv/Conv', '/stages/stages.3/blocks/blocks.5/local_module/main/inverted_conv/act/HardSwish', '/stages/stages.3/blocks/blocks.5/local_module/main/depth_conv/conv/Conv', '/stages/stages.3/blocks/blocks.5/local_module/main/depth_conv/act/HardSwish', '/stages/stages.3/blocks/blocks.5/local_module/main/point_conv/conv/Conv', '/stages/stages.3/blocks/blocks.5/local_module/Add', '/stages/stages.3/blocks/blocks.6/context_module/main/Shape', '/stages/stages.3/blocks/blocks.6/context_module/main/Constant', '/stages/stages.3/blocks/blocks.6/context_module/main/Gather', '/stages/stages.3/blocks/blocks.6/context_module/main/Shape_1', '/stages/stages.3/blocks/blocks.6/context_module/main/Constant_1', '/stages/stages.3/blocks/blocks.6/context_module/main/Gather_1', '/stages/stages.3/blocks/blocks.6/context_module/main/Shape_2', '/stages/stages.3/blocks/blocks.6/context_module/main/Constant_2', '/stages/stages.3/blocks/blocks.6/context_module/main/Gather_2', '/stages/stages.3/blocks/blocks.6/context_module/main/qkv/conv/Conv', '/stages/stages.3/blocks/blocks.6/context_module/main/aggreg.0/aggreg.0.0/Conv', '/stages/stages.3/blocks/blocks.6/context_module/main/aggreg.0/aggreg.0.1/Conv', '/stages/stages.3/blocks/blocks.6/context_module/main/Concat', '/stages/stages.3/blocks/blocks.6/context_module/main/Mul', '/stages/stages.3/blocks/blocks.6/context_module/main/Unsqueeze', '/stages/stages.3/blocks/blocks.6/context_module/main/Constant_3', '/stages/stages.3/blocks/blocks.6/context_module/main/Constant_4', '/stages/stages.3/blocks/blocks.6/context_module/main/Unsqueeze_1', '/stages/stages.3/blocks/blocks.6/context_module/main/Concat_1', '/stages/stages.3/blocks/blocks.6/context_module/main/Reshape', '/stages/stages.3/blocks/blocks.6/context_module/main/Transpose', '/stages/stages.3/blocks/blocks.6/context_module/main/Shape_3', '/stages/stages.3/blocks/blocks.6/context_module/main/Constant_5', '/stages/stages.3/blocks/blocks.6/context_module/main/Gather_3', '/stages/stages.3/blocks/blocks.6/context_module/main/Constant_6', '/stages/stages.3/blocks/blocks.6/context_module/main/Constant_7', '/stages/stages.3/blocks/blocks.6/context_module/main/Add', '/stages/stages.3/blocks/blocks.6/context_module/main/Constant_8', '/stages/stages.3/blocks/blocks.6/context_module/main/Div', '/stages/stages.3/blocks/blocks.6/context_module/main/Constant_9', '/stages/stages.3/blocks/blocks.6/context_module/main/Mul_1', '/stages/stages.3/blocks/blocks.6/context_module/main/Slice', '/stages/stages.3/blocks/blocks.6/context_module/main/Constant_10', '/stages/stages.3/blocks/blocks.6/context_module/main/Mul_2', '/stages/stages.3/blocks/blocks.6/context_module/main/Slice_1', '/stages/stages.3/blocks/blocks.6/context_module/main/Constant_11', '/stages/stages.3/blocks/blocks.6/context_module/main/Mul_3', '/stages/stages.3/blocks/blocks.6/context_module/main/Slice_2', '/stages/stages.3/blocks/blocks.6/context_module/main/kernel_func/Relu', '/stages/stages.3/blocks/blocks.6/context_module/main/kernel_func_1/Relu', '/stages/stages.3/blocks/blocks.6/context_module/main/Constant_12', '/stages/stages.3/blocks/blocks.6/context_module/main/Constant_13', '/stages/stages.3/blocks/blocks.6/context_module/main/ConstantOfShape', '/stages/stages.3/blocks/blocks.6/context_module/main/Concat_2', '/stages/stages.3/blocks/blocks.6/context_module/main/Constant_14', '/stages/stages.3/blocks/blocks.6/context_module/main/Reshape_1', '/stages/stages.3/blocks/blocks.6/context_module/main/Constant_15', '/stages/stages.3/blocks/blocks.6/context_module/main/Constant_16', '/stages/stages.3/blocks/blocks.6/context_module/main/Constant_17', '/stages/stages.3/blocks/blocks.6/context_module/main/Constant_18', '/stages/stages.3/blocks/blocks.6/context_module/main/Slice_3', '/stages/stages.3/blocks/blocks.6/context_module/main/Transpose_1', '/stages/stages.3/blocks/blocks.6/context_module/main/Constant_19', '/stages/stages.3/blocks/blocks.6/context_module/main/Reshape_2', '/stages/stages.3/blocks/blocks.6/context_module/main/Cast', '/stages/stages.3/blocks/blocks.6/context_module/main/Constant_20', '/stages/stages.3/blocks/blocks.6/context_module/main/Pad', '/stages/stages.3/blocks/blocks.6/context_module/main/Cast_1', '/stages/stages.3/blocks/blocks.6/context_module/main/Cast_2', '/stages/stages.3/blocks/blocks.6/context_module/main/Cast_3', '/stages/stages.3/blocks/blocks.6/context_module/main/Transpose_2', '/stages/stages.3/blocks/blocks.6/context_module/main/MatMul', '/stages/stages.3/blocks/blocks.6/context_module/main/MatMul_1', '/stages/stages.3/blocks/blocks.6/context_module/main/Constant_21', '/stages/stages.3/blocks/blocks.6/context_module/main/Constant_22', '/stages/stages.3/blocks/blocks.6/context_module/main/Constant_23', '/stages/stages.3/blocks/blocks.6/context_module/main/Constant_24', '/stages/stages.3/blocks/blocks.6/context_module/main/Slice_4', '/stages/stages.3/blocks/blocks.6/context_module/main/Constant_25', '/stages/stages.3/blocks/blocks.6/context_module/main/Constant_26', '/stages/stages.3/blocks/blocks.6/context_module/main/Constant_27', '/stages/stages.3/blocks/blocks.6/context_module/main/Constant_28', '/stages/stages.3/blocks/blocks.6/context_module/main/Slice_5', '/stages/stages.3/blocks/blocks.6/context_module/main/Constant_29', '/stages/stages.3/blocks/blocks.6/context_module/main/Add_1', '/stages/stages.3/blocks/blocks.6/context_module/main/Div_1', '/stages/stages.3/blocks/blocks.6/context_module/main/Cast_4', '/stages/stages.3/blocks/blocks.6/context_module/main/Transpose_3', '/stages/stages.3/blocks/blocks.6/context_module/main/Unsqueeze_2', '/stages/stages.3/blocks/blocks.6/context_module/main/Constant_30', '/stages/stages.3/blocks/blocks.6/context_module/main/Unsqueeze_3', '/stages/stages.3/blocks/blocks.6/context_module/main/Unsqueeze_4', '/stages/stages.3/blocks/blocks.6/context_module/main/Concat_3', '/stages/stages.3/blocks/blocks.6/context_module/main/Reshape_3', '/stages/stages.3/blocks/blocks.6/context_module/main/proj/conv/Conv', '/stages/stages.3/blocks/blocks.6/context_module/Add', '/stages/stages.3/blocks/blocks.6/local_module/main/inverted_conv/conv/Conv', '/stages/stages.3/blocks/blocks.6/local_module/main/inverted_conv/act/HardSwish', '/stages/stages.3/blocks/blocks.6/local_module/main/depth_conv/conv/Conv', '/stages/stages.3/blocks/blocks.6/local_module/main/depth_conv/act/HardSwish', '/stages/stages.3/blocks/blocks.6/local_module/main/point_conv/conv/Conv', '/stages/stages.3/blocks/blocks.6/local_module/Add', '/stages/stages.3/blocks/blocks.7/context_module/main/Shape', '/stages/stages.3/blocks/blocks.7/context_module/main/Constant', '/stages/stages.3/blocks/blocks.7/context_module/main/Gather', '/stages/stages.3/blocks/blocks.7/context_module/main/Shape_1', '/stages/stages.3/blocks/blocks.7/context_module/main/Constant_1', '/stages/stages.3/blocks/blocks.7/context_module/main/Gather_1', '/stages/stages.3/blocks/blocks.7/context_module/main/Shape_2', '/stages/stages.3/blocks/blocks.7/context_module/main/Constant_2', '/stages/stages.3/blocks/blocks.7/context_module/main/Gather_2', '/stages/stages.3/blocks/blocks.7/context_module/main/qkv/conv/Conv', '/stages/stages.3/blocks/blocks.7/context_module/main/aggreg.0/aggreg.0.0/Conv', '/stages/stages.3/blocks/blocks.7/context_module/main/aggreg.0/aggreg.0.1/Conv', '/stages/stages.3/blocks/blocks.7/context_module/main/Concat', '/stages/stages.3/blocks/blocks.7/context_module/main/Mul', '/stages/stages.3/blocks/blocks.7/context_module/main/Unsqueeze', '/stages/stages.3/blocks/blocks.7/context_module/main/Constant_3', '/stages/stages.3/blocks/blocks.7/context_module/main/Constant_4', '/stages/stages.3/blocks/blocks.7/context_module/main/Unsqueeze_1', '/stages/stages.3/blocks/blocks.7/context_module/main/Concat_1', '/stages/stages.3/blocks/blocks.7/context_module/main/Reshape', '/stages/stages.3/blocks/blocks.7/context_module/main/Transpose', '/stages/stages.3/blocks/blocks.7/context_module/main/Shape_3', '/stages/stages.3/blocks/blocks.7/context_module/main/Constant_5', '/stages/stages.3/blocks/blocks.7/context_module/main/Gather_3', '/stages/stages.3/blocks/blocks.7/context_module/main/Constant_6', '/stages/stages.3/blocks/blocks.7/context_module/main/Constant_7', '/stages/stages.3/blocks/blocks.7/context_module/main/Add', '/stages/stages.3/blocks/blocks.7/context_module/main/Constant_8', '/stages/stages.3/blocks/blocks.7/context_module/main/Div', '/stages/stages.3/blocks/blocks.7/context_module/main/Constant_9', '/stages/stages.3/blocks/blocks.7/context_module/main/Mul_1', '/stages/stages.3/blocks/blocks.7/context_module/main/Slice', '/stages/stages.3/blocks/blocks.7/context_module/main/Constant_10', '/stages/stages.3/blocks/blocks.7/context_module/main/Mul_2', '/stages/stages.3/blocks/blocks.7/context_module/main/Slice_1', '/stages/stages.3/blocks/blocks.7/context_module/main/Constant_11', '/stages/stages.3/blocks/blocks.7/context_module/main/Mul_3', '/stages/stages.3/blocks/blocks.7/context_module/main/Slice_2', '/stages/stages.3/blocks/blocks.7/context_module/main/kernel_func/Relu', '/stages/stages.3/blocks/blocks.7/context_module/main/kernel_func_1/Relu', '/stages/stages.3/blocks/blocks.7/context_module/main/Constant_12', '/stages/stages.3/blocks/blocks.7/context_module/main/Constant_13', '/stages/stages.3/blocks/blocks.7/context_module/main/ConstantOfShape', '/stages/stages.3/blocks/blocks.7/context_module/main/Concat_2', '/stages/stages.3/blocks/blocks.7/context_module/main/Constant_14', '/stages/stages.3/blocks/blocks.7/context_module/main/Reshape_1', '/stages/stages.3/blocks/blocks.7/context_module/main/Constant_15', '/stages/stages.3/blocks/blocks.7/context_module/main/Constant_16', '/stages/stages.3/blocks/blocks.7/context_module/main/Constant_17', '/stages/stages.3/blocks/blocks.7/context_module/main/Constant_18', '/stages/stages.3/blocks/blocks.7/context_module/main/Slice_3', '/stages/stages.3/blocks/blocks.7/context_module/main/Transpose_1', '/stages/stages.3/blocks/blocks.7/context_module/main/Constant_19', '/stages/stages.3/blocks/blocks.7/context_module/main/Reshape_2', '/stages/stages.3/blocks/blocks.7/context_module/main/Cast', '/stages/stages.3/blocks/blocks.7/context_module/main/Constant_20', '/stages/stages.3/blocks/blocks.7/context_module/main/Pad', '/stages/stages.3/blocks/blocks.7/context_module/main/Cast_1', '/stages/stages.3/blocks/blocks.7/context_module/main/Cast_2', '/stages/stages.3/blocks/blocks.7/context_module/main/Cast_3', '/stages/stages.3/blocks/blocks.7/context_module/main/Transpose_2', '/stages/stages.3/blocks/blocks.7/context_module/main/MatMul', '/stages/stages.3/blocks/blocks.7/context_module/main/MatMul_1', '/stages/stages.3/blocks/blocks.7/context_module/main/Constant_21', '/stages/stages.3/blocks/blocks.7/context_module/main/Constant_22', '/stages/stages.3/blocks/blocks.7/context_module/main/Constant_23', '/stages/stages.3/blocks/blocks.7/context_module/main/Constant_24', '/stages/stages.3/blocks/blocks.7/context_module/main/Slice_4', '/stages/stages.3/blocks/blocks.7/context_module/main/Constant_25', '/stages/stages.3/blocks/blocks.7/context_module/main/Constant_26', '/stages/stages.3/blocks/blocks.7/context_module/main/Constant_27', '/stages/stages.3/blocks/blocks.7/context_module/main/Constant_28', '/stages/stages.3/blocks/blocks.7/context_module/main/Slice_5', '/stages/stages.3/blocks/blocks.7/context_module/main/Constant_29', '/stages/stages.3/blocks/blocks.7/context_module/main/Add_1', '/stages/stages.3/blocks/blocks.7/context_module/main/Div_1', '/stages/stages.3/blocks/blocks.7/context_module/main/Cast_4', '/stages/stages.3/blocks/blocks.7/context_module/main/Transpose_3', '/stages/stages.3/blocks/blocks.7/context_module/main/Unsqueeze_2', '/stages/stages.3/blocks/blocks.7/context_module/main/Constant_30', '/stages/stages.3/blocks/blocks.7/context_module/main/Unsqueeze_3', '/stages/stages.3/blocks/blocks.7/context_module/main/Unsqueeze_4', '/stages/stages.3/blocks/blocks.7/context_module/main/Concat_3', '/stages/stages.3/blocks/blocks.7/context_module/main/Reshape_3', '/stages/stages.3/blocks/blocks.7/context_module/main/proj/conv/Conv', '/stages/stages.3/blocks/blocks.7/context_module/Add', '/stages/stages.3/blocks/blocks.7/local_module/main/inverted_conv/conv/Conv', '/stages/stages.3/blocks/blocks.7/local_module/main/inverted_conv/act/HardSwish', '/stages/stages.3/blocks/blocks.7/local_module/main/depth_conv/conv/Conv', '/stages/stages.3/blocks/blocks.7/local_module/main/depth_conv/act/HardSwish', '/stages/stages.3/blocks/blocks.7/local_module/main/point_conv/conv/Conv', '/stages/stages.3/blocks/blocks.7/local_module/Add', '/stages/stages.3/blocks/blocks.8/context_module/main/Shape', '/stages/stages.3/blocks/blocks.8/context_module/main/Constant', '/stages/stages.3/blocks/blocks.8/context_module/main/Gather', '/stages/stages.3/blocks/blocks.8/context_module/main/Shape_1', '/stages/stages.3/blocks/blocks.8/context_module/main/Constant_1', '/stages/stages.3/blocks/blocks.8/context_module/main/Gather_1', '/stages/stages.3/blocks/blocks.8/context_module/main/Shape_2', '/stages/stages.3/blocks/blocks.8/context_module/main/Constant_2', '/stages/stages.3/blocks/blocks.8/context_module/main/Gather_2', '/stages/stages.3/blocks/blocks.8/context_module/main/qkv/conv/Conv', '/stages/stages.3/blocks/blocks.8/context_module/main/aggreg.0/aggreg.0.0/Conv', '/stages/stages.3/blocks/blocks.8/context_module/main/aggreg.0/aggreg.0.1/Conv', '/stages/stages.3/blocks/blocks.8/context_module/main/Concat', '/stages/stages.3/blocks/blocks.8/context_module/main/Mul', '/stages/stages.3/blocks/blocks.8/context_module/main/Unsqueeze', '/stages/stages.3/blocks/blocks.8/context_module/main/Constant_3', '/stages/stages.3/blocks/blocks.8/context_module/main/Constant_4', '/stages/stages.3/blocks/blocks.8/context_module/main/Unsqueeze_1', '/stages/stages.3/blocks/blocks.8/context_module/main/Concat_1', '/stages/stages.3/blocks/blocks.8/context_module/main/Reshape', '/stages/stages.3/blocks/blocks.8/context_module/main/Transpose', '/stages/stages.3/blocks/blocks.8/context_module/main/Shape_3', '/stages/stages.3/blocks/blocks.8/context_module/main/Constant_5', '/stages/stages.3/blocks/blocks.8/context_module/main/Gather_3', '/stages/stages.3/blocks/blocks.8/context_module/main/Constant_6', '/stages/stages.3/blocks/blocks.8/context_module/main/Constant_7', '/stages/stages.3/blocks/blocks.8/context_module/main/Add', '/stages/stages.3/blocks/blocks.8/context_module/main/Constant_8', '/stages/stages.3/blocks/blocks.8/context_module/main/Div', '/stages/stages.3/blocks/blocks.8/context_module/main/Constant_9', '/stages/stages.3/blocks/blocks.8/context_module/main/Mul_1', '/stages/stages.3/blocks/blocks.8/context_module/main/Slice', '/stages/stages.3/blocks/blocks.8/context_module/main/Constant_10', '/stages/stages.3/blocks/blocks.8/context_module/main/Mul_2', '/stages/stages.3/blocks/blocks.8/context_module/main/Slice_1', '/stages/stages.3/blocks/blocks.8/context_module/main/Constant_11', '/stages/stages.3/blocks/blocks.8/context_module/main/Mul_3', '/stages/stages.3/blocks/blocks.8/context_module/main/Slice_2', '/stages/stages.3/blocks/blocks.8/context_module/main/kernel_func/Relu', '/stages/stages.3/blocks/blocks.8/context_module/main/kernel_func_1/Relu', '/stages/stages.3/blocks/blocks.8/context_module/main/Constant_12', '/stages/stages.3/blocks/blocks.8/context_module/main/Constant_13', '/stages/stages.3/blocks/blocks.8/context_module/main/ConstantOfShape', '/stages/stages.3/blocks/blocks.8/context_module/main/Concat_2', '/stages/stages.3/blocks/blocks.8/context_module/main/Constant_14', '/stages/stages.3/blocks/blocks.8/context_module/main/Reshape_1', '/stages/stages.3/blocks/blocks.8/context_module/main/Constant_15', '/stages/stages.3/blocks/blocks.8/context_module/main/Constant_16', '/stages/stages.3/blocks/blocks.8/context_module/main/Constant_17', '/stages/stages.3/blocks/blocks.8/context_module/main/Constant_18', '/stages/stages.3/blocks/blocks.8/context_module/main/Slice_3', '/stages/stages.3/blocks/blocks.8/context_module/main/Transpose_1', '/stages/stages.3/blocks/blocks.8/context_module/main/Constant_19', '/stages/stages.3/blocks/blocks.8/context_module/main/Reshape_2', '/stages/stages.3/blocks/blocks.8/context_module/main/Cast', '/stages/stages.3/blocks/blocks.8/context_module/main/Constant_20', '/stages/stages.3/blocks/blocks.8/context_module/main/Pad', '/stages/stages.3/blocks/blocks.8/context_module/main/Cast_1', '/stages/stages.3/blocks/blocks.8/context_module/main/Cast_2', '/stages/stages.3/blocks/blocks.8/context_module/main/Cast_3', '/stages/stages.3/blocks/blocks.8/context_module/main/Transpose_2', '/stages/stages.3/blocks/blocks.8/context_module/main/MatMul', '/stages/stages.3/blocks/blocks.8/context_module/main/MatMul_1', '/stages/stages.3/blocks/blocks.8/context_module/main/Constant_21', '/stages/stages.3/blocks/blocks.8/context_module/main/Constant_22', '/stages/stages.3/blocks/blocks.8/context_module/main/Constant_23', '/stages/stages.3/blocks/blocks.8/context_module/main/Constant_24', '/stages/stages.3/blocks/blocks.8/context_module/main/Slice_4', '/stages/stages.3/blocks/blocks.8/context_module/main/Constant_25', '/stages/stages.3/blocks/blocks.8/context_module/main/Constant_26', '/stages/stages.3/blocks/blocks.8/context_module/main/Constant_27', '/stages/stages.3/blocks/blocks.8/context_module/main/Constant_28', '/stages/stages.3/blocks/blocks.8/context_module/main/Slice_5', '/stages/stages.3/blocks/blocks.8/context_module/main/Constant_29', '/stages/stages.3/blocks/blocks.8/context_module/main/Add_1', '/stages/stages.3/blocks/blocks.8/context_module/main/Div_1', '/stages/stages.3/blocks/blocks.8/context_module/main/Cast_4', '/stages/stages.3/blocks/blocks.8/context_module/main/Transpose_3', '/stages/stages.3/blocks/blocks.8/context_module/main/Unsqueeze_2', '/stages/stages.3/blocks/blocks.8/context_module/main/Constant_30', '/stages/stages.3/blocks/blocks.8/context_module/main/Unsqueeze_3', '/stages/stages.3/blocks/blocks.8/context_module/main/Unsqueeze_4', '/stages/stages.3/blocks/blocks.8/context_module/main/Concat_3', '/stages/stages.3/blocks/blocks.8/context_module/main/Reshape_3', '/stages/stages.3/blocks/blocks.8/context_module/main/proj/conv/Conv', '/stages/stages.3/blocks/blocks.8/context_module/Add', '/stages/stages.3/blocks/blocks.8/local_module/main/inverted_conv/conv/Conv', '/stages/stages.3/blocks/blocks.8/local_module/main/inverted_conv/act/HardSwish', '/stages/stages.3/blocks/blocks.8/local_module/main/depth_conv/conv/Conv', '/stages/stages.3/blocks/blocks.8/local_module/main/depth_conv/act/HardSwish', '/stages/stages.3/blocks/blocks.8/local_module/main/point_conv/conv/Conv', '/stages/stages.3/blocks/blocks.8/local_module/Add', '/stages/stages.3/blocks/blocks.9/context_module/main/Shape', '/stages/stages.3/blocks/blocks.9/context_module/main/Constant', '/stages/stages.3/blocks/blocks.9/context_module/main/Gather', '/stages/stages.3/blocks/blocks.9/context_module/main/Shape_1', '/stages/stages.3/blocks/blocks.9/context_module/main/Constant_1', '/stages/stages.3/blocks/blocks.9/context_module/main/Gather_1', '/stages/stages.3/blocks/blocks.9/context_module/main/Shape_2', '/stages/stages.3/blocks/blocks.9/context_module/main/Constant_2', '/stages/stages.3/blocks/blocks.9/context_module/main/Gather_2', '/stages/stages.3/blocks/blocks.9/context_module/main/qkv/conv/Conv', '/stages/stages.3/blocks/blocks.9/context_module/main/aggreg.0/aggreg.0.0/Conv', '/stages/stages.3/blocks/blocks.9/context_module/main/aggreg.0/aggreg.0.1/Conv', '/stages/stages.3/blocks/blocks.9/context_module/main/Concat', '/stages/stages.3/blocks/blocks.9/context_module/main/Mul', '/stages/stages.3/blocks/blocks.9/context_module/main/Unsqueeze', '/stages/stages.3/blocks/blocks.9/context_module/main/Constant_3', '/stages/stages.3/blocks/blocks.9/context_module/main/Constant_4', '/stages/stages.3/blocks/blocks.9/context_module/main/Unsqueeze_1', '/stages/stages.3/blocks/blocks.9/context_module/main/Concat_1', '/stages/stages.3/blocks/blocks.9/context_module/main/Reshape', '/stages/stages.3/blocks/blocks.9/context_module/main/Transpose', '/stages/stages.3/blocks/blocks.9/context_module/main/Shape_3', '/stages/stages.3/blocks/blocks.9/context_module/main/Constant_5', '/stages/stages.3/blocks/blocks.9/context_module/main/Gather_3', '/stages/stages.3/blocks/blocks.9/context_module/main/Constant_6', '/stages/stages.3/blocks/blocks.9/context_module/main/Constant_7', '/stages/stages.3/blocks/blocks.9/context_module/main/Add', '/stages/stages.3/blocks/blocks.9/context_module/main/Constant_8', '/stages/stages.3/blocks/blocks.9/context_module/main/Div', '/stages/stages.3/blocks/blocks.9/context_module/main/Constant_9', '/stages/stages.3/blocks/blocks.9/context_module/main/Mul_1', '/stages/stages.3/blocks/blocks.9/context_module/main/Slice', '/stages/stages.3/blocks/blocks.9/context_module/main/Constant_10', '/stages/stages.3/blocks/blocks.9/context_module/main/Mul_2', '/stages/stages.3/blocks/blocks.9/context_module/main/Slice_1', '/stages/stages.3/blocks/blocks.9/context_module/main/Constant_11', '/stages/stages.3/blocks/blocks.9/context_module/main/Mul_3', '/stages/stages.3/blocks/blocks.9/context_module/main/Slice_2', '/stages/stages.3/blocks/blocks.9/context_module/main/kernel_func/Relu', '/stages/stages.3/blocks/blocks.9/context_module/main/kernel_func_1/Relu', '/stages/stages.3/blocks/blocks.9/context_module/main/Constant_12', '/stages/stages.3/blocks/blocks.9/context_module/main/Constant_13', '/stages/stages.3/blocks/blocks.9/context_module/main/ConstantOfShape', '/stages/stages.3/blocks/blocks.9/context_module/main/Concat_2', '/stages/stages.3/blocks/blocks.9/context_module/main/Constant_14', '/stages/stages.3/blocks/blocks.9/context_module/main/Reshape_1', '/stages/stages.3/blocks/blocks.9/context_module/main/Constant_15', '/stages/stages.3/blocks/blocks.9/context_module/main/Constant_16', '/stages/stages.3/blocks/blocks.9/context_module/main/Constant_17', '/stages/stages.3/blocks/blocks.9/context_module/main/Constant_18', '/stages/stages.3/blocks/blocks.9/context_module/main/Slice_3', '/stages/stages.3/blocks/blocks.9/context_module/main/Transpose_1', '/stages/stages.3/blocks/blocks.9/context_module/main/Constant_19', '/stages/stages.3/blocks/blocks.9/context_module/main/Reshape_2', '/stages/stages.3/blocks/blocks.9/context_module/main/Cast', '/stages/stages.3/blocks/blocks.9/context_module/main/Constant_20', '/stages/stages.3/blocks/blocks.9/context_module/main/Pad', '/stages/stages.3/blocks/blocks.9/context_module/main/Cast_1', '/stages/stages.3/blocks/blocks.9/context_module/main/Cast_2', '/stages/stages.3/blocks/blocks.9/context_module/main/Cast_3', '/stages/stages.3/blocks/blocks.9/context_module/main/Transpose_2', '/stages/stages.3/blocks/blocks.9/context_module/main/MatMul', '/stages/stages.3/blocks/blocks.9/context_module/main/MatMul_1', '/stages/stages.3/blocks/blocks.9/context_module/main/Constant_21', '/stages/stages.3/blocks/blocks.9/context_module/main/Constant_22', '/stages/stages.3/blocks/blocks.9/context_module/main/Constant_23', '/stages/stages.3/blocks/blocks.9/context_module/main/Constant_24', '/stages/stages.3/blocks/blocks.9/context_module/main/Slice_4', '/stages/stages.3/blocks/blocks.9/context_module/main/Constant_25', '/stages/stages.3/blocks/blocks.9/context_module/main/Constant_26', '/stages/stages.3/blocks/blocks.9/context_module/main/Constant_27', '/stages/stages.3/blocks/blocks.9/context_module/main/Constant_28', '/stages/stages.3/blocks/blocks.9/context_module/main/Slice_5', '/stages/stages.3/blocks/blocks.9/context_module/main/Constant_29', '/stages/stages.3/blocks/blocks.9/context_module/main/Add_1', '/stages/stages.3/blocks/blocks.9/context_module/main/Div_1', '/stages/stages.3/blocks/blocks.9/context_module/main/Cast_4', '/stages/stages.3/blocks/blocks.9/context_module/main/Transpose_3', '/stages/stages.3/blocks/blocks.9/context_module/main/Unsqueeze_2', '/stages/stages.3/blocks/blocks.9/context_module/main/Constant_30', '/stages/stages.3/blocks/blocks.9/context_module/main/Unsqueeze_3', '/stages/stages.3/blocks/blocks.9/context_module/main/Unsqueeze_4', '/stages/stages.3/blocks/blocks.9/context_module/main/Concat_3', '/stages/stages.3/blocks/blocks.9/context_module/main/Reshape_3', '/stages/stages.3/blocks/blocks.9/context_module/main/proj/conv/Conv', '/stages/stages.3/blocks/blocks.9/context_module/Add', '/stages/stages.3/blocks/blocks.9/local_module/main/inverted_conv/conv/Conv', '/stages/stages.3/blocks/blocks.9/local_module/main/inverted_conv/act/HardSwish', '/stages/stages.3/blocks/blocks.9/local_module/main/depth_conv/conv/Conv', '/stages/stages.3/blocks/blocks.9/local_module/main/depth_conv/act/HardSwish', '/stages/stages.3/blocks/blocks.9/local_module/main/point_conv/conv/Conv', '/stages/stages.3/blocks/blocks.9/local_module/Add']\n"
     ]
    }
   ],
   "source": [
    "import onnx\n",
    "\n",
    "onnx_model_path = \"onnx/model.onnx\"\n",
    "onnx_model = onnx.load(onnx_model_path)\n",
    "\n",
    "exclude_nodes = []\n",
    "for node in onnx_model.graph.node:\n",
    "    if 'stages' in node.name:\n",
    "        name_parts = node.name.split('/')\n",
    "\n",
    "        stage_val = int(name_parts[2].split('.')[1])\n",
    "\n",
    "        if stage_val >= 2:\n",
    "            exclude_nodes.append(node.name)\n",
    "\n",
    "print(exclude_nodes)"
   ]
  },
  {
   "cell_type": "code",
   "execution_count": 28,
   "metadata": {
    "execution": {
     "iopub.execute_input": "2025-05-16T10:24:31.771814Z",
     "iopub.status.busy": "2025-05-16T10:24:31.771105Z",
     "iopub.status.idle": "2025-05-16T10:24:31.923533Z",
     "shell.execute_reply": "2025-05-16T10:24:31.922989Z",
     "shell.execute_reply.started": "2025-05-16T10:24:31.771791Z"
    },
    "trusted": true
   },
   "outputs": [],
   "source": [
    "from optimum.onnxruntime import ORTQuantizer\n",
    "from optimum.onnxruntime.configuration import AutoQuantizationConfig\n",
    "from onnxruntime.quantization import QuantFormat, QuantizationMode\n",
    "\n",
    "# create ORTQuantizer and define quantization configuration\n",
    "quantizer = ORTQuantizer.from_pretrained(model)\n",
    "qconfig = AutoQuantizationConfig.avx512_vnni(\n",
    "    is_static=True,\n",
    "    per_channel=True,\n",
    "    nodes_to_exclude=exclude_nodes,\n",
    ")"
   ]
  },
  {
   "cell_type": "code",
   "execution_count": 29,
   "metadata": {
    "execution": {
     "iopub.execute_input": "2025-05-16T10:24:32.223846Z",
     "iopub.status.busy": "2025-05-16T10:24:32.223546Z",
     "iopub.status.idle": "2025-05-16T10:25:42.594063Z",
     "shell.execute_reply": "2025-05-16T10:25:42.593208Z",
     "shell.execute_reply.started": "2025-05-16T10:24:32.223827Z"
    },
    "trusted": true
   },
   "outputs": [
    {
     "name": "stdout",
     "output_type": "stream",
     "text": [
      "Compose(\n",
      "    Resize(size=256, interpolation=bicubic, max_size=None, antialias=True)\n",
      "    CenterCrop(size=(256, 256))\n",
      "    MaybeToTensor()\n",
      "    Normalize(mean=tensor([0.4850, 0.4560, 0.4060]), std=tensor([0.2290, 0.2240, 0.2250]))\n",
      ")\n"
     ]
    }
   ],
   "source": [
    "train_dataset = load_imagenet_mini(path, base_model, 'train')"
   ]
  },
  {
   "cell_type": "code",
   "execution_count": 30,
   "metadata": {
    "execution": {
     "iopub.execute_input": "2025-05-16T10:25:42.595544Z",
     "iopub.status.busy": "2025-05-16T10:25:42.595307Z",
     "iopub.status.idle": "2025-05-16T10:25:48.482014Z",
     "shell.execute_reply": "2025-05-16T10:25:48.481430Z",
     "shell.execute_reply.started": "2025-05-16T10:25:42.595528Z"
    },
    "trusted": true
   },
   "outputs": [],
   "source": [
    "from torch.utils.data import random_split\n",
    "from datasets import Dataset\n",
    "\n",
    "calibration_size = 200\n",
    "calibration_dataset, _ = random_split(train_dataset, [calibration_size, len(train_dataset) - calibration_size])\n",
    "images_list = [image for image, _ in calibration_dataset]\n",
    "optimum_dataset = Dataset.from_dict({\n",
    "    \"pixel_values\": images_list,\n",
    "})"
   ]
  },
  {
   "cell_type": "code",
   "execution_count": 31,
   "metadata": {
    "execution": {
     "iopub.execute_input": "2025-05-16T10:25:48.483508Z",
     "iopub.status.busy": "2025-05-16T10:25:48.482799Z",
     "iopub.status.idle": "2025-05-16T10:34:00.107187Z",
     "shell.execute_reply": "2025-05-16T10:34:00.106487Z",
     "shell.execute_reply.started": "2025-05-16T10:25:48.483483Z"
    },
    "trusted": true
   },
   "outputs": [
    {
     "name": "stdout",
     "output_type": "stream",
     "text": [
      "Processing 1 shard\n",
      "Collecting tensor data and making histogram ...\n",
      "Processing 2 shard\n",
      "Collecting tensor data and making histogram ...\n",
      "Processing 3 shard\n",
      "Collecting tensor data and making histogram ...\n",
      "Processing 4 shard\n",
      "Collecting tensor data and making histogram ...\n",
      "Processing 5 shard\n",
      "Collecting tensor data and making histogram ...\n",
      "Processing 6 shard\n",
      "Collecting tensor data and making histogram ...\n",
      "Processing 7 shard\n",
      "Collecting tensor data and making histogram ...\n",
      "Processing 8 shard\n",
      "Collecting tensor data and making histogram ...\n",
      "Processing 9 shard\n",
      "Collecting tensor data and making histogram ...\n",
      "Processing 10 shard\n",
      "Collecting tensor data and making histogram ...\n",
      "Processing 11 shard\n",
      "Collecting tensor data and making histogram ...\n",
      "Processing 12 shard\n",
      "Collecting tensor data and making histogram ...\n",
      "Processing 13 shard\n",
      "Collecting tensor data and making histogram ...\n",
      "Processing 14 shard\n",
      "Collecting tensor data and making histogram ...\n",
      "Processing 15 shard\n",
      "Collecting tensor data and making histogram ...\n",
      "Processing 16 shard\n",
      "Collecting tensor data and making histogram ...\n",
      "Processing 17 shard\n",
      "Collecting tensor data and making histogram ...\n",
      "Processing 18 shard\n",
      "Collecting tensor data and making histogram ...\n",
      "Processing 19 shard\n",
      "Collecting tensor data and making histogram ...\n",
      "Processing 20 shard\n",
      "Collecting tensor data and making histogram ...\n",
      "Finding optimal threshold for each tensor using 'percentile' algorithm ...\n",
      "Number of tensors : 560\n",
      "Number of histogram bins : 2048\n",
      "Percentile : (0.010000000000005116,99.99)\n"
     ]
    }
   ],
   "source": [
    "from optimum.onnxruntime.configuration import AutoCalibrationConfig\n",
    "\n",
    "calibration_config = AutoCalibrationConfig.percentiles(optimum_dataset, percentile=99.99)\n",
    "\n",
    "# Perform the calibration step: computes the activations quantization ranges\n",
    "batch_size = 10\n",
    "shards = len(optimum_dataset) // batch_size\n",
    "\n",
    "for i in range(shards):\n",
    "    print(f'Processing {i + 1} shard')\n",
    "    shard = optimum_dataset.shard(shards, i)\n",
    "    quantizer.partial_fit(\n",
    "        dataset=shard,\n",
    "        calibration_config=calibration_config,\n",
    "        operators_to_quantize=qconfig.operators_to_quantize,\n",
    "        batch_size=batch_size,\n",
    "        use_external_data_format=False,\n",
    "    )\n",
    "ranges = quantizer.compute_ranges()\n",
    "\n",
    "# remove temp augmented model again\n",
    "os.remove(\"augmented_model.onnx\")"
   ]
  },
  {
   "cell_type": "code",
   "execution_count": 32,
   "metadata": {
    "execution": {
     "iopub.execute_input": "2025-05-16T10:34:00.108821Z",
     "iopub.status.busy": "2025-05-16T10:34:00.108602Z",
     "iopub.status.idle": "2025-05-16T10:34:03.957614Z",
     "shell.execute_reply": "2025-05-16T10:34:03.956873Z",
     "shell.execute_reply.started": "2025-05-16T10:34:00.108805Z"
    },
    "trusted": true
   },
   "outputs": [
    {
     "data": {
      "text/plain": [
       "PosixPath('onnx')"
      ]
     },
     "execution_count": 32,
     "metadata": {},
     "output_type": "execute_result"
    }
   ],
   "source": [
    "from optimum.onnxruntime.preprocessors import QuantizationPreprocessor\n",
    "from optimum.onnxruntime.preprocessors.passes import (\n",
    "    ExcludeGeLUNodes,\n",
    "    ExcludeLayerNormNodes,\n",
    "    ExcludeNodeAfter,\n",
    "    ExcludeNodeFollowedBy,\n",
    ")\n",
    "\n",
    "\n",
    "def create_quantization_preprocessor():\n",
    "    # Create a quantization preprocessor to determine the nodes to exclude\n",
    "    quantization_preprocessor = QuantizationPreprocessor()\n",
    "\n",
    "    # Exclude the nodes constituting LayerNorm\n",
    "    quantization_preprocessor.register_pass(ExcludeLayerNormNodes())\n",
    "    # Exclude the nodes constituting GELU\n",
    "    quantization_preprocessor.register_pass(ExcludeGeLUNodes())\n",
    "    # Exclude the residual connection Add nodes\n",
    "    quantization_preprocessor.register_pass(ExcludeNodeAfter(\"Add\", \"Add\"))\n",
    "    # Exclude the Add nodes following the Gather operator\n",
    "    quantization_preprocessor.register_pass(ExcludeNodeAfter(\"Gather\", \"Add\"))\n",
    "    # Exclude the Add nodes followed by the Softmax operator\n",
    "    quantization_preprocessor.register_pass(ExcludeNodeFollowedBy(\"Add\", \"Softmax\"))\n",
    "\n",
    "    return quantization_preprocessor\n",
    "\n",
    "\n",
    "# create processor\n",
    "quantization_preprocessor = create_quantization_preprocessor()\n",
    "\n",
    "# Quantize the same way we did for dynamic quantization!\n",
    "quantizer.quantize(\n",
    "    save_dir=onnx_path,\n",
    "    calibration_tensors_range=ranges,\n",
    "    quantization_config=qconfig,\n",
    "    preprocessor=quantization_preprocessor,\n",
    ")"
   ]
  },
  {
   "cell_type": "code",
   "execution_count": 33,
   "metadata": {
    "execution": {
     "iopub.execute_input": "2025-05-16T10:34:03.959221Z",
     "iopub.status.busy": "2025-05-16T10:34:03.958445Z",
     "iopub.status.idle": "2025-05-16T10:34:03.963715Z",
     "shell.execute_reply": "2025-05-16T10:34:03.963046Z",
     "shell.execute_reply.started": "2025-05-16T10:34:03.959197Z"
    },
    "trusted": true
   },
   "outputs": [
    {
     "name": "stdout",
     "output_type": "stream",
     "text": [
      "Model file size: 185.87 MB\n",
      "Quantized Model file size: 156.25 MB\n"
     ]
    }
   ],
   "source": [
    "import os\n",
    "\n",
    "# get model file size\n",
    "size = os.path.getsize(onnx_path / \"model.onnx\")/(1024*1024)\n",
    "quantized_model = os.path.getsize(onnx_path / \"model_quantized.onnx\")/(1024*1024)\n",
    "\n",
    "print(f\"Model file size: {size:.2f} MB\")\n",
    "print(f\"Quantized Model file size: {quantized_model:.2f} MB\")"
   ]
  },
  {
   "cell_type": "code",
   "execution_count": 34,
   "metadata": {
    "execution": {
     "iopub.execute_input": "2025-05-16T10:34:03.964575Z",
     "iopub.status.busy": "2025-05-16T10:34:03.964370Z",
     "iopub.status.idle": "2025-05-16T10:34:04.512795Z",
     "shell.execute_reply": "2025-05-16T10:34:04.512186Z",
     "shell.execute_reply.started": "2025-05-16T10:34:03.964544Z"
    },
    "trusted": true
   },
   "outputs": [
    {
     "name": "stderr",
     "output_type": "stream",
     "text": [
      "You are using a model of type timm_wrapper to instantiate a model of type . This is not supported for all configurations of models and can yield errors.\n",
      "Too many ONNX model files were found in onnx/model_quantized.onnx ,onnx/model.onnx. specify which one to load by using the `file_name` and/or the `subfolder` arguments. Loading the file model_quantized.onnx in the subfolder onnx.\n"
     ]
    }
   ],
   "source": [
    "model = ORTModelForImageClassification.from_pretrained(onnx_path, file_name=\"model_quantized.onnx\")"
   ]
  },
  {
   "cell_type": "code",
   "execution_count": 35,
   "metadata": {
    "execution": {
     "iopub.execute_input": "2025-05-16T10:34:04.514997Z",
     "iopub.status.busy": "2025-05-16T10:34:04.514804Z",
     "iopub.status.idle": "2025-05-16T10:35:48.615163Z",
     "shell.execute_reply": "2025-05-16T10:35:48.614288Z",
     "shell.execute_reply.started": "2025-05-16T10:34:04.514983Z"
    },
    "trusted": true
   },
   "outputs": [
    {
     "name": "stdout",
     "output_type": "stream",
     "text": [
      "\n",
      "🔍 Initial memory state:\n",
      "\n",
      "--- Memory Usage (Before loading model) ---\n",
      "CPU RAM used: 7355.32 MB\n",
      "GPU 0 VRAM: 617.00 MB / 16384.00 MB\n",
      "\n",
      "🔍 Initial memory state:\n",
      "\n",
      "--- Memory Usage (Model loaded) ---\n",
      "CPU RAM used: 7355.32 MB\n",
      "GPU 0 VRAM: 617.00 MB / 16384.00 MB\n",
      "\n",
      "🧪 Benchmarking on CPU:\n",
      "\n",
      "🔥 Warming up (3 runs) on cpu...\n",
      "🚀 Benchmarking (10 runs) on cpu...\n",
      "✅ Average inference: 93.84 ms\n",
      "📊 Total time: 938.36 ms | FPS: 10.7\n",
      "\n",
      "--- Memory Usage (After CPU benchmark) ---\n",
      "CPU RAM used: 7391.95 MB\n",
      "GPU 0 VRAM: 617.00 MB / 16384.00 MB\n",
      "\n",
      "🎮 Benchmarking on GPU:\n"
     ]
    },
    {
     "name": "stderr",
     "output_type": "stream",
     "text": [
      "\u001b[0;93m2025-05-16 10:34:06.669503944 [W:onnxruntime:, transformer_memcpy.cc:83 ApplyImpl] 35 Memcpy nodes are added to the graph main_graph for CUDAExecutionProvider. It might have negative impact on performance (including unable to run CUDA graph). Set session_options.log_severity_level=1 to see the detail logs before this message.\u001b[m\n",
      "\u001b[0;93m2025-05-16 10:34:06.678475128 [W:onnxruntime:, session_state.cc:1280 VerifyEachNodeIsAssignedToAnEp] Some nodes were not assigned to the preferred execution providers which may or may not have an negative impact on performance. e.g. ORT explicitly assigns shape related ops to CPU to improve perf.\u001b[m\n",
      "\u001b[0;93m2025-05-16 10:34:06.678492079 [W:onnxruntime:, session_state.cc:1282 VerifyEachNodeIsAssignedToAnEp] Rerunning with verbose output on a non-minimal build will show node assignments.\u001b[m\n"
     ]
    },
    {
     "name": "stdout",
     "output_type": "stream",
     "text": [
      "\n",
      "🔥 Warming up (3 runs) on cuda...\n",
      "🚀 Benchmarking (10 runs) on cuda...\n",
      "✅ Average inference: 24.26 ms\n",
      "📊 Total time: 242.58 ms | FPS: 41.2\n",
      "\n",
      "--- Memory Usage (After GPU test) ---\n",
      "CPU RAM used: 7293.81 MB\n",
      "GPU 0 VRAM: 891.00 MB / 16384.00 MB\n",
      "\n",
      "⚡ Benchmarking with AMP:\n"
     ]
    },
    {
     "name": "stderr",
     "output_type": "stream",
     "text": [
      "\u001b[0;93m2025-05-16 10:34:07.553071982 [W:onnxruntime:, transformer_memcpy.cc:83 ApplyImpl] 35 Memcpy nodes are added to the graph main_graph for CUDAExecutionProvider. It might have negative impact on performance (including unable to run CUDA graph). Set session_options.log_severity_level=1 to see the detail logs before this message.\u001b[m\n",
      "\u001b[0;93m2025-05-16 10:34:07.563191374 [W:onnxruntime:, session_state.cc:1280 VerifyEachNodeIsAssignedToAnEp] Some nodes were not assigned to the preferred execution providers which may or may not have an negative impact on performance. e.g. ORT explicitly assigns shape related ops to CPU to improve perf.\u001b[m\n",
      "\u001b[0;93m2025-05-16 10:34:07.563210146 [W:onnxruntime:, session_state.cc:1282 VerifyEachNodeIsAssignedToAnEp] Rerunning with verbose output on a non-minimal build will show node assignments.\u001b[m\n"
     ]
    },
    {
     "name": "stdout",
     "output_type": "stream",
     "text": [
      "\n",
      "🔥 Warming up (3 runs) on cuda...\n",
      "🚀 Benchmarking (10 runs) on cuda...\n",
      "✅ Average inference: 23.93 ms\n",
      "📊 Total time: 239.33 ms | FPS: 41.8\n",
      "\n",
      "--- Memory Usage (After AMP test) ---\n",
      "CPU RAM used: 7293.93 MB\n",
      "GPU 0 VRAM: 891.00 MB / 16384.00 MB\n",
      "\n",
      "📈 Results Summary:\n",
      "| Device | Inference Time (ms) | Speedup vs CPU |\n",
      "|--------|---------------------|----------------|\n",
      "| CPU    |               93.84 |        —        |\n",
      "| GPU    |               24.26 |       3.9      x |\n",
      "| AMP    |               23.93 |       3.9      x |\n",
      "\n",
      "📊 Loading ImageNetMini dataset...\n",
      "Compose(\n",
      "    Resize(size=256, interpolation=bicubic, max_size=None, antialias=True)\n",
      "    CenterCrop(size=(256, 256))\n",
      "    MaybeToTensor()\n",
      "    Normalize(mean=tensor([0.4850, 0.4560, 0.4060]), std=tensor([0.2290, 0.2240, 0.2250]))\n",
      ")\n",
      "\n",
      "🧮 Calculating metrics on GPU:\n"
     ]
    },
    {
     "name": "stderr",
     "output_type": "stream",
     "text": [
      "\u001b[0;93m2025-05-16 10:34:17.202086752 [W:onnxruntime:, transformer_memcpy.cc:83 ApplyImpl] 35 Memcpy nodes are added to the graph main_graph for CUDAExecutionProvider. It might have negative impact on performance (including unable to run CUDA graph). Set session_options.log_severity_level=1 to see the detail logs before this message.\u001b[m\n",
      "\u001b[0;93m2025-05-16 10:34:17.211890919 [W:onnxruntime:, session_state.cc:1280 VerifyEachNodeIsAssignedToAnEp] Some nodes were not assigned to the preferred execution providers which may or may not have an negative impact on performance. e.g. ORT explicitly assigns shape related ops to CPU to improve perf.\u001b[m\n",
      "\u001b[0;93m2025-05-16 10:34:17.211909716 [W:onnxruntime:, session_state.cc:1282 VerifyEachNodeIsAssignedToAnEp] Rerunning with verbose output on a non-minimal build will show node assignments.\u001b[m\n"
     ]
    },
    {
     "name": "stdout",
     "output_type": "stream",
     "text": [
      "\n",
      "🎯 Quality Metrics Summary:\n",
      "| Device | Precision | Recall  | F1-Score |\n",
      "|--------|-----------|---------|----------|\n",
      "| GPU    | 0.8060  | 0.7791 | 0.7670  |\n"
     ]
    },
    {
     "name": "stderr",
     "output_type": "stream",
     "text": [
      "/usr/local/lib/python3.11/dist-packages/sklearn/metrics/_classification.py:1344: UndefinedMetricWarning: Precision is ill-defined and being set to 0.0 in labels with no predicted samples. Use `zero_division` parameter to control this behavior.\n",
      "  _warn_prf(average, modifier, msg_start, len(result))\n"
     ]
    }
   ],
   "source": [
    "main(model, path)"
   ]
  }
 ],
 "metadata": {
  "kaggle": {
   "accelerator": "gpu",
   "dataSources": [
    {
     "datasetId": 547506,
     "sourceId": 998277,
     "sourceType": "datasetVersion"
    }
   ],
   "dockerImageVersionId": 31041,
   "isGpuEnabled": true,
   "isInternetEnabled": true,
   "language": "python",
   "sourceType": "notebook"
  },
  "kernelspec": {
   "display_name": "Python 3",
   "language": "python",
   "name": "python3"
  },
  "language_info": {
   "codemirror_mode": {
    "name": "ipython",
    "version": 3
   },
   "file_extension": ".py",
   "mimetype": "text/x-python",
   "name": "python",
   "nbconvert_exporter": "python",
   "pygments_lexer": "ipython3",
   "version": "3.11.11"
  }
 },
 "nbformat": 4,
 "nbformat_minor": 4
}
