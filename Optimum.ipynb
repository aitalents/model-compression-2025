{
 "cells": [
  {
   "cell_type": "code",
   "execution_count": 22,
   "id": "e31f6419-fa61-4c04-a420-f79e2a34b07f",
   "metadata": {},
   "outputs": [],
   "source": [
    "import os\n",
    "import time\n",
    "\n",
    "import numpy as np\n",
    "import torch\n",
    "import torch.nn as nn\n",
    "import torch.nn.functional as F\n",
    "\n",
    "import pandas as pd\n",
    "\n",
    "import datasets\n",
    "from transformers import TrainingArguments, Trainer, AutoTokenizer, AutoConfig, AutoModelForSequenceClassification, pipeline, BertForSequenceClassification"
   ]
  },
  {
   "cell_type": "code",
   "execution_count": 23,
   "id": "db1fb2a9",
   "metadata": {},
   "outputs": [
    {
     "name": "stdout",
     "output_type": "stream",
     "text": [
      "(2679, 3)\n"
     ]
    },
    {
     "data": {
      "text/html": [
       "<div>\n",
       "<style scoped>\n",
       "    .dataframe tbody tr th:only-of-type {\n",
       "        vertical-align: middle;\n",
       "    }\n",
       "\n",
       "    .dataframe tbody tr th {\n",
       "        vertical-align: top;\n",
       "    }\n",
       "\n",
       "    .dataframe thead th {\n",
       "        text-align: right;\n",
       "    }\n",
       "</style>\n",
       "<table border=\"1\" class=\"dataframe\">\n",
       "  <thead>\n",
       "    <tr style=\"text-align: right;\">\n",
       "      <th></th>\n",
       "      <th>text</th>\n",
       "      <th>label</th>\n",
       "      <th>id</th>\n",
       "    </tr>\n",
       "  </thead>\n",
       "  <tbody>\n",
       "    <tr>\n",
       "      <th>0</th>\n",
       "      <td>все мы помним мой ахуй https://t.co/3Kr7yzeYLC</td>\n",
       "      <td>skip</td>\n",
       "      <td>1318021368932421633</td>\n",
       "    </tr>\n",
       "    <tr>\n",
       "      <th>1</th>\n",
       "      <td>я считаю это мем года https://t.co/xoVKj5y8Mj</td>\n",
       "      <td>positive</td>\n",
       "      <td>1218052288964632576</td>\n",
       "    </tr>\n",
       "    <tr>\n",
       "      <th>2</th>\n",
       "      <td>ян русский на сотку все запятые где надо🤙🏻👍🏻👍🏻...</td>\n",
       "      <td>positive</td>\n",
       "      <td>1212859589592539136</td>\n",
       "    </tr>\n",
       "    <tr>\n",
       "      <th>3</th>\n",
       "      <td>бэк дор соти https://t.co/bYCWz4h4Sk</td>\n",
       "      <td>skip</td>\n",
       "      <td>1306944400824709120</td>\n",
       "    </tr>\n",
       "    <tr>\n",
       "      <th>4</th>\n",
       "      <td>@daria_karapet * терияки бойз начинает играть*</td>\n",
       "      <td>neutral</td>\n",
       "      <td>1321540138334302209</td>\n",
       "    </tr>\n",
       "  </tbody>\n",
       "</table>\n",
       "</div>"
      ],
      "text/plain": [
       "                                                text     label  \\\n",
       "0     все мы помним мой ахуй https://t.co/3Kr7yzeYLC      skip   \n",
       "1      я считаю это мем года https://t.co/xoVKj5y8Mj  positive   \n",
       "2  ян русский на сотку все запятые где надо🤙🏻👍🏻👍🏻...  positive   \n",
       "3               бэк дор соти https://t.co/bYCWz4h4Sk      skip   \n",
       "4     @daria_karapet * терияки бойз начинает играть*   neutral   \n",
       "\n",
       "                    id  \n",
       "0  1318021368932421633  \n",
       "1  1218052288964632576  \n",
       "2  1212859589592539136  \n",
       "3  1306944400824709120  \n",
       "4  1321540138334302209  "
      ]
     },
     "execution_count": 23,
     "metadata": {},
     "output_type": "execute_result"
    }
   ],
   "source": [
    "# Загрузка CSV в pandas DataFrame\n",
    "import pandas as pd\n",
    "\n",
    "test_df = pd.read_csv(\"test.csv\")\n",
    "print(test_df.shape)\n",
    "test_df.head()"
   ]
  },
  {
   "cell_type": "code",
   "execution_count": 24,
   "id": "2c29b365",
   "metadata": {},
   "outputs": [
    {
     "data": {
      "text/html": [
       "<div>\n",
       "<style scoped>\n",
       "    .dataframe tbody tr th:only-of-type {\n",
       "        vertical-align: middle;\n",
       "    }\n",
       "\n",
       "    .dataframe tbody tr th {\n",
       "        vertical-align: top;\n",
       "    }\n",
       "\n",
       "    .dataframe thead th {\n",
       "        text-align: right;\n",
       "    }\n",
       "</style>\n",
       "<table border=\"1\" class=\"dataframe\">\n",
       "  <thead>\n",
       "    <tr style=\"text-align: right;\">\n",
       "      <th></th>\n",
       "      <th>text</th>\n",
       "      <th>label</th>\n",
       "      <th>id</th>\n",
       "      <th>new_label</th>\n",
       "    </tr>\n",
       "  </thead>\n",
       "  <tbody>\n",
       "    <tr>\n",
       "      <th>1</th>\n",
       "      <td>я считаю это мем года https://t.co/xoVKj5y8Mj</td>\n",
       "      <td>positive</td>\n",
       "      <td>1218052288964632576</td>\n",
       "      <td>0</td>\n",
       "    </tr>\n",
       "    <tr>\n",
       "      <th>2</th>\n",
       "      <td>ян русский на сотку все запятые где надо🤙🏻👍🏻👍🏻...</td>\n",
       "      <td>positive</td>\n",
       "      <td>1212859589592539136</td>\n",
       "      <td>0</td>\n",
       "    </tr>\n",
       "    <tr>\n",
       "      <th>4</th>\n",
       "      <td>@daria_karapet * терияки бойз начинает играть*</td>\n",
       "      <td>neutral</td>\n",
       "      <td>1321540138334302209</td>\n",
       "      <td>2</td>\n",
       "    </tr>\n",
       "    <tr>\n",
       "      <th>5</th>\n",
       "      <td>(пушка на Караульной горе больше не стреляет Б...</td>\n",
       "      <td>negative</td>\n",
       "      <td>1342696727808274432</td>\n",
       "      <td>1</td>\n",
       "    </tr>\n",
       "    <tr>\n",
       "      <th>6</th>\n",
       "      <td>@Iori_loves_U Как мило /смутилась/ спасибо 🥰🌸</td>\n",
       "      <td>positive</td>\n",
       "      <td>1317052132382679041</td>\n",
       "      <td>0</td>\n",
       "    </tr>\n",
       "  </tbody>\n",
       "</table>\n",
       "</div>"
      ],
      "text/plain": [
       "                                                text     label  \\\n",
       "1      я считаю это мем года https://t.co/xoVKj5y8Mj  positive   \n",
       "2  ян русский на сотку все запятые где надо🤙🏻👍🏻👍🏻...  positive   \n",
       "4     @daria_karapet * терияки бойз начинает играть*   neutral   \n",
       "5  (пушка на Караульной горе больше не стреляет Б...  negative   \n",
       "6      @Iori_loves_U Как мило /смутилась/ спасибо 🥰🌸  positive   \n",
       "\n",
       "                    id  new_label  \n",
       "1  1218052288964632576          0  \n",
       "2  1212859589592539136          0  \n",
       "4  1321540138334302209          2  \n",
       "5  1342696727808274432          1  \n",
       "6  1317052132382679041          0  "
      ]
     },
     "execution_count": 24,
     "metadata": {},
     "output_type": "execute_result"
    }
   ],
   "source": [
    "test_df['new_label'] = test_df['label'].map({\"positive\": 0, \"negative\": 1, \"neutral\": 2, \"speech\": -1, \"skip\": -1})\n",
    "test_df = test_df[test_df['new_label']>=0]\n",
    "test_df.head()"
   ]
  },
  {
   "cell_type": "code",
   "execution_count": 25,
   "id": "6db4a8e0-544e-4802-a81f-24dc5503f732",
   "metadata": {},
   "outputs": [
    {
     "name": "stdout",
     "output_type": "stream",
     "text": [
      "cuda\n"
     ]
    }
   ],
   "source": [
    "device = torch.device(\"cuda\" if torch.cuda.is_available() else \"cpu\")\n",
    "print(device)\n",
    "\n",
    "#checkpoint = './teacher_model_weights/teacher_model_weights/'\n",
    "tokenizer = \"DeepPavlov/rubert-base-cased\"\n",
    "ckpt = './models/bert_teacher/'\n",
    "tokenizer = AutoTokenizer.from_pretrained(tokenizer)\n",
    "model = BertForSequenceClassification.from_pretrained(ckpt, num_labels=3).to(device)"
   ]
  },
  {
   "cell_type": "code",
   "execution_count": 26,
   "id": "57c0bf16",
   "metadata": {},
   "outputs": [
    {
     "data": {
      "text/plain": [
       "torch.float32"
      ]
     },
     "execution_count": 26,
     "metadata": {},
     "output_type": "execute_result"
    }
   ],
   "source": [
    "model.dtype"
   ]
  },
  {
   "cell_type": "code",
   "execution_count": 27,
   "id": "3fd15498-38db-451d-8c6a-4c71d545d664",
   "metadata": {},
   "outputs": [
    {
     "name": "stdout",
     "output_type": "stream",
     "text": [
      "Base Model:  177855747\n"
     ]
    }
   ],
   "source": [
    "print(\"Base Model: \", model.num_parameters())"
   ]
  },
  {
   "cell_type": "code",
   "execution_count": 28,
   "id": "f30f1068-5644-40f0-81a5-9f06f93f006e",
   "metadata": {},
   "outputs": [
    {
     "name": "stderr",
     "output_type": "stream",
     "text": [
      "Device set to use cuda:0\n"
     ]
    }
   ],
   "source": [
    "pipe = pipeline(\"text-classification\", model=model, tokenizer=tokenizer, device=0)\n",
    "\n",
    "id2label = pipe.model.config.id2label\n",
    "label2id = pipe.model.config.label2id"
   ]
  },
  {
   "cell_type": "code",
   "execution_count": 21,
   "id": "dfb53b65",
   "metadata": {},
   "outputs": [
    {
     "name": "stdout",
     "output_type": "stream",
     "text": [
      "Время:  30.742342472076416  c\n",
      "Время на 1 текст: 0.013904270679365182  c\n"
     ]
    }
   ],
   "source": [
    "start_time = time.time()\n",
    "pipe(test_df['text'].to_list())\n",
    "stop_time = time.time()\n",
    "print('Время: ', stop_time - start_time, ' c')\n",
    "print('Время на 1 текст:', (stop_time - start_time)/len(test_df), ' c')"
   ]
  },
  {
   "cell_type": "code",
   "execution_count": 29,
   "id": "6d05c2d3",
   "metadata": {},
   "outputs": [],
   "source": [
    "from sklearn.metrics import accuracy_score, f1_score\n",
    "\n",
    "def eval_metrics(model, df, limit=None):\n",
    "    preds = model(df['text'].tolist()[:limit])\n",
    "    preds = [label2id[i['label']] for i in preds]\n",
    "\n",
    "    print(\"Accuracy:\", accuracy_score(df['new_label'].iloc[:limit], preds))"
   ]
  },
  {
   "cell_type": "code",
   "execution_count": 30,
   "id": "eec17660",
   "metadata": {},
   "outputs": [
    {
     "name": "stdout",
     "output_type": "stream",
     "text": [
      "Accuracy: 0.52962460425147\n"
     ]
    }
   ],
   "source": [
    "eval_metrics(pipe, test_df, limit=10000)"
   ]
  },
  {
   "cell_type": "markdown",
   "id": "9a7bb81e",
   "metadata": {},
   "source": [
    "# Конвертация"
   ]
  },
  {
   "cell_type": "code",
   "execution_count": 3,
   "id": "127dc637-f414-4fd4-a540-1d723e4bfeca",
   "metadata": {},
   "outputs": [
    {
     "name": "stderr",
     "output_type": "stream",
     "text": [
      "c:\\Users\\nikit\\Desktop\\Учеба\\ИТМО\\Генеративки\\.venv\\Lib\\site-packages\\tqdm\\auto.py:21: TqdmWarning: IProgress not found. Please update jupyter and ipywidgets. See https://ipywidgets.readthedocs.io/en/stable/user_install.html\n",
      "  from .autonotebook import tqdm as notebook_tqdm\n"
     ]
    }
   ],
   "source": [
    "from optimum.pipelines import pipeline\n",
    "from optimum.onnxruntime import ORTOptimizer, ORTModelForSequenceClassification\n",
    "from optimum.onnxruntime.configuration import OptimizationConfig"
   ]
  },
  {
   "cell_type": "code",
   "execution_count": 7,
   "id": "0d22c7a5",
   "metadata": {},
   "outputs": [
    {
     "data": {
      "text/plain": [
       "'cpu'"
      ]
     },
     "execution_count": 7,
     "metadata": {},
     "output_type": "execute_result"
    }
   ],
   "source": [
    "import torch\n",
    "\n",
    "device = 'cuda' if torch.cuda.is_available() else \"cpu\"\n",
    "device"
   ]
  },
  {
   "cell_type": "code",
   "execution_count": 8,
   "id": "4fda2ca3",
   "metadata": {},
   "outputs": [],
   "source": [
    "from transformers import AutoTokenizer\n",
    "tokenizer = \"DeepPavlov/rubert-base-cased\"\n",
    "ckpt = './models/bert_teacher/'\n",
    "tokenizer = AutoTokenizer.from_pretrained(tokenizer)\n",
    "model = ORTModelForSequenceClassification.from_pretrained(ckpt, export=True).to(device)"
   ]
  },
  {
   "cell_type": "code",
   "execution_count": 10,
   "id": "0c886703",
   "metadata": {},
   "outputs": [],
   "source": [
    "model.save_pretrained('./models/bert_onnx')"
   ]
  },
  {
   "cell_type": "markdown",
   "id": "bc82374c",
   "metadata": {},
   "source": [
    "# Инференс onnx"
   ]
  },
  {
   "cell_type": "code",
   "execution_count": 13,
   "id": "7a47afa8-565b-4e4a-b179-86ae3e804379",
   "metadata": {},
   "outputs": [],
   "source": [
    "import onnxruntime\n",
    "from optimum.pipelines import pipeline\n",
    "\n",
    "sess = onnxruntime.InferenceSession(\"models/bert_onnx/model.onnx\", providers=['CUDAExecutionProvider'])\n",
    "session_options = onnxruntime.SessionOptions()\n",
    "session_options.log_severity_level = 0"
   ]
  },
  {
   "cell_type": "code",
   "execution_count": 2,
   "id": "9054e686",
   "metadata": {},
   "outputs": [
    {
     "name": "stdout",
     "output_type": "stream",
     "text": [
      "['TensorrtExecutionProvider', 'CUDAExecutionProvider', 'CPUExecutionProvider']\n"
     ]
    }
   ],
   "source": [
    "providers = onnxruntime.get_available_providers()\n",
    "print(providers)"
   ]
  },
  {
   "cell_type": "markdown",
   "id": "07043fd3-e24d-4aee-beba-7f10a3eb93c3",
   "metadata": {},
   "source": [
    "### Using optimum pipeline"
   ]
  },
  {
   "cell_type": "code",
   "execution_count": 4,
   "id": "242b22d7-3511-4b8e-bf2a-9fd61397d92b",
   "metadata": {},
   "outputs": [
    {
     "name": "stderr",
     "output_type": "stream",
     "text": [
      "Device set to use cuda:0\n"
     ]
    }
   ],
   "source": [
    "optimum_model1 = pipeline(\n",
    "        task=\"text-classification\", \n",
    "        model=\"models/bert_onnx/\", \n",
    "        tokenizer=\"DeepPavlov/rubert-base-cased\", \n",
    "        accelerator=\"ort\",\n",
    "        device=0,\n",
    ")"
   ]
  },
  {
   "cell_type": "code",
   "execution_count": 18,
   "id": "ef5e3f87",
   "metadata": {},
   "outputs": [],
   "source": [
    "id2label = optimum_model1.model.config.id2label\n",
    "label2id = optimum_model1.model.config.label2id"
   ]
  },
  {
   "cell_type": "code",
   "execution_count": 9,
   "id": "94dabab0",
   "metadata": {},
   "outputs": [],
   "source": [
    "sample_input = test_df['text'].to_list()"
   ]
  },
  {
   "cell_type": "code",
   "execution_count": 11,
   "id": "f06b279b-176b-4ac4-95bc-70e963036017",
   "metadata": {},
   "outputs": [
    {
     "name": "stderr",
     "output_type": "stream",
     "text": [
      "You seem to be using the pipelines sequentially on GPU. In order to maximize efficiency please use a dataset\n"
     ]
    },
    {
     "name": "stdout",
     "output_type": "stream",
     "text": [
      "Общее время обработки 2211 запросов базовой моделью из optimum: 2.3005516028404234\n",
      "Среднее время на один запрос:  0.0010405027602172878\n"
     ]
    }
   ],
   "source": [
    "import time\n",
    "\n",
    "#WARMUP7\n",
    "for _ in range(10):\n",
    "  _ = optimum_model1(sample_input[:10])\n",
    "\n",
    "\n",
    "#INFERENCE\n",
    "start = time.time()\n",
    "for _ in range(10):\n",
    "  _ = optimum_model1(sample_input)\n",
    "total_time_model = time.time() - start\n",
    "total_time_model /= 10\n",
    "print(f\"Общее время обработки {len(sample_input)} запросов базовой моделью из optimum:\", total_time_model)\n",
    "print('Среднее время на один запрос: ', total_time_model/len(sample_input))"
   ]
  },
  {
   "cell_type": "code",
   "execution_count": 21,
   "id": "fcaadddd-285d-49af-80d3-e3cc0322c94b",
   "metadata": {},
   "outputs": [
    {
     "name": "stdout",
     "output_type": "stream",
     "text": [
      "Accuracy: 0.5300768882858435\n"
     ]
    }
   ],
   "source": [
    "eval_metrics(optimum_model1, test_df)"
   ]
  }
 ],
 "metadata": {
  "kernelspec": {
   "display_name": ".venv",
   "language": "python",
   "name": "python3"
  },
  "language_info": {
   "codemirror_mode": {
    "name": "ipython",
    "version": 3
   },
   "file_extension": ".py",
   "mimetype": "text/x-python",
   "name": "python",
   "nbconvert_exporter": "python",
   "pygments_lexer": "ipython3",
   "version": "3.11.9"
  }
 },
 "nbformat": 4,
 "nbformat_minor": 5
}
