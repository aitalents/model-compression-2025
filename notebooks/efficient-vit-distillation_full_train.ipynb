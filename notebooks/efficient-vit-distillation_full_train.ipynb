{
 "cells": [
  {
   "cell_type": "code",
   "execution_count": 1,
   "id": "7e817ee5",
   "metadata": {
    "execution": {
     "iopub.execute_input": "2025-04-21T06:51:41.654847Z",
     "iopub.status.busy": "2025-04-21T06:51:41.654564Z",
     "iopub.status.idle": "2025-04-21T06:51:56.068173Z",
     "shell.execute_reply": "2025-04-21T06:51:56.067559Z"
    },
    "papermill": {
     "duration": 14.42191,
     "end_time": "2025-04-21T06:51:56.069544",
     "exception": false,
     "start_time": "2025-04-21T06:51:41.647634",
     "status": "completed"
    },
    "tags": []
   },
   "outputs": [],
   "source": [
    "import os\n",
    "import time\n",
    "\n",
    "import kagglehub\n",
    "import numpy as np\n",
    "from tqdm import tqdm\n",
    "\n",
    "import timm\n",
    "from timm.data import resolve_data_config\n",
    "from timm.data.transforms_factory import create_transform\n",
    "\n",
    "import torch\n",
    "from torch import nn, optim\n",
    "from torch.amp import autocast\n",
    "from torchvision import datasets, transforms\n",
    "from torch.utils.data import random_split, DataLoader\n",
    "\n",
    "from sklearn.metrics import precision_score, recall_score, f1_score"
   ]
  },
  {
   "cell_type": "code",
   "execution_count": 2,
   "id": "6d68ae89",
   "metadata": {
    "execution": {
     "iopub.execute_input": "2025-04-21T06:51:56.080542Z",
     "iopub.status.busy": "2025-04-21T06:51:56.080191Z",
     "iopub.status.idle": "2025-04-21T06:51:56.279018Z",
     "shell.execute_reply": "2025-04-21T06:51:56.278258Z"
    },
    "papermill": {
     "duration": 0.205402,
     "end_time": "2025-04-21T06:51:56.280258",
     "exception": false,
     "start_time": "2025-04-21T06:51:56.074856",
     "status": "completed"
    },
    "tags": []
   },
   "outputs": [
    {
     "name": "stdout",
     "output_type": "stream",
     "text": [
      "Path to dataset files: /kaggle/input/imagenetmini-1000/imagenet-mini\n"
     ]
    }
   ],
   "source": [
    "path = kagglehub.dataset_download(\"ifigotin/imagenetmini-1000\")\n",
    "path += \"/imagenet-mini\"\n",
    "\n",
    "print(\"Path to dataset files:\", path)"
   ]
  },
  {
   "cell_type": "code",
   "execution_count": 3,
   "id": "9b3a0f79",
   "metadata": {
    "execution": {
     "iopub.execute_input": "2025-04-21T06:51:56.292119Z",
     "iopub.status.busy": "2025-04-21T06:51:56.291517Z",
     "iopub.status.idle": "2025-04-21T06:52:01.051305Z",
     "shell.execute_reply": "2025-04-21T06:52:01.050506Z"
    },
    "papermill": {
     "duration": 4.766905,
     "end_time": "2025-04-21T06:52:01.052767",
     "exception": false,
     "start_time": "2025-04-21T06:51:56.285862",
     "status": "completed"
    },
    "tags": []
   },
   "outputs": [
    {
     "data": {
      "application/vnd.jupyter.widget-view+json": {
       "model_id": "1eccb2f510374be4bc118f4f0ecfb30a",
       "version_major": 2,
       "version_minor": 0
      },
      "text/plain": [
       "model.safetensors:   0%|          | 0.00/195M [00:00<?, ?B/s]"
      ]
     },
     "metadata": {},
     "output_type": "display_data"
    }
   ],
   "source": [
    "teacher_model = timm.create_model('efficientvit_b3.r256_in1k', pretrained=True)\n",
    "student_model = timm.create_model('efficientvit_b1.r256_in1k', pretrained=False)"
   ]
  },
  {
   "cell_type": "code",
   "execution_count": 4,
   "id": "31f900b9",
   "metadata": {
    "execution": {
     "iopub.execute_input": "2025-04-21T06:52:01.064498Z",
     "iopub.status.busy": "2025-04-21T06:52:01.063985Z",
     "iopub.status.idle": "2025-04-21T06:52:01.068133Z",
     "shell.execute_reply": "2025-04-21T06:52:01.067639Z"
    },
    "papermill": {
     "duration": 0.010932,
     "end_time": "2025-04-21T06:52:01.069144",
     "exception": false,
     "start_time": "2025-04-21T06:52:01.058212",
     "status": "completed"
    },
    "tags": []
   },
   "outputs": [],
   "source": [
    "def load_imagenet_mini(dataset_path, model, split, transforms_list):\n",
    "    config = resolve_data_config({}, model=model)\n",
    "    transform = create_transform(**config)\n",
    "\n",
    "    print(transform)\n",
    "\n",
    "    if len(transforms_list):\n",
    "        transform = transforms.Compose([\n",
    "            *transforms_list,\n",
    "            transform,\n",
    "            # transforms.RandomErasing(p=0.5, scale=(0.02, 0.33), ratio=(0.3, 3.33))\n",
    "        ])\n",
    "\n",
    "    dataset = datasets.ImageFolder(\n",
    "        root=os.path.join(dataset_path, split),\n",
    "        transform=transform\n",
    "    )\n",
    "    \n",
    "    return dataset"
   ]
  },
  {
   "cell_type": "code",
   "execution_count": 5,
   "id": "bab3bfc2",
   "metadata": {
    "execution": {
     "iopub.execute_input": "2025-04-21T06:52:01.079930Z",
     "iopub.status.busy": "2025-04-21T06:52:01.079558Z",
     "iopub.status.idle": "2025-04-21T06:53:35.466322Z",
     "shell.execute_reply": "2025-04-21T06:53:35.465496Z"
    },
    "papermill": {
     "duration": 94.39384,
     "end_time": "2025-04-21T06:53:35.467845",
     "exception": false,
     "start_time": "2025-04-21T06:52:01.074005",
     "status": "completed"
    },
    "tags": []
   },
   "outputs": [
    {
     "name": "stdout",
     "output_type": "stream",
     "text": [
      "Compose(\n",
      "    Resize(size=256, interpolation=bicubic, max_size=None, antialias=True)\n",
      "    CenterCrop(size=(256, 256))\n",
      "    MaybeToTensor()\n",
      "    Normalize(mean=tensor([0.4850, 0.4560, 0.4060]), std=tensor([0.2290, 0.2240, 0.2250]))\n",
      ")\n",
      "Compose(\n",
      "    Resize(size=256, interpolation=bicubic, max_size=None, antialias=True)\n",
      "    CenterCrop(size=(256, 256))\n",
      "    MaybeToTensor()\n",
      "    Normalize(mean=tensor([0.4850, 0.4560, 0.4060]), std=tensor([0.2290, 0.2240, 0.2250]))\n",
      ")\n"
     ]
    }
   ],
   "source": [
    "transforms_list = [\n",
    "    transforms.RandomResizedCrop(256, scale=(0.8, 1.0)),\n",
    "    transforms.RandomHorizontalFlip(p=0.5),\n",
    "    transforms.ColorJitter(brightness=0.2, contrast=0.2, saturation=0.2, hue=0.1),\n",
    "    transforms.RandomGrayscale(p=0.1),\n",
    "    transforms.RandomApply([transforms.GaussianBlur(kernel_size=3)], p=0.2),\n",
    "    transforms.RandomRotation(degrees=15),\n",
    "]\n",
    "\n",
    "original_dataset = load_imagenet_mini(path, teacher_model, 'train', transforms_list)\n",
    "\n",
    "train_dataset, val_dataset = random_split(original_dataset, [0.8, 0.2])\n",
    "test_dataset = load_imagenet_mini(path, teacher_model, 'val', [])"
   ]
  },
  {
   "cell_type": "code",
   "execution_count": 6,
   "id": "76b6ce6d",
   "metadata": {
    "execution": {
     "iopub.execute_input": "2025-04-21T06:53:35.479249Z",
     "iopub.status.busy": "2025-04-21T06:53:35.478773Z",
     "iopub.status.idle": "2025-04-21T06:53:35.483184Z",
     "shell.execute_reply": "2025-04-21T06:53:35.482672Z"
    },
    "papermill": {
     "duration": 0.010929,
     "end_time": "2025-04-21T06:53:35.484110",
     "exception": false,
     "start_time": "2025-04-21T06:53:35.473181",
     "status": "completed"
    },
    "tags": []
   },
   "outputs": [],
   "source": [
    "batch_size = 64\n",
    "\n",
    "train_loader = DataLoader(\n",
    "    train_dataset,\n",
    "    batch_size=batch_size,\n",
    "    shuffle=True,\n",
    "    num_workers=4,\n",
    "    pin_memory=True\n",
    ")\n",
    "\n",
    "val_loader = DataLoader(\n",
    "    val_dataset,\n",
    "    batch_size=batch_size,\n",
    "    shuffle=False,\n",
    "    num_workers=4,\n",
    "    pin_memory=True\n",
    ")\n",
    "\n",
    "test_loader = DataLoader(\n",
    "    test_dataset,\n",
    "    batch_size=batch_size,\n",
    "    shuffle=False,\n",
    "    num_workers=4,\n",
    "    pin_memory=True\n",
    ")"
   ]
  },
  {
   "cell_type": "code",
   "execution_count": 7,
   "id": "2868be65",
   "metadata": {
    "execution": {
     "iopub.execute_input": "2025-04-21T06:53:35.494765Z",
     "iopub.status.busy": "2025-04-21T06:53:35.494528Z",
     "iopub.status.idle": "2025-04-21T06:53:35.502245Z",
     "shell.execute_reply": "2025-04-21T06:53:35.501561Z"
    },
    "papermill": {
     "duration": 0.014257,
     "end_time": "2025-04-21T06:53:35.503249",
     "exception": false,
     "start_time": "2025-04-21T06:53:35.488992",
     "status": "completed"
    },
    "tags": []
   },
   "outputs": [],
   "source": [
    "def train_one_epoch(\n",
    "    student_model: nn.Module,\n",
    "    teacher_model: nn.Module,\n",
    "    train_loader: DataLoader,\n",
    "    optimizer: optim.Optimizer,\n",
    "    criterion: nn.Module,\n",
    "    distill_criterion: nn.Module,\n",
    "    alpha: float,\n",
    "    device: str,\n",
    "):\n",
    "    student_model.train()\n",
    "    teacher_model.eval()\n",
    "\n",
    "    loss_accum = 0\n",
    "\n",
    "    for img_batch, targets in tqdm(train_loader, desc='Training model'):\n",
    "        optimizer.zero_grad()\n",
    "\n",
    "        img_batch = img_batch.to(device)\n",
    "        targets = targets.to(device)\n",
    "\n",
    "        student_output = student_model(img_batch)\n",
    "\n",
    "        with torch.no_grad():\n",
    "            teacher_output = teacher_model(img_batch)\n",
    "\n",
    "        loss = alpha * criterion(student_output, targets) + (1 - alpha) * distill_criterion(student_output, teacher_output)\n",
    "        loss.backward()\n",
    "\n",
    "        optimizer.step()\n",
    "\n",
    "        loss_accum += loss.item()\n",
    "\n",
    "    return loss_accum / len(train_loader)\n",
    "\n",
    "\n",
    "def validate_model(\n",
    "    student_model: nn.Module,\n",
    "    teacher_model: nn.Module,\n",
    "    val_loader: DataLoader,\n",
    "    criterion: nn.Module,\n",
    "    distill_criterion: nn.Module,\n",
    "    alpha: float,\n",
    "    device: str,\n",
    "):\n",
    "    predictions = []\n",
    "    ground_truth = []\n",
    "    loss_accum = 0\n",
    "\n",
    "    student_model.eval()\n",
    "    teacher_model.eval()\n",
    "\n",
    "    for img_batch, targets in tqdm(val_loader, desc='Validating model'):\n",
    "        img_batch = img_batch.to(device)\n",
    "        targets = targets.to(device)\n",
    "        \n",
    "        with torch.no_grad():\n",
    "            student_output = student_model(img_batch)\n",
    "            teacher_output = teacher_model(img_batch)\n",
    "            \n",
    "            loss = alpha * criterion(student_output, targets) + (1 - alpha) * distill_criterion(student_output, teacher_output)\n",
    "\n",
    "        loss_accum += loss.item()\n",
    "        \n",
    "        preds = student_output.argmax(dim=1).cpu().numpy()\n",
    "        predictions.extend(preds)\n",
    "        ground_truth.extend(targets.cpu().numpy().tolist())\n",
    "\n",
    "    return loss_accum / len(val_loader), f1_score(ground_truth, predictions, average='macro')"
   ]
  },
  {
   "cell_type": "code",
   "execution_count": 8,
   "id": "ee19d4b5",
   "metadata": {
    "execution": {
     "iopub.execute_input": "2025-04-21T06:53:35.513965Z",
     "iopub.status.busy": "2025-04-21T06:53:35.513554Z",
     "iopub.status.idle": "2025-04-21T06:53:35.517302Z",
     "shell.execute_reply": "2025-04-21T06:53:35.516796Z"
    },
    "papermill": {
     "duration": 0.010009,
     "end_time": "2025-04-21T06:53:35.518234",
     "exception": false,
     "start_time": "2025-04-21T06:53:35.508225",
     "status": "completed"
    },
    "tags": []
   },
   "outputs": [],
   "source": [
    "def distillation_loss(student_logits, teacher_logits, T):\n",
    "    soft_targets = nn.functional.softmax(teacher_logits / T, dim=-1)\n",
    "    soft_prob = nn.functional.log_softmax(student_logits / T, dim=-1)\n",
    "\n",
    "    return torch.sum(soft_targets * (soft_targets.log() - soft_prob)) / soft_prob.size()[0] * (T**2)"
   ]
  },
  {
   "cell_type": "code",
   "execution_count": 9,
   "id": "00f750be",
   "metadata": {
    "execution": {
     "iopub.execute_input": "2025-04-21T06:53:35.528810Z",
     "iopub.status.busy": "2025-04-21T06:53:35.528307Z",
     "iopub.status.idle": "2025-04-21T08:45:28.779423Z",
     "shell.execute_reply": "2025-04-21T08:45:28.778376Z"
    },
    "papermill": {
     "duration": 6713.257881,
     "end_time": "2025-04-21T08:45:28.780972",
     "exception": false,
     "start_time": "2025-04-21T06:53:35.523091",
     "status": "completed"
    },
    "tags": []
   },
   "outputs": [
    {
     "name": "stderr",
     "output_type": "stream",
     "text": [
      "Training model: 100%|██████████| 435/435 [03:48<00:00,  1.91it/s]\n",
      "Validating model: 100%|██████████| 109/109 [00:52<00:00,  2.06it/s]\n"
     ]
    },
    {
     "name": "stdout",
     "output_type": "stream",
     "text": [
      "Epoch #1 Train Loss: 5.39366 Val Loss: 5.31047 F1: 3e-05\n"
     ]
    },
    {
     "name": "stderr",
     "output_type": "stream",
     "text": [
      "Training model: 100%|██████████| 435/435 [03:39<00:00,  1.98it/s]\n",
      "Validating model: 100%|██████████| 109/109 [00:46<00:00,  2.34it/s]\n"
     ]
    },
    {
     "name": "stdout",
     "output_type": "stream",
     "text": [
      "Epoch #2 Train Loss: 5.29791 Val Loss: 5.26198 F1: 6e-05\n"
     ]
    },
    {
     "name": "stderr",
     "output_type": "stream",
     "text": [
      "Training model: 100%|██████████| 435/435 [03:39<00:00,  1.98it/s]\n",
      "Validating model: 100%|██████████| 109/109 [00:46<00:00,  2.32it/s]\n"
     ]
    },
    {
     "name": "stdout",
     "output_type": "stream",
     "text": [
      "Epoch #3 Train Loss: 5.22014 Val Loss: 5.1828 F1: 0.00035\n"
     ]
    },
    {
     "name": "stderr",
     "output_type": "stream",
     "text": [
      "Training model: 100%|██████████| 435/435 [03:40<00:00,  1.97it/s]\n",
      "Validating model: 100%|██████████| 109/109 [00:47<00:00,  2.29it/s]\n"
     ]
    },
    {
     "name": "stdout",
     "output_type": "stream",
     "text": [
      "Epoch #4 Train Loss: 5.12677 Val Loss: 5.07856 F1: 0.00084\n"
     ]
    },
    {
     "name": "stderr",
     "output_type": "stream",
     "text": [
      "Training model: 100%|██████████| 435/435 [03:40<00:00,  1.98it/s]\n",
      "Validating model: 100%|██████████| 109/109 [00:47<00:00,  2.30it/s]\n"
     ]
    },
    {
     "name": "stdout",
     "output_type": "stream",
     "text": [
      "Epoch #5 Train Loss: 5.04272 Val Loss: 5.05012 F1: 0.00124\n"
     ]
    },
    {
     "name": "stderr",
     "output_type": "stream",
     "text": [
      "Training model: 100%|██████████| 435/435 [03:39<00:00,  1.98it/s]\n",
      "Validating model: 100%|██████████| 109/109 [00:46<00:00,  2.33it/s]\n"
     ]
    },
    {
     "name": "stdout",
     "output_type": "stream",
     "text": [
      "Epoch #6 Train Loss: 4.98363 Val Loss: 4.94973 F1: 0.00268\n"
     ]
    },
    {
     "name": "stderr",
     "output_type": "stream",
     "text": [
      "Training model: 100%|██████████| 435/435 [03:40<00:00,  1.98it/s]\n",
      "Validating model: 100%|██████████| 109/109 [00:47<00:00,  2.32it/s]\n"
     ]
    },
    {
     "name": "stdout",
     "output_type": "stream",
     "text": [
      "Epoch #7 Train Loss: 4.92037 Val Loss: 4.92982 F1: 0.0027\n"
     ]
    },
    {
     "name": "stderr",
     "output_type": "stream",
     "text": [
      "Training model: 100%|██████████| 435/435 [03:40<00:00,  1.98it/s]\n",
      "Validating model: 100%|██████████| 109/109 [00:47<00:00,  2.31it/s]\n"
     ]
    },
    {
     "name": "stdout",
     "output_type": "stream",
     "text": [
      "Epoch #8 Train Loss: 4.84192 Val Loss: 4.85249 F1: 0.00543\n"
     ]
    },
    {
     "name": "stderr",
     "output_type": "stream",
     "text": [
      "Training model: 100%|██████████| 435/435 [03:40<00:00,  1.97it/s]\n",
      "Validating model: 100%|██████████| 109/109 [00:49<00:00,  2.22it/s]\n"
     ]
    },
    {
     "name": "stdout",
     "output_type": "stream",
     "text": [
      "Epoch #9 Train Loss: 4.75874 Val Loss: 4.80423 F1: 0.0067\n"
     ]
    },
    {
     "name": "stderr",
     "output_type": "stream",
     "text": [
      "Training model: 100%|██████████| 435/435 [03:40<00:00,  1.98it/s]\n",
      "Validating model: 100%|██████████| 109/109 [00:46<00:00,  2.32it/s]\n"
     ]
    },
    {
     "name": "stdout",
     "output_type": "stream",
     "text": [
      "Epoch #10 Train Loss: 4.70039 Val Loss: 4.7483 F1: 0.00806\n"
     ]
    },
    {
     "name": "stderr",
     "output_type": "stream",
     "text": [
      "Training model: 100%|██████████| 435/435 [03:39<00:00,  1.98it/s]\n",
      "Validating model: 100%|██████████| 109/109 [00:47<00:00,  2.32it/s]\n"
     ]
    },
    {
     "name": "stdout",
     "output_type": "stream",
     "text": [
      "Epoch #11 Train Loss: 4.60952 Val Loss: 4.70739 F1: 0.01115\n"
     ]
    },
    {
     "name": "stderr",
     "output_type": "stream",
     "text": [
      "Training model: 100%|██████████| 435/435 [03:40<00:00,  1.98it/s]\n",
      "Validating model: 100%|██████████| 109/109 [00:48<00:00,  2.25it/s]\n"
     ]
    },
    {
     "name": "stdout",
     "output_type": "stream",
     "text": [
      "Epoch #12 Train Loss: 4.53295 Val Loss: 4.62155 F1: 0.01513\n"
     ]
    },
    {
     "name": "stderr",
     "output_type": "stream",
     "text": [
      "Training model: 100%|██████████| 435/435 [03:40<00:00,  1.97it/s]\n",
      "Validating model: 100%|██████████| 109/109 [00:47<00:00,  2.28it/s]\n"
     ]
    },
    {
     "name": "stdout",
     "output_type": "stream",
     "text": [
      "Epoch #13 Train Loss: 4.45792 Val Loss: 4.56707 F1: 0.01826\n"
     ]
    },
    {
     "name": "stderr",
     "output_type": "stream",
     "text": [
      "Training model: 100%|██████████| 435/435 [03:40<00:00,  1.98it/s]\n",
      "Validating model: 100%|██████████| 109/109 [00:47<00:00,  2.29it/s]\n"
     ]
    },
    {
     "name": "stdout",
     "output_type": "stream",
     "text": [
      "Epoch #14 Train Loss: 4.38696 Val Loss: 4.50804 F1: 0.02124\n"
     ]
    },
    {
     "name": "stderr",
     "output_type": "stream",
     "text": [
      "Training model: 100%|██████████| 435/435 [03:39<00:00,  1.98it/s]\n",
      "Validating model: 100%|██████████| 109/109 [00:47<00:00,  2.30it/s]\n"
     ]
    },
    {
     "name": "stdout",
     "output_type": "stream",
     "text": [
      "Epoch #15 Train Loss: 4.3688 Val Loss: 4.50769 F1: 0.02892\n"
     ]
    },
    {
     "name": "stderr",
     "output_type": "stream",
     "text": [
      "Training model: 100%|██████████| 435/435 [03:40<00:00,  1.98it/s]\n",
      "Validating model: 100%|██████████| 109/109 [00:47<00:00,  2.31it/s]\n"
     ]
    },
    {
     "name": "stdout",
     "output_type": "stream",
     "text": [
      "Epoch #16 Train Loss: 4.28188 Val Loss: 4.46019 F1: 0.02773\n"
     ]
    },
    {
     "name": "stderr",
     "output_type": "stream",
     "text": [
      "Training model: 100%|██████████| 435/435 [03:40<00:00,  1.98it/s]\n",
      "Validating model: 100%|██████████| 109/109 [00:48<00:00,  2.26it/s]\n"
     ]
    },
    {
     "name": "stdout",
     "output_type": "stream",
     "text": [
      "Epoch #17 Train Loss: 4.21237 Val Loss: 4.44189 F1: 0.03377\n"
     ]
    },
    {
     "name": "stderr",
     "output_type": "stream",
     "text": [
      "Training model: 100%|██████████| 435/435 [03:39<00:00,  1.98it/s]\n",
      "Validating model: 100%|██████████| 109/109 [00:47<00:00,  2.27it/s]\n"
     ]
    },
    {
     "name": "stdout",
     "output_type": "stream",
     "text": [
      "Epoch #18 Train Loss: 4.15069 Val Loss: 4.41227 F1: 0.03134\n"
     ]
    },
    {
     "name": "stderr",
     "output_type": "stream",
     "text": [
      "Training model: 100%|██████████| 435/435 [03:40<00:00,  1.98it/s]\n",
      "Validating model: 100%|██████████| 109/109 [00:47<00:00,  2.29it/s]\n"
     ]
    },
    {
     "name": "stdout",
     "output_type": "stream",
     "text": [
      "Epoch #19 Train Loss: 4.12558 Val Loss: 5.08351 F1: 0.00728\n"
     ]
    },
    {
     "name": "stderr",
     "output_type": "stream",
     "text": [
      "Training model: 100%|██████████| 435/435 [03:40<00:00,  1.97it/s]\n",
      "Validating model: 100%|██████████| 109/109 [00:48<00:00,  2.25it/s]\n"
     ]
    },
    {
     "name": "stdout",
     "output_type": "stream",
     "text": [
      "Epoch #20 Train Loss: 4.3122 Val Loss: 4.41818 F1: 0.03423\n"
     ]
    },
    {
     "name": "stderr",
     "output_type": "stream",
     "text": [
      "Training model: 100%|██████████| 435/435 [03:40<00:00,  1.97it/s]\n",
      "Validating model: 100%|██████████| 109/109 [00:49<00:00,  2.21it/s]\n"
     ]
    },
    {
     "name": "stdout",
     "output_type": "stream",
     "text": [
      "Epoch #21 Train Loss: 4.13712 Val Loss: 4.42311 F1: 0.04167\n"
     ]
    },
    {
     "name": "stderr",
     "output_type": "stream",
     "text": [
      "Training model: 100%|██████████| 435/435 [03:40<00:00,  1.97it/s]\n",
      "Validating model: 100%|██████████| 109/109 [00:49<00:00,  2.21it/s]\n"
     ]
    },
    {
     "name": "stdout",
     "output_type": "stream",
     "text": [
      "Epoch #22 Train Loss: 4.01367 Val Loss: 4.35647 F1: 0.04664\n"
     ]
    },
    {
     "name": "stderr",
     "output_type": "stream",
     "text": [
      "Training model: 100%|██████████| 435/435 [03:40<00:00,  1.98it/s]\n",
      "Validating model: 100%|██████████| 109/109 [00:47<00:00,  2.29it/s]\n"
     ]
    },
    {
     "name": "stdout",
     "output_type": "stream",
     "text": [
      "Epoch #23 Train Loss: 3.93953 Val Loss: 4.32902 F1: 0.04634\n"
     ]
    },
    {
     "name": "stderr",
     "output_type": "stream",
     "text": [
      "Training model: 100%|██████████| 435/435 [03:40<00:00,  1.98it/s]\n",
      "Validating model: 100%|██████████| 109/109 [00:47<00:00,  2.29it/s]\n"
     ]
    },
    {
     "name": "stdout",
     "output_type": "stream",
     "text": [
      "Epoch #24 Train Loss: 3.87795 Val Loss: 4.28042 F1: 0.05551\n"
     ]
    },
    {
     "name": "stderr",
     "output_type": "stream",
     "text": [
      "Training model: 100%|██████████| 435/435 [03:40<00:00,  1.97it/s]\n",
      "Validating model: 100%|██████████| 109/109 [00:48<00:00,  2.26it/s]"
     ]
    },
    {
     "name": "stdout",
     "output_type": "stream",
     "text": [
      "Epoch #25 Train Loss: 3.81884 Val Loss: 4.26605 F1: 0.05509\n"
     ]
    },
    {
     "name": "stderr",
     "output_type": "stream",
     "text": [
      "\n"
     ]
    }
   ],
   "source": [
    "epoch_num = 25\n",
    "learning_rate = 1e-3\n",
    "alpha = 0.5\n",
    "distill_temp = 2\n",
    "device = 'cuda' if torch.cuda.is_available() else 'cpu'\n",
    "\n",
    "optimizer = optim.AdamW(student_model.parameters(), lr=learning_rate, weight_decay=0.05)\n",
    "class_loss = nn.CrossEntropyLoss()\n",
    "distill_loss = lambda x, y: distillation_loss(x, y, distill_temp)\n",
    "best_score = 0\n",
    "\n",
    "student_model.to(device)\n",
    "teacher_model.to(device)\n",
    "\n",
    "for epoch_ind in range(1, epoch_num + 1):\n",
    "    train_loss = train_one_epoch(student_model, teacher_model, train_loader, optimizer, class_loss, distill_loss, alpha, device)\n",
    "    val_loss, f1_score_val = validate_model(student_model, teacher_model, val_loader, class_loss, distill_loss, alpha, device)\n",
    "\n",
    "    print(f'Epoch #{epoch_ind} Train Loss: {round(train_loss, 5)} Val Loss: {round(val_loss, 5)} F1: {round(f1_score_val, 5)}')\n",
    "\n",
    "    if f1_score_val > best_score:\n",
    "        best_score = f1_score_val\n",
    "        torch.save(student_model.state_dict(), 'best_model.pt')"
   ]
  },
  {
   "cell_type": "markdown",
   "id": "33e59ebf",
   "metadata": {
    "papermill": {
     "duration": 0.614891,
     "end_time": "2025-04-21T08:45:29.956875",
     "exception": false,
     "start_time": "2025-04-21T08:45:29.341984",
     "status": "completed"
    },
    "tags": []
   },
   "source": [
    "## Compare models"
   ]
  },
  {
   "cell_type": "code",
   "execution_count": 10,
   "id": "382400ab",
   "metadata": {
    "execution": {
     "iopub.execute_input": "2025-04-21T08:45:31.132817Z",
     "iopub.status.busy": "2025-04-21T08:45:31.132054Z",
     "iopub.status.idle": "2025-04-21T08:45:37.861886Z",
     "shell.execute_reply": "2025-04-21T08:45:37.861098Z"
    },
    "papermill": {
     "duration": 7.349043,
     "end_time": "2025-04-21T08:45:37.863365",
     "exception": false,
     "start_time": "2025-04-21T08:45:30.514322",
     "status": "completed"
    },
    "tags": []
   },
   "outputs": [
    {
     "name": "stdout",
     "output_type": "stream",
     "text": [
      "Collecting gputil\r\n",
      "  Downloading GPUtil-1.4.0.tar.gz (5.5 kB)\r\n",
      "  Preparing metadata (setup.py) ... \u001b[?25l\u001b[?25hdone\r\n",
      "Building wheels for collected packages: gputil\r\n",
      "  Building wheel for gputil (setup.py) ... \u001b[?25l\u001b[?25hdone\r\n",
      "  Created wheel for gputil: filename=GPUtil-1.4.0-py3-none-any.whl size=7392 sha256=721c903f411efd0394e208374c89e7c9dc5f0c94e20e8f6c14891dc4d99995e5\r\n",
      "  Stored in directory: /root/.cache/pip/wheels/2b/4d/8f/55fb4f7b9b591891e8d3f72977c4ec6c7763b39c19f0861595\r\n",
      "Successfully built gputil\r\n",
      "Installing collected packages: gputil\r\n",
      "Successfully installed gputil-1.4.0\r\n"
     ]
    }
   ],
   "source": [
    "!pip install gputil"
   ]
  },
  {
   "cell_type": "code",
   "execution_count": 11,
   "id": "0d66917c",
   "metadata": {
    "execution": {
     "iopub.execute_input": "2025-04-21T08:45:38.963904Z",
     "iopub.status.busy": "2025-04-21T08:45:38.963600Z",
     "iopub.status.idle": "2025-04-21T08:45:38.986073Z",
     "shell.execute_reply": "2025-04-21T08:45:38.985294Z"
    },
    "papermill": {
     "duration": 0.574631,
     "end_time": "2025-04-21T08:45:38.987375",
     "exception": false,
     "start_time": "2025-04-21T08:45:38.412744",
     "status": "completed"
    },
    "tags": []
   },
   "outputs": [],
   "source": [
    "import torch\n",
    "import time\n",
    "import timm\n",
    "import psutil\n",
    "import os\n",
    "import GPUtil\n",
    "import numpy as np\n",
    "from torch.amp import autocast\n",
    "from torchvision import datasets, transforms\n",
    "from timm.data import resolve_data_config\n",
    "from timm.data.transforms_factory import create_transform\n",
    "from sklearn.metrics import precision_score, recall_score, f1_score\n",
    "\n",
    "def print_memory_usage(label=\"\"):\n",
    "    \"\"\"Выводит использование памяти в мегабайтах\"\"\"\n",
    "    if label:\n",
    "        print(f\"\\n--- Memory Usage ({label}) ---\")\n",
    "    else:\n",
    "        print(\"\\n--- Memory Usage ---\")\n",
    "        \n",
    "    # CPU RAM в MB\n",
    "    process = psutil.Process(os.getpid())\n",
    "    ram_used = process.memory_info().rss / (1024 ** 2)\n",
    "    print(f\"CPU RAM used: {ram_used:.2f} MB\")\n",
    "    \n",
    "    # GPU VRAM в MB\n",
    "    gpus = GPUtil.getGPUs()\n",
    "    for gpu in gpus:\n",
    "        vram_used = gpu.memoryUsed\n",
    "        vram_total = gpu.memoryTotal\n",
    "        print(f\"GPU {gpu.id} VRAM: {vram_used:.2f} MB / {vram_total:.2f} MB\")\n",
    "\n",
    "def get_model_size(model):\n",
    "    param_size = 0\n",
    "    for param in model.parameters():\n",
    "        param_size += param.nelement() * param.element_size()\n",
    "    buffer_size = 0\n",
    "    for buffer in model.buffers():\n",
    "        buffer_size += buffer.nelement() * buffer.element_size()\n",
    "    return (param_size + buffer_size) / 1024**2\n",
    "\n",
    "def calculate_metrics(model, device, data_loader):\n",
    "    model.eval()\n",
    "    all_preds = []\n",
    "    all_targets = []\n",
    "\n",
    "    model.to(device)\n",
    "    with torch.no_grad():\n",
    "        for images, targets in data_loader:\n",
    "            images = images.to(device)\n",
    "            outputs = model(images)\n",
    "            preds = outputs.argmax(dim=1).cpu().numpy()\n",
    "            \n",
    "            all_preds.extend(preds)\n",
    "            all_targets.extend(targets.numpy())\n",
    "    \n",
    "    precision = precision_score(all_targets, all_preds, average='macro')\n",
    "    recall = recall_score(all_targets, all_preds, average='macro')\n",
    "    f1 = f1_score(all_targets, all_preds, average='macro')\n",
    "    \n",
    "    return precision, recall, f1\n",
    "\n",
    "def load_imagenet_mini(dataset_path, model):\n",
    "    # Создаем трансформы на основе модели\n",
    "    config = resolve_data_config({}, model=model)\n",
    "    transform = create_transform(**config)\n",
    "    \n",
    "    # Загружаем датасет\n",
    "    dataset = datasets.ImageFolder(\n",
    "        root=os.path.join(dataset_path, 'val'),\n",
    "        transform=transform\n",
    "    )\n",
    "    \n",
    "    data_loader = torch.utils.data.DataLoader(\n",
    "        dataset,\n",
    "        batch_size=64,\n",
    "        shuffle=False,\n",
    "        num_workers=4,\n",
    "        pin_memory=True\n",
    "    )\n",
    "    \n",
    "    return data_loader\n",
    "\n",
    "def benchmark_model(model, device, input_tensor, num_runs=10, warmup=3, use_amp=False):\n",
    "    model = model.to(device)\n",
    "    input_tensor = input_tensor.to(device)\n",
    "    \n",
    "    # Warmup\n",
    "    print(f\"\\n🔥 Warming up ({warmup} runs) on {device}...\")\n",
    "    for _ in range(warmup):\n",
    "        with torch.no_grad():\n",
    "            if use_amp and device.type == 'cuda':\n",
    "                with autocast(device_type='cuda', dtype=torch.float16):\n",
    "                    _ = model(input_tensor)\n",
    "            else:\n",
    "                _ = model(input_tensor)\n",
    "    \n",
    "    # Benchmark\n",
    "    print(f\"🚀 Benchmarking ({num_runs} runs) on {device}...\")\n",
    "    start_time = time.time()\n",
    "    \n",
    "    for _ in range(num_runs):\n",
    "        with torch.no_grad():\n",
    "            if use_amp and device.type == 'cuda':\n",
    "                with autocast(device_type='cuda', dtype=torch.float16):\n",
    "                    _ = model(input_tensor)\n",
    "            else:\n",
    "                _ = model(input_tensor)\n",
    "    \n",
    "    total_time = (time.time() - start_time) * 1000\n",
    "    avg_time = total_time / num_runs\n",
    "    print(f\"✅ Average inference: {avg_time:.2f} ms\")\n",
    "    print(f\"📊 Total time: {total_time:.2f} ms | FPS: {1000/(avg_time + 1e-9):.1f}\")\n",
    "    \n",
    "    return avg_time\n",
    "\n",
    "def main(model, dataset_path=None):\n",
    "    device_cpu = torch.device('cpu')\n",
    "    device_gpu = torch.device('cuda' if torch.cuda.is_available() else 'cpu')\n",
    "    \n",
    "    print(\"\\n🔍 Initial memory state:\")\n",
    "    print_memory_usage(\"Before loading model\")\n",
    "    model.eval()\n",
    "    print(f\"📏 Model size: {get_model_size(model):.2f} MB\")\n",
    "\n",
    "    print(\"\\n🔍 Initial memory state:\")\n",
    "    print_memory_usage(\"Model loaded\")\n",
    "    \n",
    "    # Бенчмарки\n",
    "    input_tensor = torch.randn(1, 3, 224, 224)\n",
    "    \n",
    "    print(\"\\n🧪 Benchmarking on CPU:\")\n",
    "    cpu_time = benchmark_model(model, device_cpu, input_tensor)\n",
    "    print_memory_usage(\"After CPU benchmark\")\n",
    "    \n",
    "    if torch.cuda.is_available():\n",
    "        print(\"\\n🎮 Benchmarking on GPU:\")\n",
    "        gpu_time = benchmark_model(model, device_gpu, input_tensor)\n",
    "        print_memory_usage(\"After GPU test\")\n",
    "        \n",
    "        print(\"\\n⚡ Benchmarking with AMP:\")\n",
    "        gpu_amp_time = benchmark_model(model, device_gpu, input_tensor, use_amp=True)\n",
    "        print_memory_usage(\"After AMP test\")\n",
    "        \n",
    "        print(\"\\n📈 Results Summary:\")\n",
    "        print(f\"| Device | Inference Time (ms) | Speedup vs CPU |\")\n",
    "        print(\"|--------|---------------------|----------------|\")\n",
    "        print(f\"| CPU    | {cpu_time:19.2f} | {'—':^15} |\")\n",
    "        print(f\"| GPU    | {gpu_time:19.2f} | {cpu_time/gpu_time:^15.1f}x |\")\n",
    "        print(f\"| AMP    | {gpu_amp_time:19.2f} | {cpu_time/gpu_amp_time:^15.1f}x |\")\n",
    "    else:\n",
    "        print(\"\\n❌ CUDA not available\")\n",
    "        print(f\"⏱️ CPU inference time: {cpu_time:.2f} ms\")\n",
    "        if dataset_path:\n",
    "            print(\"\\n🎯 Quality Metrics (CPU):\")\n",
    "            print(f\"Precision: {precision_cpu:.4f}\")\n",
    "            print(f\"Recall:    {recall_cpu:.a4f}\")\n",
    "            print(f\"F1-Score:  {f1_cpu:.4f}\")\n",
    "\n",
    "    # Загрузка и расчет метрик качества\n",
    "    if dataset_path:\n",
    "        print(\"\\n📊 Loading ImageNetMini dataset...\")\n",
    "        data_loader = load_imagenet_mini(dataset_path, model)\n",
    "        \n",
    "        # print(\"\\n🧮 Calculating metrics on CPU:\")\n",
    "        # precision_cpu, recall_cpu, f1_cpu = calculate_metrics(model, device_cpu, data_loader)\n",
    "        \n",
    "        if torch.cuda.is_available():\n",
    "            print(\"\\n🧮 Calculating metrics on GPU:\")\n",
    "            precision_gpu, recall_gpu, f1_gpu = calculate_metrics(model, device_gpu, data_loader)\n",
    "\n",
    "            print(\"\\n🎯 Quality Metrics Summary:\")\n",
    "            print(\"| Device | Precision | Recall  | F1-Score |\")\n",
    "            print(\"|--------|-----------|---------|----------|\")\n",
    "            # print(f\"| CPU    | {precision_cpu:.4f}  | {recall_cpu:.4f} | {f1_cpu:.4f}  |\")\n",
    "            print(f\"| GPU    | {precision_gpu:.4f}  | {recall_gpu:.4f} | {f1_gpu:.4f}  |\")"
   ]
  },
  {
   "cell_type": "code",
   "execution_count": 12,
   "id": "dbfbb7d1",
   "metadata": {
    "execution": {
     "iopub.execute_input": "2025-04-21T08:45:40.170720Z",
     "iopub.status.busy": "2025-04-21T08:45:40.169990Z",
     "iopub.status.idle": "2025-04-21T08:45:40.625601Z",
     "shell.execute_reply": "2025-04-21T08:45:40.624800Z"
    },
    "papermill": {
     "duration": 1.004284,
     "end_time": "2025-04-21T08:45:40.627184",
     "exception": false,
     "start_time": "2025-04-21T08:45:39.622900",
     "status": "completed"
    },
    "tags": []
   },
   "outputs": [
    {
     "data": {
      "application/vnd.jupyter.widget-view+json": {
       "model_id": "55e05cce07db4568946e1b3556fd9c4c",
       "version_major": 2,
       "version_minor": 0
      },
      "text/plain": [
       "model.safetensors:   0%|          | 0.00/36.5M [00:00<?, ?B/s]"
      ]
     },
     "metadata": {},
     "output_type": "display_data"
    }
   ],
   "source": [
    "base_model = timm.create_model('efficientvit_b1.r256_in1k', pretrained=True)"
   ]
  },
  {
   "cell_type": "code",
   "execution_count": 13,
   "id": "645cdef9",
   "metadata": {
    "execution": {
     "iopub.execute_input": "2025-04-21T08:45:41.806012Z",
     "iopub.status.busy": "2025-04-21T08:45:41.805310Z",
     "iopub.status.idle": "2025-04-21T08:46:04.865651Z",
     "shell.execute_reply": "2025-04-21T08:46:04.864564Z"
    },
    "papermill": {
     "duration": 23.607421,
     "end_time": "2025-04-21T08:46:04.866920",
     "exception": false,
     "start_time": "2025-04-21T08:45:41.259499",
     "status": "completed"
    },
    "tags": []
   },
   "outputs": [
    {
     "name": "stdout",
     "output_type": "stream",
     "text": [
      "\n",
      "🔍 Initial memory state:\n",
      "\n",
      "--- Memory Usage (Before loading model) ---\n",
      "CPU RAM used: 1925.69 MB\n",
      "GPU 0 VRAM: 7747.00 MB / 16384.00 MB\n",
      "📏 Model size: 34.77 MB\n",
      "\n",
      "🔍 Initial memory state:\n",
      "\n",
      "--- Memory Usage (Model loaded) ---\n",
      "CPU RAM used: 1925.69 MB\n",
      "GPU 0 VRAM: 7747.00 MB / 16384.00 MB\n",
      "\n",
      "🧪 Benchmarking on CPU:\n",
      "\n",
      "🔥 Warming up (3 runs) on cpu...\n",
      "🚀 Benchmarking (10 runs) on cpu...\n",
      "✅ Average inference: 32.09 ms\n",
      "📊 Total time: 320.94 ms | FPS: 31.2\n",
      "\n",
      "--- Memory Usage (After CPU benchmark) ---\n",
      "CPU RAM used: 1934.82 MB\n",
      "GPU 0 VRAM: 7747.00 MB / 16384.00 MB\n",
      "\n",
      "🎮 Benchmarking on GPU:\n",
      "\n",
      "🔥 Warming up (3 runs) on cuda...\n",
      "🚀 Benchmarking (10 runs) on cuda...\n",
      "✅ Average inference: 11.35 ms\n",
      "📊 Total time: 113.53 ms | FPS: 88.1\n",
      "\n",
      "--- Memory Usage (After GPU test) ---\n",
      "CPU RAM used: 1935.82 MB\n",
      "GPU 0 VRAM: 7753.00 MB / 16384.00 MB\n",
      "\n",
      "⚡ Benchmarking with AMP:\n",
      "\n",
      "🔥 Warming up (3 runs) on cuda...\n",
      "🚀 Benchmarking (10 runs) on cuda...\n",
      "✅ Average inference: 13.95 ms\n",
      "📊 Total time: 139.51 ms | FPS: 71.7\n",
      "\n",
      "--- Memory Usage (After AMP test) ---\n",
      "CPU RAM used: 1940.57 MB\n",
      "GPU 0 VRAM: 7759.00 MB / 16384.00 MB\n",
      "\n",
      "📈 Results Summary:\n",
      "| Device | Inference Time (ms) | Speedup vs CPU |\n",
      "|--------|---------------------|----------------|\n",
      "| CPU    |               32.09 |        —        |\n",
      "| GPU    |               11.35 |       2.8      x |\n",
      "| AMP    |               13.95 |       2.3      x |\n",
      "\n",
      "📊 Loading ImageNetMini dataset...\n",
      "\n",
      "🧮 Calculating metrics on GPU:\n",
      "\n",
      "🎯 Quality Metrics Summary:\n",
      "| Device | Precision | Recall  | F1-Score |\n",
      "|--------|-----------|---------|----------|\n",
      "| GPU    | 0.8150  | 0.7993 | 0.7874  |\n"
     ]
    },
    {
     "name": "stderr",
     "output_type": "stream",
     "text": [
      "/usr/local/lib/python3.11/dist-packages/sklearn/metrics/_classification.py:1344: UndefinedMetricWarning: Precision is ill-defined and being set to 0.0 in labels with no predicted samples. Use `zero_division` parameter to control this behavior.\n",
      "  _warn_prf(average, modifier, msg_start, len(result))\n"
     ]
    }
   ],
   "source": [
    "main(base_model, path)"
   ]
  },
  {
   "cell_type": "code",
   "execution_count": 14,
   "id": "25f05c18",
   "metadata": {
    "execution": {
     "iopub.execute_input": "2025-04-21T08:46:06.064700Z",
     "iopub.status.busy": "2025-04-21T08:46:06.063891Z",
     "iopub.status.idle": "2025-04-21T08:46:06.377989Z",
     "shell.execute_reply": "2025-04-21T08:46:06.377304Z"
    },
    "papermill": {
     "duration": 0.864903,
     "end_time": "2025-04-21T08:46:06.379085",
     "exception": false,
     "start_time": "2025-04-21T08:46:05.514182",
     "status": "completed"
    },
    "tags": []
   },
   "outputs": [
    {
     "data": {
      "text/plain": [
       "<All keys matched successfully>"
      ]
     },
     "execution_count": 14,
     "metadata": {},
     "output_type": "execute_result"
    }
   ],
   "source": [
    "trained_model = timm.create_model('efficientvit_b1.r256_in1k', pretrained=True)\n",
    "trained_model.load_state_dict(torch.load('best_model.pt', weights_only=True))"
   ]
  },
  {
   "cell_type": "code",
   "execution_count": 15,
   "id": "c6e9deea",
   "metadata": {
    "execution": {
     "iopub.execute_input": "2025-04-21T08:46:07.562282Z",
     "iopub.status.busy": "2025-04-21T08:46:07.561722Z",
     "iopub.status.idle": "2025-04-21T08:46:23.927970Z",
     "shell.execute_reply": "2025-04-21T08:46:23.927033Z"
    },
    "papermill": {
     "duration": 16.914934,
     "end_time": "2025-04-21T08:46:23.929336",
     "exception": false,
     "start_time": "2025-04-21T08:46:07.014402",
     "status": "completed"
    },
    "tags": []
   },
   "outputs": [
    {
     "name": "stdout",
     "output_type": "stream",
     "text": [
      "\n",
      "🔍 Initial memory state:\n",
      "\n",
      "--- Memory Usage (Before loading model) ---\n",
      "CPU RAM used: 1953.30 MB\n",
      "GPU 0 VRAM: 7765.00 MB / 16384.00 MB\n",
      "📏 Model size: 34.77 MB\n",
      "\n",
      "🔍 Initial memory state:\n",
      "\n",
      "--- Memory Usage (Model loaded) ---\n",
      "CPU RAM used: 1953.30 MB\n",
      "GPU 0 VRAM: 7765.00 MB / 16384.00 MB\n",
      "\n",
      "🧪 Benchmarking on CPU:\n",
      "\n",
      "🔥 Warming up (3 runs) on cpu...\n",
      "🚀 Benchmarking (10 runs) on cpu...\n",
      "✅ Average inference: 32.71 ms\n",
      "📊 Total time: 327.14 ms | FPS: 30.6\n",
      "\n",
      "--- Memory Usage (After CPU benchmark) ---\n",
      "CPU RAM used: 1953.30 MB\n",
      "GPU 0 VRAM: 7765.00 MB / 16384.00 MB\n",
      "\n",
      "🎮 Benchmarking on GPU:\n",
      "\n",
      "🔥 Warming up (3 runs) on cuda...\n",
      "🚀 Benchmarking (10 runs) on cuda...\n",
      "✅ Average inference: 10.86 ms\n",
      "📊 Total time: 108.61 ms | FPS: 92.1\n",
      "\n",
      "--- Memory Usage (After GPU test) ---\n",
      "CPU RAM used: 1953.30 MB\n",
      "GPU 0 VRAM: 7769.00 MB / 16384.00 MB\n",
      "\n",
      "⚡ Benchmarking with AMP:\n",
      "\n",
      "🔥 Warming up (3 runs) on cuda...\n",
      "🚀 Benchmarking (10 runs) on cuda...\n",
      "✅ Average inference: 13.69 ms\n",
      "📊 Total time: 136.86 ms | FPS: 73.1\n",
      "\n",
      "--- Memory Usage (After AMP test) ---\n",
      "CPU RAM used: 1953.30 MB\n",
      "GPU 0 VRAM: 7777.00 MB / 16384.00 MB\n",
      "\n",
      "📈 Results Summary:\n",
      "| Device | Inference Time (ms) | Speedup vs CPU |\n",
      "|--------|---------------------|----------------|\n",
      "| CPU    |               32.71 |        —        |\n",
      "| GPU    |               10.86 |       3.0      x |\n",
      "| AMP    |               13.69 |       2.4      x |\n",
      "\n",
      "📊 Loading ImageNetMini dataset...\n",
      "\n",
      "🧮 Calculating metrics on GPU:\n",
      "\n",
      "🎯 Quality Metrics Summary:\n",
      "| Device | Precision | Recall  | F1-Score |\n",
      "|--------|-----------|---------|----------|\n",
      "| GPU    | 0.0581  | 0.0800 | 0.0557  |\n"
     ]
    },
    {
     "name": "stderr",
     "output_type": "stream",
     "text": [
      "/usr/local/lib/python3.11/dist-packages/sklearn/metrics/_classification.py:1344: UndefinedMetricWarning: Precision is ill-defined and being set to 0.0 in labels with no predicted samples. Use `zero_division` parameter to control this behavior.\n",
      "  _warn_prf(average, modifier, msg_start, len(result))\n"
     ]
    }
   ],
   "source": [
    "main(trained_model, path)"
   ]
  }
 ],
 "metadata": {
  "kaggle": {
   "accelerator": "gpu",
   "dataSources": [
    {
     "datasetId": 547506,
     "sourceId": 998277,
     "sourceType": "datasetVersion"
    }
   ],
   "dockerImageVersionId": 31012,
   "isGpuEnabled": true,
   "isInternetEnabled": true,
   "language": "python",
   "sourceType": "notebook"
  },
  "kernelspec": {
   "display_name": "Python 3",
   "language": "python",
   "name": "python3"
  },
  "language_info": {
   "codemirror_mode": {
    "name": "ipython",
    "version": 3
   },
   "file_extension": ".py",
   "mimetype": "text/x-python",
   "name": "python",
   "nbconvert_exporter": "python",
   "pygments_lexer": "ipython3",
   "version": "3.11.11"
  },
  "papermill": {
   "default_parameters": {},
   "duration": 6890.607107,
   "end_time": "2025-04-21T08:46:27.895361",
   "environment_variables": {},
   "exception": null,
   "input_path": "__notebook__.ipynb",
   "output_path": "__notebook__.ipynb",
   "parameters": {},
   "start_time": "2025-04-21T06:51:37.288254",
   "version": "2.6.0"
  },
  "widgets": {
   "application/vnd.jupyter.widget-state+json": {
    "state": {
     "18de9c52c85e4f1bae473004356b8984": {
      "model_module": "@jupyter-widgets/controls",
      "model_module_version": "2.0.0",
      "model_name": "HTMLStyleModel",
      "state": {
       "_model_module": "@jupyter-widgets/controls",
       "_model_module_version": "2.0.0",
       "_model_name": "HTMLStyleModel",
       "_view_count": null,
       "_view_module": "@jupyter-widgets/base",
       "_view_module_version": "2.0.0",
       "_view_name": "StyleView",
       "background": null,
       "description_width": "",
       "font_size": null,
       "text_color": null
      }
     },
     "1c954deb1d1f4957b2324131ac4ca586": {
      "model_module": "@jupyter-widgets/base",
      "model_module_version": "2.0.0",
      "model_name": "LayoutModel",
      "state": {
       "_model_module": "@jupyter-widgets/base",
       "_model_module_version": "2.0.0",
       "_model_name": "LayoutModel",
       "_view_count": null,
       "_view_module": "@jupyter-widgets/base",
       "_view_module_version": "2.0.0",
       "_view_name": "LayoutView",
       "align_content": null,
       "align_items": null,
       "align_self": null,
       "border_bottom": null,
       "border_left": null,
       "border_right": null,
       "border_top": null,
       "bottom": null,
       "display": null,
       "flex": null,
       "flex_flow": null,
       "grid_area": null,
       "grid_auto_columns": null,
       "grid_auto_flow": null,
       "grid_auto_rows": null,
       "grid_column": null,
       "grid_gap": null,
       "grid_row": null,
       "grid_template_areas": null,
       "grid_template_columns": null,
       "grid_template_rows": null,
       "height": null,
       "justify_content": null,
       "justify_items": null,
       "left": null,
       "margin": null,
       "max_height": null,
       "max_width": null,
       "min_height": null,
       "min_width": null,
       "object_fit": null,
       "object_position": null,
       "order": null,
       "overflow": null,
       "padding": null,
       "right": null,
       "top": null,
       "visibility": null,
       "width": null
      }
     },
     "1eccb2f510374be4bc118f4f0ecfb30a": {
      "model_module": "@jupyter-widgets/controls",
      "model_module_version": "2.0.0",
      "model_name": "HBoxModel",
      "state": {
       "_dom_classes": [],
       "_model_module": "@jupyter-widgets/controls",
       "_model_module_version": "2.0.0",
       "_model_name": "HBoxModel",
       "_view_count": null,
       "_view_module": "@jupyter-widgets/controls",
       "_view_module_version": "2.0.0",
       "_view_name": "HBoxView",
       "box_style": "",
       "children": [
        "IPY_MODEL_d3d14cd0f5cb442ab9028fba6a74e5d3",
        "IPY_MODEL_ae60464f30e24b8a97e8e4bd02795819",
        "IPY_MODEL_f0892635fae744809ba3334a30b16a41"
       ],
       "layout": "IPY_MODEL_6834a61dd6ca42348d63f867d673345c",
       "tabbable": null,
       "tooltip": null
      }
     },
     "39e5e7799d8443a281ea89e4465b8934": {
      "model_module": "@jupyter-widgets/base",
      "model_module_version": "2.0.0",
      "model_name": "LayoutModel",
      "state": {
       "_model_module": "@jupyter-widgets/base",
       "_model_module_version": "2.0.0",
       "_model_name": "LayoutModel",
       "_view_count": null,
       "_view_module": "@jupyter-widgets/base",
       "_view_module_version": "2.0.0",
       "_view_name": "LayoutView",
       "align_content": null,
       "align_items": null,
       "align_self": null,
       "border_bottom": null,
       "border_left": null,
       "border_right": null,
       "border_top": null,
       "bottom": null,
       "display": null,
       "flex": null,
       "flex_flow": null,
       "grid_area": null,
       "grid_auto_columns": null,
       "grid_auto_flow": null,
       "grid_auto_rows": null,
       "grid_column": null,
       "grid_gap": null,
       "grid_row": null,
       "grid_template_areas": null,
       "grid_template_columns": null,
       "grid_template_rows": null,
       "height": null,
       "justify_content": null,
       "justify_items": null,
       "left": null,
       "margin": null,
       "max_height": null,
       "max_width": null,
       "min_height": null,
       "min_width": null,
       "object_fit": null,
       "object_position": null,
       "order": null,
       "overflow": null,
       "padding": null,
       "right": null,
       "top": null,
       "visibility": null,
       "width": null
      }
     },
     "3d36c933cb1842b28dc8b51a819488da": {
      "model_module": "@jupyter-widgets/base",
      "model_module_version": "2.0.0",
      "model_name": "LayoutModel",
      "state": {
       "_model_module": "@jupyter-widgets/base",
       "_model_module_version": "2.0.0",
       "_model_name": "LayoutModel",
       "_view_count": null,
       "_view_module": "@jupyter-widgets/base",
       "_view_module_version": "2.0.0",
       "_view_name": "LayoutView",
       "align_content": null,
       "align_items": null,
       "align_self": null,
       "border_bottom": null,
       "border_left": null,
       "border_right": null,
       "border_top": null,
       "bottom": null,
       "display": null,
       "flex": null,
       "flex_flow": null,
       "grid_area": null,
       "grid_auto_columns": null,
       "grid_auto_flow": null,
       "grid_auto_rows": null,
       "grid_column": null,
       "grid_gap": null,
       "grid_row": null,
       "grid_template_areas": null,
       "grid_template_columns": null,
       "grid_template_rows": null,
       "height": null,
       "justify_content": null,
       "justify_items": null,
       "left": null,
       "margin": null,
       "max_height": null,
       "max_width": null,
       "min_height": null,
       "min_width": null,
       "object_fit": null,
       "object_position": null,
       "order": null,
       "overflow": null,
       "padding": null,
       "right": null,
       "top": null,
       "visibility": null,
       "width": null
      }
     },
     "3e33efed78b34ad2901bcbab6a5e0ecb": {
      "model_module": "@jupyter-widgets/base",
      "model_module_version": "2.0.0",
      "model_name": "LayoutModel",
      "state": {
       "_model_module": "@jupyter-widgets/base",
       "_model_module_version": "2.0.0",
       "_model_name": "LayoutModel",
       "_view_count": null,
       "_view_module": "@jupyter-widgets/base",
       "_view_module_version": "2.0.0",
       "_view_name": "LayoutView",
       "align_content": null,
       "align_items": null,
       "align_self": null,
       "border_bottom": null,
       "border_left": null,
       "border_right": null,
       "border_top": null,
       "bottom": null,
       "display": null,
       "flex": null,
       "flex_flow": null,
       "grid_area": null,
       "grid_auto_columns": null,
       "grid_auto_flow": null,
       "grid_auto_rows": null,
       "grid_column": null,
       "grid_gap": null,
       "grid_row": null,
       "grid_template_areas": null,
       "grid_template_columns": null,
       "grid_template_rows": null,
       "height": null,
       "justify_content": null,
       "justify_items": null,
       "left": null,
       "margin": null,
       "max_height": null,
       "max_width": null,
       "min_height": null,
       "min_width": null,
       "object_fit": null,
       "object_position": null,
       "order": null,
       "overflow": null,
       "padding": null,
       "right": null,
       "top": null,
       "visibility": null,
       "width": null
      }
     },
     "3fa0efa9854d42c7ab7734682b48b6d4": {
      "model_module": "@jupyter-widgets/controls",
      "model_module_version": "2.0.0",
      "model_name": "HTMLStyleModel",
      "state": {
       "_model_module": "@jupyter-widgets/controls",
       "_model_module_version": "2.0.0",
       "_model_name": "HTMLStyleModel",
       "_view_count": null,
       "_view_module": "@jupyter-widgets/base",
       "_view_module_version": "2.0.0",
       "_view_name": "StyleView",
       "background": null,
       "description_width": "",
       "font_size": null,
       "text_color": null
      }
     },
     "415fbc937e124745b21661d4f1553502": {
      "model_module": "@jupyter-widgets/controls",
      "model_module_version": "2.0.0",
      "model_name": "ProgressStyleModel",
      "state": {
       "_model_module": "@jupyter-widgets/controls",
       "_model_module_version": "2.0.0",
       "_model_name": "ProgressStyleModel",
       "_view_count": null,
       "_view_module": "@jupyter-widgets/base",
       "_view_module_version": "2.0.0",
       "_view_name": "StyleView",
       "bar_color": null,
       "description_width": ""
      }
     },
     "55e05cce07db4568946e1b3556fd9c4c": {
      "model_module": "@jupyter-widgets/controls",
      "model_module_version": "2.0.0",
      "model_name": "HBoxModel",
      "state": {
       "_dom_classes": [],
       "_model_module": "@jupyter-widgets/controls",
       "_model_module_version": "2.0.0",
       "_model_name": "HBoxModel",
       "_view_count": null,
       "_view_module": "@jupyter-widgets/controls",
       "_view_module_version": "2.0.0",
       "_view_name": "HBoxView",
       "box_style": "",
       "children": [
        "IPY_MODEL_d1bfdc73ae884a659320e846d776df12",
        "IPY_MODEL_cf52501b62b249378bef77c4d99c4382",
        "IPY_MODEL_8dd5f3cf851e44ada8aa01f775d1e3a3"
       ],
       "layout": "IPY_MODEL_1c954deb1d1f4957b2324131ac4ca586",
       "tabbable": null,
       "tooltip": null
      }
     },
     "6834a61dd6ca42348d63f867d673345c": {
      "model_module": "@jupyter-widgets/base",
      "model_module_version": "2.0.0",
      "model_name": "LayoutModel",
      "state": {
       "_model_module": "@jupyter-widgets/base",
       "_model_module_version": "2.0.0",
       "_model_name": "LayoutModel",
       "_view_count": null,
       "_view_module": "@jupyter-widgets/base",
       "_view_module_version": "2.0.0",
       "_view_name": "LayoutView",
       "align_content": null,
       "align_items": null,
       "align_self": null,
       "border_bottom": null,
       "border_left": null,
       "border_right": null,
       "border_top": null,
       "bottom": null,
       "display": null,
       "flex": null,
       "flex_flow": null,
       "grid_area": null,
       "grid_auto_columns": null,
       "grid_auto_flow": null,
       "grid_auto_rows": null,
       "grid_column": null,
       "grid_gap": null,
       "grid_row": null,
       "grid_template_areas": null,
       "grid_template_columns": null,
       "grid_template_rows": null,
       "height": null,
       "justify_content": null,
       "justify_items": null,
       "left": null,
       "margin": null,
       "max_height": null,
       "max_width": null,
       "min_height": null,
       "min_width": null,
       "object_fit": null,
       "object_position": null,
       "order": null,
       "overflow": null,
       "padding": null,
       "right": null,
       "top": null,
       "visibility": null,
       "width": null
      }
     },
     "7eeb6168195342c0bbcc3f64b575181d": {
      "model_module": "@jupyter-widgets/base",
      "model_module_version": "2.0.0",
      "model_name": "LayoutModel",
      "state": {
       "_model_module": "@jupyter-widgets/base",
       "_model_module_version": "2.0.0",
       "_model_name": "LayoutModel",
       "_view_count": null,
       "_view_module": "@jupyter-widgets/base",
       "_view_module_version": "2.0.0",
       "_view_name": "LayoutView",
       "align_content": null,
       "align_items": null,
       "align_self": null,
       "border_bottom": null,
       "border_left": null,
       "border_right": null,
       "border_top": null,
       "bottom": null,
       "display": null,
       "flex": null,
       "flex_flow": null,
       "grid_area": null,
       "grid_auto_columns": null,
       "grid_auto_flow": null,
       "grid_auto_rows": null,
       "grid_column": null,
       "grid_gap": null,
       "grid_row": null,
       "grid_template_areas": null,
       "grid_template_columns": null,
       "grid_template_rows": null,
       "height": null,
       "justify_content": null,
       "justify_items": null,
       "left": null,
       "margin": null,
       "max_height": null,
       "max_width": null,
       "min_height": null,
       "min_width": null,
       "object_fit": null,
       "object_position": null,
       "order": null,
       "overflow": null,
       "padding": null,
       "right": null,
       "top": null,
       "visibility": null,
       "width": null
      }
     },
     "83e8298325d142fe9ca6f4810e90cec9": {
      "model_module": "@jupyter-widgets/controls",
      "model_module_version": "2.0.0",
      "model_name": "HTMLStyleModel",
      "state": {
       "_model_module": "@jupyter-widgets/controls",
       "_model_module_version": "2.0.0",
       "_model_name": "HTMLStyleModel",
       "_view_count": null,
       "_view_module": "@jupyter-widgets/base",
       "_view_module_version": "2.0.0",
       "_view_name": "StyleView",
       "background": null,
       "description_width": "",
       "font_size": null,
       "text_color": null
      }
     },
     "8dd5f3cf851e44ada8aa01f775d1e3a3": {
      "model_module": "@jupyter-widgets/controls",
      "model_module_version": "2.0.0",
      "model_name": "HTMLModel",
      "state": {
       "_dom_classes": [],
       "_model_module": "@jupyter-widgets/controls",
       "_model_module_version": "2.0.0",
       "_model_name": "HTMLModel",
       "_view_count": null,
       "_view_module": "@jupyter-widgets/controls",
       "_view_module_version": "2.0.0",
       "_view_name": "HTMLView",
       "description": "",
       "description_allow_html": false,
       "layout": "IPY_MODEL_3d36c933cb1842b28dc8b51a819488da",
       "placeholder": "​",
       "style": "IPY_MODEL_18de9c52c85e4f1bae473004356b8984",
       "tabbable": null,
       "tooltip": null,
       "value": " 36.5M/36.5M [00:00&lt;00:00, 202MB/s]"
      }
     },
     "90d2ed20f9274407bb75d3146c20e816": {
      "model_module": "@jupyter-widgets/controls",
      "model_module_version": "2.0.0",
      "model_name": "ProgressStyleModel",
      "state": {
       "_model_module": "@jupyter-widgets/controls",
       "_model_module_version": "2.0.0",
       "_model_name": "ProgressStyleModel",
       "_view_count": null,
       "_view_module": "@jupyter-widgets/base",
       "_view_module_version": "2.0.0",
       "_view_name": "StyleView",
       "bar_color": null,
       "description_width": ""
      }
     },
     "ab4e975386b744b8a0dc31417879c8f2": {
      "model_module": "@jupyter-widgets/controls",
      "model_module_version": "2.0.0",
      "model_name": "HTMLStyleModel",
      "state": {
       "_model_module": "@jupyter-widgets/controls",
       "_model_module_version": "2.0.0",
       "_model_name": "HTMLStyleModel",
       "_view_count": null,
       "_view_module": "@jupyter-widgets/base",
       "_view_module_version": "2.0.0",
       "_view_name": "StyleView",
       "background": null,
       "description_width": "",
       "font_size": null,
       "text_color": null
      }
     },
     "ae60464f30e24b8a97e8e4bd02795819": {
      "model_module": "@jupyter-widgets/controls",
      "model_module_version": "2.0.0",
      "model_name": "FloatProgressModel",
      "state": {
       "_dom_classes": [],
       "_model_module": "@jupyter-widgets/controls",
       "_model_module_version": "2.0.0",
       "_model_name": "FloatProgressModel",
       "_view_count": null,
       "_view_module": "@jupyter-widgets/controls",
       "_view_module_version": "2.0.0",
       "_view_name": "ProgressView",
       "bar_style": "success",
       "description": "",
       "description_allow_html": false,
       "layout": "IPY_MODEL_d36c691933d44de0a78f7fd4744b03bd",
       "max": 194838984.0,
       "min": 0.0,
       "orientation": "horizontal",
       "style": "IPY_MODEL_90d2ed20f9274407bb75d3146c20e816",
       "tabbable": null,
       "tooltip": null,
       "value": 194838984.0
      }
     },
     "cdc5c1261800429a94da136db6cec37b": {
      "model_module": "@jupyter-widgets/base",
      "model_module_version": "2.0.0",
      "model_name": "LayoutModel",
      "state": {
       "_model_module": "@jupyter-widgets/base",
       "_model_module_version": "2.0.0",
       "_model_name": "LayoutModel",
       "_view_count": null,
       "_view_module": "@jupyter-widgets/base",
       "_view_module_version": "2.0.0",
       "_view_name": "LayoutView",
       "align_content": null,
       "align_items": null,
       "align_self": null,
       "border_bottom": null,
       "border_left": null,
       "border_right": null,
       "border_top": null,
       "bottom": null,
       "display": null,
       "flex": null,
       "flex_flow": null,
       "grid_area": null,
       "grid_auto_columns": null,
       "grid_auto_flow": null,
       "grid_auto_rows": null,
       "grid_column": null,
       "grid_gap": null,
       "grid_row": null,
       "grid_template_areas": null,
       "grid_template_columns": null,
       "grid_template_rows": null,
       "height": null,
       "justify_content": null,
       "justify_items": null,
       "left": null,
       "margin": null,
       "max_height": null,
       "max_width": null,
       "min_height": null,
       "min_width": null,
       "object_fit": null,
       "object_position": null,
       "order": null,
       "overflow": null,
       "padding": null,
       "right": null,
       "top": null,
       "visibility": null,
       "width": null
      }
     },
     "cf52501b62b249378bef77c4d99c4382": {
      "model_module": "@jupyter-widgets/controls",
      "model_module_version": "2.0.0",
      "model_name": "FloatProgressModel",
      "state": {
       "_dom_classes": [],
       "_model_module": "@jupyter-widgets/controls",
       "_model_module_version": "2.0.0",
       "_model_name": "FloatProgressModel",
       "_view_count": null,
       "_view_module": "@jupyter-widgets/controls",
       "_view_module_version": "2.0.0",
       "_view_name": "ProgressView",
       "bar_style": "success",
       "description": "",
       "description_allow_html": false,
       "layout": "IPY_MODEL_7eeb6168195342c0bbcc3f64b575181d",
       "max": 36494688.0,
       "min": 0.0,
       "orientation": "horizontal",
       "style": "IPY_MODEL_415fbc937e124745b21661d4f1553502",
       "tabbable": null,
       "tooltip": null,
       "value": 36494688.0
      }
     },
     "d1bfdc73ae884a659320e846d776df12": {
      "model_module": "@jupyter-widgets/controls",
      "model_module_version": "2.0.0",
      "model_name": "HTMLModel",
      "state": {
       "_dom_classes": [],
       "_model_module": "@jupyter-widgets/controls",
       "_model_module_version": "2.0.0",
       "_model_name": "HTMLModel",
       "_view_count": null,
       "_view_module": "@jupyter-widgets/controls",
       "_view_module_version": "2.0.0",
       "_view_name": "HTMLView",
       "description": "",
       "description_allow_html": false,
       "layout": "IPY_MODEL_cdc5c1261800429a94da136db6cec37b",
       "placeholder": "​",
       "style": "IPY_MODEL_ab4e975386b744b8a0dc31417879c8f2",
       "tabbable": null,
       "tooltip": null,
       "value": "model.safetensors: 100%"
      }
     },
     "d36c691933d44de0a78f7fd4744b03bd": {
      "model_module": "@jupyter-widgets/base",
      "model_module_version": "2.0.0",
      "model_name": "LayoutModel",
      "state": {
       "_model_module": "@jupyter-widgets/base",
       "_model_module_version": "2.0.0",
       "_model_name": "LayoutModel",
       "_view_count": null,
       "_view_module": "@jupyter-widgets/base",
       "_view_module_version": "2.0.0",
       "_view_name": "LayoutView",
       "align_content": null,
       "align_items": null,
       "align_self": null,
       "border_bottom": null,
       "border_left": null,
       "border_right": null,
       "border_top": null,
       "bottom": null,
       "display": null,
       "flex": null,
       "flex_flow": null,
       "grid_area": null,
       "grid_auto_columns": null,
       "grid_auto_flow": null,
       "grid_auto_rows": null,
       "grid_column": null,
       "grid_gap": null,
       "grid_row": null,
       "grid_template_areas": null,
       "grid_template_columns": null,
       "grid_template_rows": null,
       "height": null,
       "justify_content": null,
       "justify_items": null,
       "left": null,
       "margin": null,
       "max_height": null,
       "max_width": null,
       "min_height": null,
       "min_width": null,
       "object_fit": null,
       "object_position": null,
       "order": null,
       "overflow": null,
       "padding": null,
       "right": null,
       "top": null,
       "visibility": null,
       "width": null
      }
     },
     "d3d14cd0f5cb442ab9028fba6a74e5d3": {
      "model_module": "@jupyter-widgets/controls",
      "model_module_version": "2.0.0",
      "model_name": "HTMLModel",
      "state": {
       "_dom_classes": [],
       "_model_module": "@jupyter-widgets/controls",
       "_model_module_version": "2.0.0",
       "_model_name": "HTMLModel",
       "_view_count": null,
       "_view_module": "@jupyter-widgets/controls",
       "_view_module_version": "2.0.0",
       "_view_name": "HTMLView",
       "description": "",
       "description_allow_html": false,
       "layout": "IPY_MODEL_3e33efed78b34ad2901bcbab6a5e0ecb",
       "placeholder": "​",
       "style": "IPY_MODEL_83e8298325d142fe9ca6f4810e90cec9",
       "tabbable": null,
       "tooltip": null,
       "value": "model.safetensors: 100%"
      }
     },
     "f0892635fae744809ba3334a30b16a41": {
      "model_module": "@jupyter-widgets/controls",
      "model_module_version": "2.0.0",
      "model_name": "HTMLModel",
      "state": {
       "_dom_classes": [],
       "_model_module": "@jupyter-widgets/controls",
       "_model_module_version": "2.0.0",
       "_model_name": "HTMLModel",
       "_view_count": null,
       "_view_module": "@jupyter-widgets/controls",
       "_view_module_version": "2.0.0",
       "_view_name": "HTMLView",
       "description": "",
       "description_allow_html": false,
       "layout": "IPY_MODEL_39e5e7799d8443a281ea89e4465b8934",
       "placeholder": "​",
       "style": "IPY_MODEL_3fa0efa9854d42c7ab7734682b48b6d4",
       "tabbable": null,
       "tooltip": null,
       "value": " 195M/195M [00:03&lt;00:00, 54.7MB/s]"
      }
     }
    },
    "version_major": 2,
    "version_minor": 0
   }
  }
 },
 "nbformat": 4,
 "nbformat_minor": 5
}
